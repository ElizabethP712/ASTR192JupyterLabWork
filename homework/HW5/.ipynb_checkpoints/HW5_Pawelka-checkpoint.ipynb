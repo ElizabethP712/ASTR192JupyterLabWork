{
 "cells": [
  {
   "cell_type": "markdown",
   "metadata": {},
   "source": [
    "**<font color='red'>Change the name from assignment_lastname to include YOUR last name</font>**. This will make sure that the assignment doesn't get overwritten when you do a git pull in class. "
   ]
  },
  {
   "cell_type": "markdown",
   "metadata": {},
   "source": [
    "# Homework 5B - the coding portion"
   ]
  },
  {
   "cell_type": "markdown",
   "metadata": {},
   "source": [
    "## Due: Monday, October 24 by 5pm"
   ]
  },
  {
   "cell_type": "markdown",
   "metadata": {},
   "source": [
    "Skills: Loops, lists, functions"
   ]
  },
  {
   "cell_type": "markdown",
   "metadata": {},
   "source": [
    "Turn in instructions:\n",
    "\n",
    "As long as you have this saved on the JupyterHub, I'll have access to it!"
   ]
  },
  {
   "cell_type": "markdown",
   "metadata": {},
   "source": [
    "Always start with your import statement!"
   ]
  },
  {
   "cell_type": "code",
   "execution_count": 12,
   "metadata": {},
   "outputs": [],
   "source": [
    "import numpy as np"
   ]
  },
  {
   "cell_type": "markdown",
   "metadata": {},
   "source": [
    "**Please read before completing exercise 1**\n",
    "Functions are a really useful tool for automating tasks that you want to do over and over again. For this first excercise, we will be building up to writing a function that calculates the Schwartzchild radius, or the size of the event horizon, of a black hole. You can read up a bit more on the Schwartzchild radius [here](http://www.astronomy.ohio-state.edu/~thompson/1144/Lecture19.html) if you would like. The only thing you're really going to need to know is the equation use to calculate the Schwartzchild radius: <br>\n",
    "$R_{S} = \\frac{2\\ G\\ M_{BH}}{c^{2}}$ <br>\n",
    "Where $R_{S}$ is the Schwartzchild radius, or radius of the event horizon. $G$ is the gravitational constant, a physical constant used to calculate gravitational effects. $M_{BH}$ is the mass of the black hole and $c$ is the speed of light, another physical constant."
   ]
  },
  {
   "cell_type": "markdown",
   "metadata": {},
   "source": [
    "First, we need to define our constants: $G$ and $c$. I'm putting in the values for you below, you just need to execute the cell. Note that astronomers use a base set of units called ``cgs``, short for centimeters-grams-seconds. Many of you might be familiar with SI units from a physics class which uses meters-kilograms-seconds. We keep all constants in the same base units to avoid doing too much unit conversion."
   ]
  },
  {
   "cell_type": "code",
   "execution_count": 13,
   "metadata": {},
   "outputs": [],
   "source": [
    "G = 6.6725985E-8 #cm^3 g^-1 s^-2\n",
    "c = 2.99792458E10 #cm s^-1"
   ]
  },
  {
   "cell_type": "markdown",
   "metadata": {},
   "source": [
    "**1)**\n",
    "Use the equation above to calculate the size of the Schwartzchild radius for a black hole with a mass of 10$M_{\\odot}$. Note that $1 M_{\\odot}=1.99 \\times 10^{33}$ grams. You will need to multiply 10 by this conversion factor to use the constants above and have your units work out."
   ]
  },
  {
   "cell_type": "code",
   "execution_count": 14,
   "metadata": {},
   "outputs": [
    {
     "name": "stdout",
     "output_type": "stream",
     "text": [
      "2954858.303829219\n"
     ]
    }
   ],
   "source": [
    "MBH = 10 * (1.99*(10**33)) #g\n",
    "Schwartzchild_radius = (2 * G * MBH) / (c**2)\n",
    "print(Schwartzchild_radius)\n",
    "#What would a cleaner way to do this be?"
   ]
  },
  {
   "cell_type": "markdown",
   "metadata": {},
   "source": [
    "**2)**\n",
    "Write a function called `calc_schwarzschild_radius` that takes in a black hole mass in grams and returns the Schwartzchild radius in centimeters. Please refer to our in class notebook on functions if you need to remember the structure a function has in python. Run your function and print out the Schwartzchild radius of a black hole with a mass of $1M_{\\odot}$."
   ]
  },
  {
   "cell_type": "code",
   "execution_count": 15,
   "metadata": {},
   "outputs": [],
   "source": [
    "# Define your function in this cell\n",
    "def calc_sc_radius(mass_bh):\n",
    "    \"\"\"This function calculates the Schwartzchild radius given a black hole mass, mass_bh in solar mass.\"\"\"\n",
    "    return 2*G*(mass_bh*1.99*(10**33))/(c**2) #G and c were defined in a cell run before this one; please enter your mass of black holes in 𝑀⊙. The output will be in centimeters."
   ]
  },
  {
   "cell_type": "code",
   "execution_count": 16,
   "metadata": {},
   "outputs": [
    {
     "name": "stdout",
     "output_type": "stream",
     "text": [
      "295485.8303829219\n"
     ]
    }
   ],
   "source": [
    "# Run your function with an input of a single solar mass in this cell\n",
    "schwarzschild_radius_MBH1 = calc_sc_radius(1) \n",
    "print(schwarzschild_radius_MBH1) #cm"
   ]
  },
  {
   "cell_type": "markdown",
   "metadata": {},
   "source": [
    "**3)** Copy your function into the cell below and modify it so that it returns the Schwartzchild radius in both cm and solar radii (X times the radius of the Sun). *Hint: $1 R_{\\odot}=6.96 \\times 10^{10}$ cm.*"
   ]
  },
  {
   "cell_type": "code",
   "execution_count": 17,
   "metadata": {},
   "outputs": [],
   "source": [
    "# Define your function in this cell\n",
    "def calc_sc_radius(mass_bh):\n",
    "    \"\"\"This function calculates the Schwartzchild radius given a black hole mass in solar mass, x.\n",
    "        input = black hole mass in solar mass (integer/float)\n",
    "        output = the Schwartzchild radius in centimeters and solar radii (float)\"\"\"\n",
    "    calc_sc_radius_𝑀 = 2*G*(mass_bh*1.99*(10**33))/(c**2) #Result in cm\n",
    "    calc_sc_radius_𝑅 = calc_sc_radius_𝑀 / (6.96*(10**10)) #Result in solar radii; could use 6.96e10 instead\n",
    "    return calc_sc_radius_𝑀, calc_sc_radius_𝑅 #G and c were defined in a cell run before this one; please enter your mass of black holes in 𝑀⊙."
   ]
  },
  {
   "cell_type": "code",
   "execution_count": 18,
   "metadata": {},
   "outputs": [
    {
     "name": "stdout",
     "output_type": "stream",
     "text": [
      "(295485.8303829219, 4.2454860687201425e-06)\n"
     ]
    }
   ],
   "source": [
    "# Run your function with an input of a single solar mass in this cell\n",
    "schwarzschild_radius_MBH1 = calc_sc_radius(1)\n",
    "print (schwarzschild_radius_MBH1)"
   ]
  },
  {
   "cell_type": "markdown",
   "metadata": {},
   "source": [
    "**4)** Now imagine that we could make a black hole out of the Earth (we can't). The mass of the Earth is $5.9 \\times 10^{27}$ grams. Calculate what the Earth's mass is in terms of solar masses and then use your function to calculate the Schwarzschild radius the Earth would have if it could collapse into a black hole. You can use <a href=https://www.wolframalpha.com/>WolframAlpha</a>, an online calculator to work with units. If you type in the value and the units (e.g., 10 kg) WolframAlpha will give you some other things that have around that value. What other things are around the size that Earth would need to be to collapse into a black hole?"
   ]
  },
  {
   "cell_type": "code",
   "execution_count": 24,
   "metadata": {},
   "outputs": [
    {
     "name": "stdout",
     "output_type": "stream",
     "text": [
      "2.9648241206030153e-06\n",
      "(0.8760635172156983, 1.258711950022555e-11)\n",
      "(0.8760635172156983, 1.258711950022555e-11)\n"
     ]
    }
   ],
   "source": [
    "# Run your function for the Earth's mass in units of solar masses \n",
    "EMG = 5.9*(10**27) #Earth's mass in grams\n",
    "SM_conv_fac = 1.99*(10**33) #In 𝑀⊙ (Solar masses)\n",
    "Earth_mass = EMG / SM_conv_fac #In solar masses converted from grams\n",
    "print(Earth_mass) #In solar masses\n",
    "\n",
    "schwarzschild_radius_ME1 = calc_sc_radius(Earth_mass) #I am assuming the Earth's mass is equal to the black hole's mass and it should be in grams initially since the conversion is built into the function.\n",
    "print (schwarzschild_radius_ME1)\n",
    "\n",
    "#The first number is in cm, the second in solar radii and represents the Schwarzschild radius."
   ]
  },
  {
   "cell_type": "code",
   "execution_count": 22,
   "metadata": {},
   "outputs": [],
   "source": [
    "#The other things that would have around that amount ≈ 0.92 × radius of a US penny coin ( 0.375 in ) or  ≈ (0.7 to 1.5) × inner radius of a ring ( 0.1592 inner circumferences of a ring ); essentially you would have to have more mass compacted into a much smaller space!"
   ]
  },
  {
   "cell_type": "markdown",
   "metadata": {},
   "source": [
    "**5)**\n",
    "The mass of the black hole in the center of M87 that was measured by the Event Horizon Telescope team is $6.5\\times 10^{9} M_{\\odot}$. Calculate the radius of the event horizon for this black hole in both centimeters and solar radii."
   ]
  },
  {
   "cell_type": "code",
   "execution_count": 23,
   "metadata": {},
   "outputs": [
    {
     "name": "stdout",
     "output_type": "stream",
     "text": [
      "(1920657897488992.5, 27595.659446680926)\n"
     ]
    }
   ],
   "source": [
    "# Calculate the radius here\n",
    "M87_BHM = 6.5 * (10**9) #In solar mass\n",
    "schwarzschild_radius_M87 = calc_sc_radius(M87_BHM)\n",
    "print(schwarzschild_radius_M87) #The first outputed value is in cm, and the second is in solar radii."
   ]
  },
  {
   "cell_type": "markdown",
   "metadata": {},
   "source": [
    "**6)** The ring diameter of M87 is given as ~$42 \\mu$as, or 42 micro-arcseconds. An arcsecond is a unit we us in astronomy to measure how big something looks on the sky. The size of an object in the sky depends on both the size of the object itself and its distance away from us. You can calculate the angular size of an object using the following equation: <br>\n",
    "$\\theta = \\frac{d\\ \\times\\ 206264}{D}$ arcseconds<br>\n",
    "Where $\\theta$ is the angular size of the object in arcseconds. The factor of 206,264 in the equation converts from radians to arcseconds for you. $d$ is the physical diameter of the object and D is the distance to that object. You need both $d$ and $D$ to be given in the same units. Here we will use centimeters. <br>\n",
    "\n",
    "Write a function called `calc_angular_size` that takes in the DIAMETER (not the radius) of an object in centimeters and the distance to that object in centimeters and returns its angular size in arcseconds. The distance to M87 is ~ $5 \\times 10^{25}$ centimeters. Use your function to print out the angular size of the black hole in M87 in arcseconds. Use the radius you calculated in the question above and the distance to M87 listed above for your calculations."
   ]
  },
  {
   "cell_type": "code",
   "execution_count": 24,
   "metadata": {},
   "outputs": [],
   "source": [
    "# Write your function here\n",
    "def calc_angular_size (d,D):\n",
    "    \"\"\"This function will take the diameter of an object (d) and distance (D) to that object both in centimeters and provides angular size in arcseconds\"\"\"\n",
    "    angular_size = (d * 206264)/D \n",
    "    return angular_size"
   ]
  },
  {
   "cell_type": "code",
   "execution_count": 25,
   "metadata": {},
   "outputs": [
    {
     "name": "stdout",
     "output_type": "stream",
     "text": [
      "3841315794977985.0\n",
      "1.584650322270678e-05\n"
     ]
    }
   ],
   "source": [
    "# Run your function here\n",
    "d = 2*1920657897488992.5 #In centimeters from above! How might I be able to use variables instead of copying and pasting numbers here?\n",
    "print(d) #In centimeters\n",
    "D = 5*(10**25) #In centimeters\n",
    "angular_size_M87 = calc_angular_size (d,D) #In arcseconds\n",
    "print(angular_size_M87) #In arcseconds"
   ]
  },
  {
   "cell_type": "markdown",
   "metadata": {},
   "source": [
    "**7)** Add a doc-string to your function `schwarzschild_radius` with instructions for a future user (or future you!). Doc-strings are REALLY important when working on a long term research project. You will likely need to go back to code you write a couple of weeks/months/years ago and you need to understand what it does. In addition to adding doc-strings, make sure you comment your code. I always add comments with units for constants, because this can help clarify bugs later on! Check back to your functions notebook from class if you need to remember the syntax for adding a doc-string."
   ]
  },
  {
   "cell_type": "code",
   "execution_count": 26,
   "metadata": {},
   "outputs": [
    {
     "name": "stdout",
     "output_type": "stream",
     "text": [
      "3841315794977985.0\n",
      "1.584650322270678e-05\n"
     ]
    }
   ],
   "source": [
    "# Write your function here, with docstrings and comments (I have been doing that all along, so here is a copy of what I said made a little neater):\n",
    "def calc_angular_size (d,D):\n",
    "    \"\"\"This function will take the diameter of an object (d) and distance (D) to that object both in centimeters and provides angular size in arcseconds\n",
    "        input: d & D is an integer/float\n",
    "        output: angular_size is an integer/float\"\"\"\n",
    "    angular_size = (d * 206264)/D \n",
    "    return angular_size\n",
    "d = 2*1920657897488992.5 #diameter of M87 in centimeters from above! How might I be able to use variables instead of copying and pasting numbers here?\n",
    "print(d) #diameter of object (M87) in centimeters\n",
    "D = 5*(10**25) #Distance to to object (M87) In centimeters\n",
    "angular_size_M87 = calc_angular_size (d,D) #Angular size of object (M87) In arcseconds\n",
    "print(angular_size_M87) #See comment above; this is the same thing just printed."
   ]
  },
  {
   "cell_type": "markdown",
   "metadata": {},
   "source": [
    "Now use the Jupyter notebook help functionality to view your doc string for your new function! If you execute the cell below like you do when you're running code, the information in your doc-string should show up."
   ]
  },
  {
   "cell_type": "code",
   "execution_count": 25,
   "metadata": {},
   "outputs": [
    {
     "data": {
      "text/plain": [
       "\u001b[0;31mSignature:\u001b[0m \u001b[0mcalc_sc_radius\u001b[0m\u001b[0;34m(\u001b[0m\u001b[0mmass_bh\u001b[0m\u001b[0;34m)\u001b[0m\u001b[0;34m\u001b[0m\u001b[0;34m\u001b[0m\u001b[0m\n",
       "\u001b[0;31mDocstring:\u001b[0m This function calculates the Schwartzchild radius given a black hole mass, x.\n",
       "\u001b[0;31mFile:\u001b[0m      /tmp/ipykernel_71/144933293.py\n",
       "\u001b[0;31mType:\u001b[0m      function\n"
      ]
     },
     "metadata": {},
     "output_type": "display_data"
    }
   ],
   "source": [
    "calc_sc_radius?"
   ]
  },
  {
   "cell_type": "code",
   "execution_count": 26,
   "metadata": {},
   "outputs": [
    {
     "data": {
      "text/plain": [
       "\u001b[0;31mSignature:\u001b[0m \u001b[0mcalc_angular_size\u001b[0m\u001b[0;34m(\u001b[0m\u001b[0md\u001b[0m\u001b[0;34m,\u001b[0m \u001b[0mD\u001b[0m\u001b[0;34m)\u001b[0m\u001b[0;34m\u001b[0m\u001b[0;34m\u001b[0m\u001b[0m\n",
       "\u001b[0;31mDocstring:\u001b[0m This function will take the diameter of an object (d) and distance (D) to that object both in centimeters and provides angular size in arcseconds\n",
       "\u001b[0;31mFile:\u001b[0m      /tmp/ipykernel_71/47364171.py\n",
       "\u001b[0;31mType:\u001b[0m      function\n"
      ]
     },
     "metadata": {},
     "output_type": "display_data"
    }
   ],
   "source": [
    "calc_angular_size?"
   ]
  },
  {
   "cell_type": "markdown",
   "metadata": {},
   "source": [
    "**8)**\n",
    "Now, let's incorporate some lists and loops to utilize our functions! Create a numpy array called `masses` that contains 10 values between 10 and 1,000,000 spaced logarithmically (there is a `numpy` function for this, be sure to read the documentation on that function carefully, it uses the arguments differently than linspace does). These values will be the masses of 10 black holes, for which we want to calculate the Schwarzschild radius. <br>"
   ]
  },
  {
   "cell_type": "code",
   "execution_count": 27,
   "metadata": {},
   "outputs": [
    {
     "name": "stdout",
     "output_type": "stream",
     "text": [
      "[1.00000000e+01 3.59381366e+01 1.29154967e+02 4.64158883e+02\n",
      " 1.66810054e+03 5.99484250e+03 2.15443469e+04 7.74263683e+04\n",
      " 2.78255940e+05 1.00000000e+06]\n"
     ]
    }
   ],
   "source": [
    "# Create your numpy array in this cell\n",
    "masses_list = np.logspace(1,6,10)\n",
    "print(masses_list)\n",
    "\n",
    "#Need help understanding the manual...\n",
    "import numpy as np"
   ]
  },
  {
   "cell_type": "code",
   "execution_count": null,
   "metadata": {},
   "outputs": [],
   "source": [
    "#Notes:\n",
    "np.linspace?\n",
    "print(np.linspace(0,50))\n",
    "pfing9np.linspace(0,10,num=11,endpoint=False)"
   ]
  },
  {
   "cell_type": "code",
   "execution_count": 34,
   "metadata": {},
   "outputs": [
    {
     "data": {
      "text/plain": [
       "\u001b[0;31mSignature:\u001b[0m\n",
       "\u001b[0mnp\u001b[0m\u001b[0;34m.\u001b[0m\u001b[0mlogspace\u001b[0m\u001b[0;34m(\u001b[0m\u001b[0;34m\u001b[0m\n",
       "\u001b[0;34m\u001b[0m    \u001b[0mstart\u001b[0m\u001b[0;34m,\u001b[0m\u001b[0;34m\u001b[0m\n",
       "\u001b[0;34m\u001b[0m    \u001b[0mstop\u001b[0m\u001b[0;34m,\u001b[0m\u001b[0;34m\u001b[0m\n",
       "\u001b[0;34m\u001b[0m    \u001b[0mnum\u001b[0m\u001b[0;34m=\u001b[0m\u001b[0;36m50\u001b[0m\u001b[0;34m,\u001b[0m\u001b[0;34m\u001b[0m\n",
       "\u001b[0;34m\u001b[0m    \u001b[0mendpoint\u001b[0m\u001b[0;34m=\u001b[0m\u001b[0;32mTrue\u001b[0m\u001b[0;34m,\u001b[0m\u001b[0;34m\u001b[0m\n",
       "\u001b[0;34m\u001b[0m    \u001b[0mbase\u001b[0m\u001b[0;34m=\u001b[0m\u001b[0;36m10.0\u001b[0m\u001b[0;34m,\u001b[0m\u001b[0;34m\u001b[0m\n",
       "\u001b[0;34m\u001b[0m    \u001b[0mdtype\u001b[0m\u001b[0;34m=\u001b[0m\u001b[0;32mNone\u001b[0m\u001b[0;34m,\u001b[0m\u001b[0;34m\u001b[0m\n",
       "\u001b[0;34m\u001b[0m    \u001b[0maxis\u001b[0m\u001b[0;34m=\u001b[0m\u001b[0;36m0\u001b[0m\u001b[0;34m,\u001b[0m\u001b[0;34m\u001b[0m\n",
       "\u001b[0;34m\u001b[0m\u001b[0;34m)\u001b[0m\u001b[0;34m\u001b[0m\u001b[0;34m\u001b[0m\u001b[0m\n",
       "\u001b[0;31mDocstring:\u001b[0m\n",
       "Return numbers spaced evenly on a log scale.\n",
       "\n",
       "In linear space, the sequence starts at ``base ** start``\n",
       "(`base` to the power of `start`) and ends with ``base ** stop``\n",
       "(see `endpoint` below).\n",
       "\n",
       ".. versionchanged:: 1.16.0\n",
       "    Non-scalar `start` and `stop` are now supported.\n",
       "\n",
       "Parameters\n",
       "----------\n",
       "start : array_like\n",
       "    ``base ** start`` is the starting value of the sequence.\n",
       "stop : array_like\n",
       "    ``base ** stop`` is the final value of the sequence, unless `endpoint`\n",
       "    is False.  In that case, ``num + 1`` values are spaced over the\n",
       "    interval in log-space, of which all but the last (a sequence of\n",
       "    length `num`) are returned.\n",
       "num : integer, optional\n",
       "    Number of samples to generate.  Default is 50.\n",
       "endpoint : boolean, optional\n",
       "    If true, `stop` is the last sample. Otherwise, it is not included.\n",
       "    Default is True.\n",
       "base : array_like, optional\n",
       "    The base of the log space. The step size between the elements in\n",
       "    ``ln(samples) / ln(base)`` (or ``log_base(samples)``) is uniform.\n",
       "    Default is 10.0.\n",
       "dtype : dtype\n",
       "    The type of the output array.  If `dtype` is not given, the data type\n",
       "    is inferred from `start` and `stop`. The inferred type will never be\n",
       "    an integer; `float` is chosen even if the arguments would produce an\n",
       "    array of integers.\n",
       "axis : int, optional\n",
       "    The axis in the result to store the samples.  Relevant only if start\n",
       "    or stop are array-like.  By default (0), the samples will be along a\n",
       "    new axis inserted at the beginning. Use -1 to get an axis at the end.\n",
       "\n",
       "    .. versionadded:: 1.16.0\n",
       "\n",
       "\n",
       "Returns\n",
       "-------\n",
       "samples : ndarray\n",
       "    `num` samples, equally spaced on a log scale.\n",
       "\n",
       "See Also\n",
       "--------\n",
       "arange : Similar to linspace, with the step size specified instead of the\n",
       "         number of samples. Note that, when used with a float endpoint, the\n",
       "         endpoint may or may not be included.\n",
       "linspace : Similar to logspace, but with the samples uniformly distributed\n",
       "           in linear space, instead of log space.\n",
       "geomspace : Similar to logspace, but with endpoints specified directly.\n",
       "\n",
       "Notes\n",
       "-----\n",
       "Logspace is equivalent to the code\n",
       "\n",
       ">>> y = np.linspace(start, stop, num=num, endpoint=endpoint)\n",
       "... # doctest: +SKIP\n",
       ">>> power(base, y).astype(dtype)\n",
       "... # doctest: +SKIP\n",
       "\n",
       "Examples\n",
       "--------\n",
       ">>> np.logspace(2.0, 3.0, num=4)\n",
       "array([ 100.        ,  215.443469  ,  464.15888336, 1000.        ])\n",
       ">>> np.logspace(2.0, 3.0, num=4, endpoint=False)\n",
       "array([100.        ,  177.827941  ,  316.22776602,  562.34132519])\n",
       ">>> np.logspace(2.0, 3.0, num=4, base=2.0)\n",
       "array([4.        ,  5.0396842 ,  6.34960421,  8.        ])\n",
       "\n",
       "Graphical illustration:\n",
       "\n",
       ">>> import matplotlib.pyplot as plt\n",
       ">>> N = 10\n",
       ">>> x1 = np.logspace(0.1, 1, N, endpoint=True)\n",
       ">>> x2 = np.logspace(0.1, 1, N, endpoint=False)\n",
       ">>> y = np.zeros(N)\n",
       ">>> plt.plot(x1, y, 'o')\n",
       "[<matplotlib.lines.Line2D object at 0x...>]\n",
       ">>> plt.plot(x2, y + 0.5, 'o')\n",
       "[<matplotlib.lines.Line2D object at 0x...>]\n",
       ">>> plt.ylim([-0.5, 1])\n",
       "(-0.5, 1)\n",
       ">>> plt.show()\n",
       "\u001b[0;31mFile:\u001b[0m      /opt/conda/lib/python3.9/site-packages/numpy/core/function_base.py\n",
       "\u001b[0;31mType:\u001b[0m      function\n"
      ]
     },
     "metadata": {},
     "output_type": "display_data"
    }
   ],
   "source": [
    "#Notes:\n",
    "np.logspace?\n",
    "print(np.logspace(1, 10, 11) #It is spaced in bases of 10, so the first is 10^1, and 10^10, and gives you 11 values.\n",
    "print(np.linspace(10, 10**10, 10)) #1, 10, 100, and 1000 linearily spaced is greater"
   ]
  },
  {
   "cell_type": "markdown",
   "metadata": {},
   "source": [
    "For this assignment you will create two different `for` loops in the cells below. Write the first `for` loop in the first cell, and the second `for` loop in the second cell. Both loops will be `for` loops that run your `calc_schwarzschild_radius` function on each black hole mass in the array you created above, assuming the masses are in solar mass units. You should include a `print` statement in each loop before you call the `calc_schwarzschild_radius` function that prints out the current black hole mass. <br>\n",
    "\n",
    "Look back at the notebook titled `05-control_flow_Lastname` and scroll to Example 7. **First**, you will make a `for` loop that follows the syntax of the first loop in that example (`for price in prices_list:`). **Second**, you will make a `for` loop that follows the syntax in the next code cell (`for i in range(5):`) where the range is the length of your `masses` array."
   ]
  },
  {
   "cell_type": "code",
   "execution_count": 29,
   "metadata": {},
   "outputs": [
    {
     "name": "stdout",
     "output_type": "stream",
     "text": [
      "(2954858.303829219, 4.2454860687201425e-05)\n",
      "(10619210.146908013, 0.0001525748584325864)\n",
      "(38163462.52477076, 0.0005483256109880857)\n",
      "(137152373.07961708, 0.001970580072983004)\n",
      "(492900072.3967576, 0.0070818975919074365)\n",
      "(1771391015.0697565, 0.02545102033146202)\n",
      "(6366049233.898448, 0.09146622462497771)\n",
      "(22878394721.23722, 0.3287125678338681)\n",
      "(82220687555.09793, 1.18133171774566)\n",
      "(295485830382.9219, 4.245486068720142)\n"
     ]
    }
   ],
   "source": [
    "# Write your for loop that follows the \"for price in prices_list\" syntax here\n",
    "for masses in masses_list:\n",
    "    print(calc_sc_radius(masses)) #Assuming the masses of the list made above are in solar mass units; the first value for each element is the radius in centimeters while the second is the radius in solar radii."
   ]
  },
  {
   "cell_type": "code",
   "execution_count": 34,
   "metadata": {},
   "outputs": [
    {
     "name": "stdout",
     "output_type": "stream",
     "text": [
      "10\n",
      "(2954858.303829219, 4.2454860687201425e-05)\n",
      "(10619210.146908013, 0.0001525748584325864)\n",
      "(38163462.52477076, 0.0005483256109880857)\n",
      "(137152373.07961708, 0.001970580072983004)\n",
      "(492900072.3967576, 0.0070818975919074365)\n",
      "(1771391015.0697565, 0.02545102033146202)\n",
      "(6366049233.898448, 0.09146622462497771)\n",
      "(22878394721.23722, 0.3287125678338681)\n",
      "(82220687555.09793, 1.18133171774566)\n",
      "(295485830382.9219, 4.245486068720142)\n"
     ]
    }
   ],
   "source": [
    "# Write your for loop that follows the \"for i in range(5):\" syntax here\n",
    "number_of_masses = len(masses_list)\n",
    "print(number_of_masses)\n",
    "for masses in range(number_of_masses):\n",
    "    print(calc_sc_radius(masses_list[masses]))"
   ]
  },
  {
   "cell_type": "markdown",
   "metadata": {},
   "source": [
    "**9)**\n",
    "Now copy your second `for` loop from the previous question into the cell below and edit it so that you only print out the black hole mass for the even-indexed black hole masses (indexes of 0, 2, 4, ...). You still want to calculate the Schwarzschild radius for each black hole mass."
   ]
  },
  {
   "cell_type": "code",
   "execution_count": 36,
   "metadata": {},
   "outputs": [
    {
     "name": "stdout",
     "output_type": "stream",
     "text": [
      "(2954858.303829219, 4.2454860687201425e-05)\n",
      "(38163462.52477076, 0.0005483256109880857)\n",
      "(492900072.3967576, 0.0070818975919074365)\n",
      "(6366049233.898448, 0.09146622462497771)\n",
      "(82220687555.09793, 1.18133171774566)\n"
     ]
    }
   ],
   "source": [
    "# Print out the Schwarzschild radius for the even-indexed black hole masses here\n",
    "for masses in range(number_of_masses):\n",
    "    if masses % 2 == 0:\n",
    "        print(calc_sc_radius(masses_list[masses]))"
   ]
  }
 ],
 "metadata": {
  "kernelspec": {
   "display_name": "Python 3 (ipykernel)",
   "language": "python",
   "name": "python3"
  },
  "language_info": {
   "codemirror_mode": {
    "name": "ipython",
    "version": 3
   },
   "file_extension": ".py",
   "mimetype": "text/x-python",
   "name": "python",
   "nbconvert_exporter": "python",
   "pygments_lexer": "ipython3",
   "version": "3.9.7"
  }
 },
 "nbformat": 4,
 "nbformat_minor": 4
}
