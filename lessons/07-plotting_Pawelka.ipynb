{
 "cells": [
  {
   "cell_type": "markdown",
   "metadata": {},
   "source": [
    "[Pre-MAP Course Website](http://depts.washington.edu/premap/cohort-18-2022-seminar/) | [Pre-MAP GitHub](https://github.com/UWPreMAP/PreMAP2022) | [Google](https://www.google.com)\n",
    "\n",
    "### Each time you access the PreMAP2022 directory make sure your files are up to date\n",
    "1. Open up a terminal tab (New -> Terminal). Change directories into the PreMAP2022 directory, do this via:\n",
    "```bash\n",
    "cd PreMAP2022\n",
    "```\n",
    "2. Update the directory to get any newly added files by running in the terminal:\n",
    "```bash\n",
    "git pull\n",
    "```\n",
    "3. If you're having an issue with your ```git pull``` try running ```git fetch``` first!"
   ]
  },
  {
   "cell_type": "markdown",
   "metadata": {
    "jp-MarkdownHeadingCollapsed": true,
    "tags": []
   },
   "source": [
    "# Vocabulary for today\n",
    "\n",
    "<b><ul>\n",
    "    <li>spline</li>\n",
    "    <li>resolution</li>\n",
    "    <li>format string</li>\n",
    "    <li>keyword arguments</li>\n",
    "    <li>hex code</li>\n",
    "    <li>linear spacing</li>\n",
    "    <li>logarithmic spacing</li>\n",
    "    <li>subplots</li>\n",
    "    </ul></b>"
   ]
  },
  {
   "cell_type": "markdown",
   "metadata": {},
   "source": [
    "# Plotting with `matplotlib` \n",
    "\n",
    "*examples in this notebook are based on Nicholas Hunt-Walker's [plotting tutorial](https://github.com/nhuntwalker/teaching/blob/master/plotting_in_python.ipynb) and Jake VanderPlas' [matplotlib tutorial](https://github.com/jakevdp/2014_fall_ASTR599/blob/master/notebooks/06_MatplotlibIntro.ipynb) check these out if you want to read more about plotting with matplotlib* \n",
    "\n",
    "In this notebook we will learn how to make basic plots, how to customize these plots to display data the way we want to, how to make log-plots, and how to have many plots at once.\n",
    "\n",
    "`matplotlib` is a huge and incredibly important python library that handles all things plotting. Most of the time you'll only be working with a subset of `matplotlib` called `pyplot`, let's import it!"
   ]
  },
  {
   "cell_type": "code",
   "execution_count": 1,
   "metadata": {},
   "outputs": [],
   "source": [
    "import matplotlib.pyplot as plt\n",
    "import numpy as np\n",
    "# Remember that because we imported as plt\n",
    "# then we can call functions with plt.NAME_OF_FUNCTION\n",
    "\n",
    "# I'm also using this \"magic\" function to make my plots appear in this notebook\n",
    "# Only do this when working with Jupyter notebooks\n",
    "%matplotlib inline"
   ]
  },
  {
   "cell_type": "code",
   "execution_count": 2,
   "metadata": {},
   "outputs": [
    {
     "data": {
      "text/plain": [
       "<module 'matplotlib.pyplot' from '/opt/conda/lib/python3.9/site-packages/matplotlib/pyplot.py'>"
      ]
     },
     "execution_count": 2,
     "metadata": {},
     "output_type": "execute_result"
    }
   ],
   "source": [
    "plt"
   ]
  },
  {
   "cell_type": "markdown",
   "metadata": {},
   "source": [
    "## Basic Plot Command\n",
    "\n",
    "The fundamental function in matplotlibt is `plt.plot(x,y)`. This will plot points and connect them, where the (x,y) values of the points are given by the values in the arrays `x` and `y`.\n",
    "\n",
    "To start getting plotted let's define an `x` and `y` array."
   ]
  },
  {
   "cell_type": "code",
   "execution_count": 3,
   "metadata": {},
   "outputs": [],
   "source": [
    "import numpy as np"
   ]
  },
  {
   "cell_type": "code",
   "execution_count": 4,
   "metadata": {},
   "outputs": [
    {
     "name": "stdout",
     "output_type": "stream",
     "text": [
      "[1 2 3 4 5]\n"
     ]
    }
   ],
   "source": [
    "x = np.array([1,2,3,4,5])\n",
    "print(x)"
   ]
  },
  {
   "cell_type": "markdown",
   "metadata": {},
   "source": [
    "Let's try plotting a relatively simple equation:\n",
    "$\\begin{equation}\n",
    "y = x\n",
    "\\end{equation}$\n",
    "\n",
    "we can do this in code by just defining a variable `y` as so"
   ]
  },
  {
   "cell_type": "code",
   "execution_count": 5,
   "metadata": {},
   "outputs": [
    {
     "name": "stdout",
     "output_type": "stream",
     "text": [
      "[1 2 3 4 5]\n"
     ]
    }
   ],
   "source": [
    "y = x\n",
    "print(y)"
   ]
  },
  {
   "cell_type": "markdown",
   "metadata": {},
   "source": [
    "Now that we've got an `x` array and a `y` array, let's see what the `plt.plot` function will do."
   ]
  },
  {
   "cell_type": "code",
   "execution_count": 6,
   "metadata": {},
   "outputs": [
    {
     "data": {
      "text/plain": [
       "[<matplotlib.lines.Line2D at 0x7f6fc799b280>]"
      ]
     },
     "execution_count": 6,
     "metadata": {},
     "output_type": "execute_result"
    },
    {
     "data": {
      "image/png": "[encoded data removed]",
      "text/plain": [
       "<Figure size 432x288 with 1 Axes>"
      ]
     },
     "metadata": {
      "needs_background": "light"
     },
     "output_type": "display_data"
    }
   ],
   "source": [
    "plt.plot(x,y)\n",
    "# Remember that when you call a function, you must use parentheses\n",
    "# that enclose around the arguments that the function will take\n",
    "#But x and y can be called anything."
   ]
  },
  {
   "cell_type": "code",
   "execution_count": 7,
   "metadata": {},
   "outputs": [],
   "source": [
    "#Why was it drawing a line when you gave it points."
   ]
  },
  {
   "cell_type": "markdown",
   "metadata": {},
   "source": [
    "There it is! $y=x$, your first (of what will likely be many) plot!\n",
    "\n",
    "$y=x$ is pretty nice, but let's get a little more fancy and try plotting $y = x^2$"
   ]
  },
  {
   "cell_type": "code",
   "execution_count": 8,
   "metadata": {},
   "outputs": [
    {
     "name": "stdout",
     "output_type": "stream",
     "text": [
      "[ 1  4  9 16 25]\n"
     ]
    }
   ],
   "source": [
    "y = np.power(x, 2)\n",
    "#Confused about what's going on in this line? try running the cell below\n",
    "print(y)"
   ]
  },
  {
   "cell_type": "code",
   "execution_count": 9,
   "metadata": {},
   "outputs": [
    {
     "data": {
      "text/plain": [
       "\u001b[0;31mCall signature:\u001b[0m  \u001b[0mnp\u001b[0m\u001b[0;34m.\u001b[0m\u001b[0mpower\u001b[0m\u001b[0;34m(\u001b[0m\u001b[0;34m*\u001b[0m\u001b[0margs\u001b[0m\u001b[0;34m,\u001b[0m \u001b[0;34m**\u001b[0m\u001b[0mkwargs\u001b[0m\u001b[0;34m)\u001b[0m\u001b[0;34m\u001b[0m\u001b[0;34m\u001b[0m\u001b[0m\n",
       "\u001b[0;31mType:\u001b[0m            ufunc\n",
       "\u001b[0;31mString form:\u001b[0m     <ufunc 'power'>\n",
       "\u001b[0;31mFile:\u001b[0m            /opt/conda/lib/python3.9/site-packages/numpy/__init__.py\n",
       "\u001b[0;31mDocstring:\u001b[0m      \n",
       "power(x1, x2, /, out=None, *, where=True, casting='same_kind', order='K', dtype=None, subok=True[, signature, extobj])\n",
       "\n",
       "First array elements raised to powers from second array, element-wise.\n",
       "\n",
       "Raise each base in `x1` to the positionally-corresponding power in\n",
       "`x2`.  `x1` and `x2` must be broadcastable to the same shape. Note that an\n",
       "integer type raised to a negative integer power will raise a ValueError.\n",
       "\n",
       "Parameters\n",
       "----------\n",
       "x1 : array_like\n",
       "    The bases.\n",
       "x2 : array_like\n",
       "    The exponents.\n",
       "    If ``x1.shape != x2.shape``, they must be broadcastable to a common\n",
       "    shape (which becomes the shape of the output).\n",
       "out : ndarray, None, or tuple of ndarray and None, optional\n",
       "    A location into which the result is stored. If provided, it must have\n",
       "    a shape that the inputs broadcast to. If not provided or None,\n",
       "    a freshly-allocated array is returned. A tuple (possible only as a\n",
       "    keyword argument) must have length equal to the number of outputs.\n",
       "where : array_like, optional\n",
       "    This condition is broadcast over the input. At locations where the\n",
       "    condition is True, the `out` array will be set to the ufunc result.\n",
       "    Elsewhere, the `out` array will retain its original value.\n",
       "    Note that if an uninitialized `out` array is created via the default\n",
       "    ``out=None``, locations within it where the condition is False will\n",
       "    remain uninitialized.\n",
       "**kwargs\n",
       "    For other keyword-only arguments, see the\n",
       "    :ref:`ufunc docs <ufuncs.kwargs>`.\n",
       "\n",
       "Returns\n",
       "-------\n",
       "y : ndarray\n",
       "    The bases in `x1` raised to the exponents in `x2`.\n",
       "    This is a scalar if both `x1` and `x2` are scalars.\n",
       "\n",
       "See Also\n",
       "--------\n",
       "float_power : power function that promotes integers to float\n",
       "\n",
       "Examples\n",
       "--------\n",
       "Cube each element in an array.\n",
       "\n",
       ">>> x1 = np.arange(6)\n",
       ">>> x1\n",
       "[0, 1, 2, 3, 4, 5]\n",
       ">>> np.power(x1, 3)\n",
       "array([  0,   1,   8,  27,  64, 125])\n",
       "\n",
       "Raise the bases to different exponents.\n",
       "\n",
       ">>> x2 = [1.0, 2.0, 3.0, 3.0, 2.0, 1.0]\n",
       ">>> np.power(x1, x2)\n",
       "array([  0.,   1.,   8.,  27.,  16.,   5.])\n",
       "\n",
       "The effect of broadcasting.\n",
       "\n",
       ">>> x2 = np.array([[1, 2, 3, 3, 2, 1], [1, 2, 3, 3, 2, 1]])\n",
       ">>> x2\n",
       "array([[1, 2, 3, 3, 2, 1],\n",
       "       [1, 2, 3, 3, 2, 1]])\n",
       ">>> np.power(x1, x2)\n",
       "array([[ 0,  1,  8, 27, 16,  5],\n",
       "       [ 0,  1,  8, 27, 16,  5]])\n",
       "\n",
       "The ``**`` operator can be used as a shorthand for ``np.power`` on\n",
       "ndarrays.\n",
       "\n",
       ">>> x2 = np.array([1, 2, 3, 3, 2, 1])\n",
       ">>> x1 = np.arange(6)\n",
       ">>> x1 ** x2\n",
       "array([ 0,  1,  8, 27, 16,  5])\n",
       "\u001b[0;31mClass docstring:\u001b[0m\n",
       "Functions that operate element by element on whole arrays.\n",
       "\n",
       "To see the documentation for a specific ufunc, use `info`.  For\n",
       "example, ``np.info(np.sin)``.  Because ufuncs are written in C\n",
       "(for speed) and linked into Python with NumPy's ufunc facility,\n",
       "Python's help() function finds this page whenever help() is called\n",
       "on a ufunc.\n",
       "\n",
       "A detailed explanation of ufuncs can be found in the docs for :ref:`ufuncs`.\n",
       "\n",
       "**Calling ufuncs:** ``op(*x[, out], where=True, **kwargs)``\n",
       "\n",
       "Apply `op` to the arguments `*x` elementwise, broadcasting the arguments.\n",
       "\n",
       "The broadcasting rules are:\n",
       "\n",
       "* Dimensions of length 1 may be prepended to either array.\n",
       "* Arrays may be repeated along dimensions of length 1.\n",
       "\n",
       "Parameters\n",
       "----------\n",
       "*x : array_like\n",
       "    Input arrays.\n",
       "out : ndarray, None, or tuple of ndarray and None, optional\n",
       "    Alternate array object(s) in which to put the result; if provided, it\n",
       "    must have a shape that the inputs broadcast to. A tuple of arrays\n",
       "    (possible only as a keyword argument) must have length equal to the\n",
       "    number of outputs; use None for uninitialized outputs to be\n",
       "    allocated by the ufunc.\n",
       "where : array_like, optional\n",
       "    This condition is broadcast over the input. At locations where the\n",
       "    condition is True, the `out` array will be set to the ufunc result.\n",
       "    Elsewhere, the `out` array will retain its original value.\n",
       "    Note that if an uninitialized `out` array is created via the default\n",
       "    ``out=None``, locations within it where the condition is False will\n",
       "    remain uninitialized.\n",
       "**kwargs\n",
       "    For other keyword-only arguments, see the :ref:`ufunc docs <ufuncs.kwargs>`.\n",
       "\n",
       "Returns\n",
       "-------\n",
       "r : ndarray or tuple of ndarray\n",
       "    `r` will have the shape that the arrays in `x` broadcast to; if `out` is\n",
       "    provided, it will be returned. If not, `r` will be allocated and\n",
       "    may contain uninitialized values. If the function has more than one\n",
       "    output, then the result will be a tuple of arrays.\n"
      ]
     },
     "metadata": {},
     "output_type": "display_data"
    }
   ],
   "source": [
    "np.power?"
   ]
  },
  {
   "cell_type": "code",
   "execution_count": 10,
   "metadata": {},
   "outputs": [
    {
     "data": {
      "text/plain": [
       "[<matplotlib.lines.Line2D at 0x7f6fc785b730>]"
      ]
     },
     "execution_count": 10,
     "metadata": {},
     "output_type": "execute_result"
    },
    {
     "data": {
      "image/png": "[encoded data removed]",
      "text/plain": [
       "<Figure size 432x288 with 1 Axes>"
      ]
     },
     "metadata": {
      "needs_background": "light"
     },
     "output_type": "display_data"
    }
   ],
   "source": [
    "plt.plot(x,y)"
   ]
  },
  {
   "cell_type": "code",
   "execution_count": 11,
   "metadata": {},
   "outputs": [],
   "source": [
    "#It looks like matplotlib makes straight lines between points. "
   ]
  },
  {
   "cell_type": "markdown",
   "metadata": {},
   "source": [
    "That kind of looks like $y=x^2$ but it also looks a little jagged. This is because when `matplotlib` plots something, it actually draws a straight line between the (x,y) points that you give matplotlib. This is called a <b>spline</b>. `matplotlib` can just connect the dots that you give it.\n",
    "\n",
    "So, to make this more smooth, we need to have many more points. To do that, let's use `np.linspace`"
   ]
  },
  {
   "cell_type": "markdown",
   "metadata": {},
   "source": [
    "### Example 1: Making an array with `np.linspace`"
   ]
  },
  {
   "cell_type": "markdown",
   "metadata": {},
   "source": [
    "Run the cell below to load up the `np.linspace` documentation and read about how to use `np.linspace`."
   ]
  },
  {
   "cell_type": "code",
   "execution_count": 12,
   "metadata": {},
   "outputs": [
    {
     "data": {
      "text/plain": [
       "\u001b[0;31mSignature:\u001b[0m\n",
       "\u001b[0mnp\u001b[0m\u001b[0;34m.\u001b[0m\u001b[0mlinspace\u001b[0m\u001b[0;34m(\u001b[0m\u001b[0;34m\u001b[0m\n",
       "\u001b[0;34m\u001b[0m    \u001b[0mstart\u001b[0m\u001b[0;34m,\u001b[0m\u001b[0;34m\u001b[0m\n",
       "\u001b[0;34m\u001b[0m    \u001b[0mstop\u001b[0m\u001b[0;34m,\u001b[0m\u001b[0;34m\u001b[0m\n",
       "\u001b[0;34m\u001b[0m    \u001b[0mnum\u001b[0m\u001b[0;34m=\u001b[0m\u001b[0;36m50\u001b[0m\u001b[0;34m,\u001b[0m\u001b[0;34m\u001b[0m\n",
       "\u001b[0;34m\u001b[0m    \u001b[0mendpoint\u001b[0m\u001b[0;34m=\u001b[0m\u001b[0;32mTrue\u001b[0m\u001b[0;34m,\u001b[0m\u001b[0;34m\u001b[0m\n",
       "\u001b[0;34m\u001b[0m    \u001b[0mretstep\u001b[0m\u001b[0;34m=\u001b[0m\u001b[0;32mFalse\u001b[0m\u001b[0;34m,\u001b[0m\u001b[0;34m\u001b[0m\n",
       "\u001b[0;34m\u001b[0m    \u001b[0mdtype\u001b[0m\u001b[0;34m=\u001b[0m\u001b[0;32mNone\u001b[0m\u001b[0;34m,\u001b[0m\u001b[0;34m\u001b[0m\n",
       "\u001b[0;34m\u001b[0m    \u001b[0maxis\u001b[0m\u001b[0;34m=\u001b[0m\u001b[0;36m0\u001b[0m\u001b[0;34m,\u001b[0m\u001b[0;34m\u001b[0m\n",
       "\u001b[0;34m\u001b[0m\u001b[0;34m)\u001b[0m\u001b[0;34m\u001b[0m\u001b[0;34m\u001b[0m\u001b[0m\n",
       "\u001b[0;31mDocstring:\u001b[0m\n",
       "Return evenly spaced numbers over a specified interval.\n",
       "\n",
       "Returns `num` evenly spaced samples, calculated over the\n",
       "interval [`start`, `stop`].\n",
       "\n",
       "The endpoint of the interval can optionally be excluded.\n",
       "\n",
       ".. versionchanged:: 1.16.0\n",
       "    Non-scalar `start` and `stop` are now supported.\n",
       "\n",
       ".. versionchanged:: 1.20.0\n",
       "    Values are rounded towards ``-inf`` instead of ``0`` when an\n",
       "    integer ``dtype`` is specified. The old behavior can\n",
       "    still be obtained with ``np.linspace(start, stop, num).astype(int)``\n",
       "\n",
       "Parameters\n",
       "----------\n",
       "start : array_like\n",
       "    The starting value of the sequence.\n",
       "stop : array_like\n",
       "    The end value of the sequence, unless `endpoint` is set to False.\n",
       "    In that case, the sequence consists of all but the last of ``num + 1``\n",
       "    evenly spaced samples, so that `stop` is excluded.  Note that the step\n",
       "    size changes when `endpoint` is False.\n",
       "num : int, optional\n",
       "    Number of samples to generate. Default is 50. Must be non-negative.\n",
       "endpoint : bool, optional\n",
       "    If True, `stop` is the last sample. Otherwise, it is not included.\n",
       "    Default is True.\n",
       "retstep : bool, optional\n",
       "    If True, return (`samples`, `step`), where `step` is the spacing\n",
       "    between samples.\n",
       "dtype : dtype, optional\n",
       "    The type of the output array.  If `dtype` is not given, the data type\n",
       "    is inferred from `start` and `stop`. The inferred dtype will never be\n",
       "    an integer; `float` is chosen even if the arguments would produce an\n",
       "    array of integers.\n",
       "\n",
       "    .. versionadded:: 1.9.0\n",
       "\n",
       "axis : int, optional\n",
       "    The axis in the result to store the samples.  Relevant only if start\n",
       "    or stop are array-like.  By default (0), the samples will be along a\n",
       "    new axis inserted at the beginning. Use -1 to get an axis at the end.\n",
       "\n",
       "    .. versionadded:: 1.16.0\n",
       "\n",
       "Returns\n",
       "-------\n",
       "samples : ndarray\n",
       "    There are `num` equally spaced samples in the closed interval\n",
       "    ``[start, stop]`` or the half-open interval ``[start, stop)``\n",
       "    (depending on whether `endpoint` is True or False).\n",
       "step : float, optional\n",
       "    Only returned if `retstep` is True\n",
       "\n",
       "    Size of spacing between samples.\n",
       "\n",
       "\n",
       "See Also\n",
       "--------\n",
       "arange : Similar to `linspace`, but uses a step size (instead of the\n",
       "         number of samples).\n",
       "geomspace : Similar to `linspace`, but with numbers spaced evenly on a log\n",
       "            scale (a geometric progression).\n",
       "logspace : Similar to `geomspace`, but with the end points specified as\n",
       "           logarithms.\n",
       "\n",
       "Examples\n",
       "--------\n",
       ">>> np.linspace(2.0, 3.0, num=5)\n",
       "array([2.  , 2.25, 2.5 , 2.75, 3.  ])\n",
       ">>> np.linspace(2.0, 3.0, num=5, endpoint=False)\n",
       "array([2. ,  2.2,  2.4,  2.6,  2.8])\n",
       ">>> np.linspace(2.0, 3.0, num=5, retstep=True)\n",
       "(array([2.  ,  2.25,  2.5 ,  2.75,  3.  ]), 0.25)\n",
       "\n",
       "Graphical illustration:\n",
       "\n",
       ">>> import matplotlib.pyplot as plt\n",
       ">>> N = 8\n",
       ">>> y = np.zeros(N)\n",
       ">>> x1 = np.linspace(0, 10, N, endpoint=True)\n",
       ">>> x2 = np.linspace(0, 10, N, endpoint=False)\n",
       ">>> plt.plot(x1, y, 'o')\n",
       "[<matplotlib.lines.Line2D object at 0x...>]\n",
       ">>> plt.plot(x2, y + 0.5, 'o')\n",
       "[<matplotlib.lines.Line2D object at 0x...>]\n",
       ">>> plt.ylim([-0.5, 1])\n",
       "(-0.5, 1)\n",
       ">>> plt.show()\n",
       "\u001b[0;31mFile:\u001b[0m      /opt/conda/lib/python3.9/site-packages/numpy/core/function_base.py\n",
       "\u001b[0;31mType:\u001b[0m      function\n"
      ]
     },
     "metadata": {},
     "output_type": "display_data"
    }
   ],
   "source": [
    "np.linspace?"
   ]
  },
  {
   "cell_type": "markdown",
   "metadata": {},
   "source": [
    "Now, in the cell below, using `np.linspace`, create a new `x` array that has 100 points between 1 and 5. This new `x` array will have a higher <b>resolution</b> than our old `x` array."
   ]
  },
  {
   "cell_type": "code",
   "execution_count": 13,
   "metadata": {},
   "outputs": [
    {
     "name": "stdout",
     "output_type": "stream",
     "text": [
      "[1.         1.04040404 1.08080808 1.12121212 1.16161616 1.2020202\n",
      " 1.24242424 1.28282828 1.32323232 1.36363636 1.4040404  1.44444444\n",
      " 1.48484848 1.52525253 1.56565657 1.60606061 1.64646465 1.68686869\n",
      " 1.72727273 1.76767677 1.80808081 1.84848485 1.88888889 1.92929293\n",
      " 1.96969697 2.01010101 2.05050505 2.09090909 2.13131313 2.17171717\n",
      " 2.21212121 2.25252525 2.29292929 2.33333333 2.37373737 2.41414141\n",
      " 2.45454545 2.49494949 2.53535354 2.57575758 2.61616162 2.65656566\n",
      " 2.6969697  2.73737374 2.77777778 2.81818182 2.85858586 2.8989899\n",
      " 2.93939394 2.97979798 3.02020202 3.06060606 3.1010101  3.14141414\n",
      " 3.18181818 3.22222222 3.26262626 3.3030303  3.34343434 3.38383838\n",
      " 3.42424242 3.46464646 3.50505051 3.54545455 3.58585859 3.62626263\n",
      " 3.66666667 3.70707071 3.74747475 3.78787879 3.82828283 3.86868687\n",
      " 3.90909091 3.94949495 3.98989899 4.03030303 4.07070707 4.11111111\n",
      " 4.15151515 4.19191919 4.23232323 4.27272727 4.31313131 4.35353535\n",
      " 4.39393939 4.43434343 4.47474747 4.51515152 4.55555556 4.5959596\n",
      " 4.63636364 4.67676768 4.71717172 4.75757576 4.7979798  4.83838384\n",
      " 4.87878788 4.91919192 4.95959596 5.        ]\n"
     ]
    },
    {
     "data": {
      "text/plain": [
       "[<matplotlib.lines.Line2D at 0x7f6fc77d9490>]"
      ]
     },
     "execution_count": 13,
     "metadata": {},
     "output_type": "execute_result"
    },
    {
     "data": {
      "image/png": "[encoded data removed]",
      "text/plain": [
       "<Figure size 432x288 with 1 Axes>"
      ]
     },
     "metadata": {
      "needs_background": "light"
     },
     "output_type": "display_data"
    }
   ],
   "source": [
    "x = np.linspace(1,5,num=100)\n",
    "print(x)\n",
    "y = np.power(x, 2)\n",
    "plt.plot(x,y)"
   ]
  },
  {
   "cell_type": "code",
   "execution_count": 14,
   "metadata": {},
   "outputs": [
    {
     "name": "stdout",
     "output_type": "stream",
     "text": [
      "[1. 3. 5.]\n"
     ]
    },
    {
     "data": {
      "text/plain": [
       "[<matplotlib.lines.Line2D at 0x7f6fc773cee0>]"
      ]
     },
     "execution_count": 14,
     "metadata": {},
     "output_type": "execute_result"
    },
    {
     "data": {
      "image/png": "[encoded data removed]",
      "text/plain": [
       "<Figure size 432x288 with 1 Axes>"
      ]
     },
     "metadata": {
      "needs_background": "light"
     },
     "output_type": "display_data"
    }
   ],
   "source": [
    "#Very jaggad!\n",
    "x = np.linspace(1,5,num=3)\n",
    "print(x)\n",
    "y = np.power(x, 2)\n",
    "plt.plot(x,y)"
   ]
  },
  {
   "cell_type": "markdown",
   "metadata": {},
   "source": [
    "Now, run the cell below to re-define the `y` array with your new `x` values, and plot the result. It should look much less jagged than the $y=x^2$ plot we made earlier."
   ]
  },
  {
   "cell_type": "code",
   "execution_count": 15,
   "metadata": {},
   "outputs": [
    {
     "data": {
      "text/plain": [
       "[<matplotlib.lines.Line2D at 0x7f6fc76b1340>]"
      ]
     },
     "execution_count": 15,
     "metadata": {},
     "output_type": "execute_result"
    },
    {
     "data": {
      "image/png": "[encoded data removed]",
      "text/plain": [
       "<Figure size 432x288 with 1 Axes>"
      ]
     },
     "metadata": {
      "needs_background": "light"
     },
     "output_type": "display_data"
    }
   ],
   "source": [
    "y = np.power(x,2)\n",
    "\n",
    "plt.plot(x,y)\n",
    "\n",
    "#See above. All steps are above. The graph below was jaggad."
   ]
  },
  {
   "cell_type": "markdown",
   "metadata": {},
   "source": [
    "## Customizing plots\n",
    "\n",
    "We're going to do everything we can to make the plot above look not only nicer, but customized too. Here's where coding/plotting is more of an art than a science.\n",
    "\n",
    "The first thing to do here, is actually see the points that `matplotlib` is plotting, rather than the lines it's drawing between those points."
   ]
  },
  {
   "cell_type": "code",
   "execution_count": 16,
   "metadata": {},
   "outputs": [
    {
     "data": {
      "text/plain": [
       "[<matplotlib.lines.Line2D at 0x7f6fc7766340>]"
      ]
     },
     "execution_count": 16,
     "metadata": {},
     "output_type": "execute_result"
    },
    {
     "data": {
      "image/png": "[encoded data removed]",
      "text/plain": [
       "<Figure size 432x288 with 1 Axes>"
      ]
     },
     "metadata": {
      "needs_background": "light"
     },
     "output_type": "display_data"
    }
   ],
   "source": [
    "# Make x have lower resolution so we can see the points\n",
    "x = np.linspace(1,5,5)\n",
    "y = np.power(x,2)\n",
    "plt.plot(x,y)"
   ]
  },
  {
   "cell_type": "code",
   "execution_count": 17,
   "metadata": {},
   "outputs": [
    {
     "data": {
      "text/plain": [
       "[<matplotlib.lines.Line2D at 0x7f6fc78793d0>]"
      ]
     },
     "execution_count": 17,
     "metadata": {},
     "output_type": "execute_result"
    },
    {
     "data": {
      "image/png": "[encoded data removed]",
      "text/plain": [
       "<Figure size 432x288 with 1 Axes>"
      ]
     },
     "metadata": {
      "needs_background": "light"
     },
     "output_type": "display_data"
    }
   ],
   "source": [
    "plt.plot(x, y, 'o')"
   ]
  },
  {
   "cell_type": "markdown",
   "metadata": {},
   "source": [
    "What did I just do to make points appear instead of a line? Well, that extra argument in `plt.plot` is called a <b>format string</b>. You should read about these on the `plt.plot` documentation page, <a href=\"https://matplotlib.org/stable/api/_as_gen/matplotlib.pyplot.plot.html\">here</a>"
   ]
  },
  {
   "cell_type": "markdown",
   "metadata": {},
   "source": [
    "### Example 2: Reading the `plt.plot` documentation"
   ]
  },
  {
   "cell_type": "markdown",
   "metadata": {},
   "source": [
    "Learning how to read documentation is an incredibly important part of coding. Reading the `plt.plot` documentation is especially important, because `plt.plot` is an incredibly powerful and flexible function. Another valuable place to learn about how to do things with `matplotlib` is the <a href=\"https://matplotlib.org/stable/gallery/index.html\">gallery</a> that shows you the source code for making tons of plots and customizing them with `matplotlib`. You might find the format string example in the gallery helpful as well.\n",
    "\n",
    "Look through the `plt.plot` documentation page above, take a quick glance, and also ctrl+F to search the page for \"format string\" and see what the documentation page has to say about format strings. With what you've learned from reading, answer the questions below."
   ]
  },
  {
   "cell_type": "markdown",
   "metadata": {},
   "source": [
    "<b>1). What are a few \"kwargs\" (keyword arguments) that you can add to a `plt.plot` function call?"
   ]
  },
  {
   "cell_type": "markdown",
   "metadata": {},
   "source": [
    "Some of the keyword arguments have to do with 2D line properties, like you can change the line's width, or the color of the line, or what each point is marked with, or the style of the line itself (dashed, spotted, etc.). There are also color, linestyle, linewidth,etc."
   ]
  },
  {
   "cell_type": "markdown",
   "metadata": {},
   "source": [
    "<b>2). Edit and run the cell below to plot `x` and `y` data with a format string that will make the marker be star-shaped, the line be dashed, and the color be red."
   ]
  },
  {
   "cell_type": "code",
   "execution_count": 18,
   "metadata": {},
   "outputs": [
    {
     "data": {
      "text/plain": [
       "[<matplotlib.lines.Line2D at 0x7f6fc79ccf70>]"
      ]
     },
     "execution_count": 18,
     "metadata": {},
     "output_type": "execute_result"
    },
    {
     "data": {
      "image/png": "[encoded data removed]",
      "text/plain": [
       "<Figure size 432x288 with 1 Axes>"
      ]
     },
     "metadata": {
      "needs_background": "light"
     },
     "output_type": "display_data"
    }
   ],
   "source": [
    "plt.plot(x,y, '*--r')"
   ]
  },
  {
   "cell_type": "code",
   "execution_count": 19,
   "metadata": {},
   "outputs": [
    {
     "data": {
      "text/plain": [
       "[<matplotlib.lines.Line2D at 0x7f6fc7847310>]"
      ]
     },
     "execution_count": 19,
     "metadata": {},
     "output_type": "execute_result"
    },
    {
     "data": {
      "image/png": "[encoded data removed]",
      "text/plain": [
       "<Figure size 432x288 with 1 Axes>"
      ]
     },
     "metadata": {
      "needs_background": "light"
     },
     "output_type": "display_data"
    }
   ],
   "source": [
    "x = np.linspace(0,5,100)\n",
    "\n",
    "y_line = x\n",
    "y_parabola = np.power(x,2)\n",
    "\n",
    "plt.plot(x, y_line, '*--r')\n",
    "plt.plot(x, y_parabola, '*--b')\n",
    "\n",
    "#You can put these plt.plot's in a for loop."
   ]
  },
  {
   "cell_type": "markdown",
   "metadata": {},
   "source": [
    "### `plt.plot` keyword arguments\n",
    "\n",
    "As you might have read in the documentation, `plt.plot` has a ton of <b>keyword arguments</b> that you can use to customize your plots. \n",
    "\n",
    "A <b>keyword argument</b> is an argument that is optional to a function, and must be explicitly declared when you're calling the function. For example, for the keyword argument `color`, we must explicitly say `color=NAME_OF_COLOR` in `plt.plot`, as below:"
   ]
  },
  {
   "cell_type": "code",
   "execution_count": 20,
   "metadata": {},
   "outputs": [
    {
     "data": {
      "text/plain": [
       "[<matplotlib.lines.Line2D at 0x7f6fc767c6a0>]"
      ]
     },
     "execution_count": 20,
     "metadata": {},
     "output_type": "execute_result"
    },
    {
     "data": {
      "image/png": "[encoded data removed]",
      "text/plain": [
       "<Figure size 432x288 with 1 Axes>"
      ]
     },
     "metadata": {
      "needs_background": "light"
     },
     "output_type": "display_data"
    }
   ],
   "source": [
    "x = np.linspace(0,5,100)\n",
    "y = np.power (x,2)\n",
    "plt.plot(x,y, color = \"Red\")"
   ]
  },
  {
   "cell_type": "markdown",
   "metadata": {},
   "source": [
    "Note, you can specify a color with a name, or a <b>hex code</b>. There are many websites that will give you the hexcode that represents a color, for example <a href=\"https://htmlcolorcodes.com/\">this one</a>."
   ]
  },
  {
   "cell_type": "code",
   "execution_count": 21,
   "metadata": {},
   "outputs": [
    {
     "data": {
      "text/plain": [
       "[<matplotlib.lines.Line2D at 0x7f6fc765f8b0>]"
      ]
     },
     "execution_count": 21,
     "metadata": {},
     "output_type": "execute_result"
    },
    {
     "data": {
      "image/png": "[encoded data removed]",
      "text/plain": [
       "<Figure size 432x288 with 1 Axes>"
      ]
     },
     "metadata": {
      "needs_background": "light"
     },
     "output_type": "display_data"
    }
   ],
   "source": [
    "plt.plot(x, y, color = \"#FFD1DC\", linewidth = 15)\n",
    "# This hexcode corresponds to the so-called \"millennial pink\"\n",
    "# We also made the line thicker so we can see it better"
   ]
  },
  {
   "cell_type": "markdown",
   "metadata": {},
   "source": [
    "`plt.plot`'s keyword arguments can do what format strings can do, and even more. For example, let's create the plot from example 2.2 but with keyword arguments instead of format strings and we can even make the markers bigger.\n",
    "\n",
    "If you'd like, feel free to edit the keyword arguments in the cell below, or add some as well!"
   ]
  },
  {
   "cell_type": "code",
   "execution_count": 22,
   "metadata": {},
   "outputs": [
    {
     "data": {
      "text/plain": [
       "[<matplotlib.lines.Line2D at 0x7f6fc75cc070>]"
      ]
     },
     "execution_count": 22,
     "metadata": {},
     "output_type": "execute_result"
    },
    {
     "data": {
      "image/png": "[encoded data removed]",
      "text/plain": [
       "<Figure size 432x288 with 1 Axes>"
      ]
     },
     "metadata": {
      "needs_background": "light"
     },
     "output_type": "display_data"
    }
   ],
   "source": [
    "plt.plot(x, y, marker = '*', markersize = 10, color = 'red', linestyle = '--') #Can play around with this."
   ]
  },
  {
   "cell_type": "markdown",
   "metadata": {},
   "source": [
    "### The label kwarg and the legend"
   ]
  },
  {
   "cell_type": "markdown",
   "metadata": {},
   "source": [
    "An important keyword argument is `label`. This will tell `matplotlib` what to call the line that you're plotting in a legend. This is especially important because we can plot many lines in one figure. For example:"
   ]
  },
  {
   "cell_type": "code",
   "execution_count": 23,
   "metadata": {},
   "outputs": [
    {
     "data": {
      "text/plain": [
       "[<matplotlib.lines.Line2D at 0x7f6fc75aad30>]"
      ]
     },
     "execution_count": 23,
     "metadata": {},
     "output_type": "execute_result"
    },
    {
     "data": {
      "image/png": "[encoded data removed]",
      "text/plain": [
       "<Figure size 432x288 with 1 Axes>"
      ]
     },
     "metadata": {
      "needs_background": "light"
     },
     "output_type": "display_data"
    }
   ],
   "source": [
    "parabola = np.power(x, 2)\n",
    "linear = x\n",
    "\n",
    "# The label is just a string that labels that particular plot\n",
    "plt.plot(x, linear, label = \"y = x\")\n",
    "plt.plot(x, parabola, label = \"y = x^2\")"
   ]
  },
  {
   "cell_type": "markdown",
   "metadata": {},
   "source": [
    "To make those labels appear, we call a new function, called `plt.legend()`"
   ]
  },
  {
   "cell_type": "code",
   "execution_count": 24,
   "metadata": {},
   "outputs": [
    {
     "data": {
      "text/plain": [
       "Text(0.5, 0, 'x values')"
      ]
     },
     "execution_count": 24,
     "metadata": {},
     "output_type": "execute_result"
    },
    {
     "data": {
      "image/png": "[encoded data removed]",
      "text/plain": [
       "<Figure size 432x288 with 1 Axes>"
      ]
     },
     "metadata": {
      "needs_background": "light"
     },
     "output_type": "display_data"
    }
   ],
   "source": [
    "plt.plot(x, linear, label = \"y = x\")\n",
    "plt.plot(x, parabola, label = \"y = x^2\")\n",
    "\n",
    "plt.legend(loc = 'lower left')\n",
    "plt.xlabel(\"x values\")"
   ]
  },
  {
   "cell_type": "markdown",
   "metadata": {},
   "source": [
    "You can move the legend around too, with the `loc` keyword argument. \n",
    "\n",
    "Take a look at the legend documentation <a href=\"https://matplotlib.org/stable/api/_as_gen/matplotlib.pyplot.legend.html\">here</a> and then,\n",
    "edit the cell above by adding the `loc` keyword argument into `plt.legend` to move the legend to a different part of the plot."
   ]
  },
  {
   "cell_type": "markdown",
   "metadata": {},
   "source": [
    "## Customizing the axes\n",
    "\n",
    "Now that we've learned how to customize the actual lines you're plotting, let's customize the axes. Remember that labeling your axes is super important in science. You want to label them with what they represent and what their units are.\n",
    "\n",
    "For this part of the lesson, we've included some data for you to use. You have access to three arrays, each of which has 451 elements and represents the value of some variable at a certain time in the evolution of a planet.\n",
    "\n",
    "`Time`: Is an array that gives the time of each index. The units are in billions of years.\n",
    "\n",
    "`AtmosphericWater`: Is an array where every element represents the amount of water in the atmosphere of this modeled planet at each time. Is in units of terrestrial oceans (1 terrestrial ocean = 1.39e21 kg of water).\n",
    "\n",
    "`MantleTemp`: Is an array where every element represents the temperature of the modeled planet's mantle at each time. Is in units of Kelvin.\n",
    "\n",
    "`EruptionRate`: Is an array where every element represents the rate of magma being erupted at that time. Is in units of kilograms per second."
   ]
  },
  {
   "cell_type": "code",
   "execution_count": 25,
   "metadata": {},
   "outputs": [
    {
     "name": "stdout",
     "output_type": "stream",
     "text": [
      "[0.   0.01 0.02 0.03 0.04 0.05 0.06 0.07 0.08 0.09 0.1  0.11 0.12 0.13\n",
      " 0.14 0.15 0.16 0.17 0.18 0.19 0.2  0.21 0.22 0.23 0.24 0.25 0.26 0.27\n",
      " 0.28 0.29 0.3  0.31 0.32 0.33 0.34 0.35 0.36 0.37 0.38 0.39 0.4  0.41\n",
      " 0.42 0.43 0.44 0.45 0.46 0.47 0.48 0.49 0.5  0.51 0.52 0.53 0.54 0.55\n",
      " 0.56 0.57 0.58 0.59 0.6  0.61 0.62 0.63 0.64 0.65 0.66 0.67 0.68 0.69\n",
      " 0.7  0.71 0.72 0.73 0.74 0.75 0.76 0.77 0.78 0.79 0.8  0.81 0.82 0.83\n",
      " 0.84 0.85 0.86 0.87 0.88 0.89 0.9  0.91 0.92 0.93 0.94 0.95 0.96 0.97\n",
      " 0.98 0.99 1.   1.01 1.02 1.03 1.04 1.05 1.06 1.07 1.08 1.09 1.1  1.11\n",
      " 1.12 1.13 1.14 1.15 1.16 1.17 1.18 1.19 1.2  1.21 1.22 1.23 1.24 1.25\n",
      " 1.26 1.27 1.28 1.29 1.3  1.31 1.32 1.33 1.34 1.35 1.36 1.37 1.38 1.39\n",
      " 1.4  1.41 1.42 1.43 1.44 1.45 1.46 1.47 1.48 1.49 1.5  1.51 1.52 1.53\n",
      " 1.54 1.55 1.56 1.57 1.58 1.59 1.6  1.61 1.62 1.63 1.64 1.65 1.66 1.67\n",
      " 1.68 1.69 1.7  1.71 1.72 1.73 1.74 1.75 1.76 1.77 1.78 1.79 1.8  1.81\n",
      " 1.82 1.83 1.84 1.85 1.86 1.87 1.88 1.89 1.9  1.91 1.92 1.93 1.94 1.95\n",
      " 1.96 1.97 1.98 1.99 2.   2.01 2.02 2.03 2.04 2.05 2.06 2.07 2.08 2.09\n",
      " 2.1  2.11 2.12 2.13 2.14 2.15 2.16 2.17 2.18 2.19 2.2  2.21 2.22 2.23\n",
      " 2.24 2.25 2.26 2.27 2.28 2.29 2.3  2.31 2.32 2.33 2.34 2.35 2.36 2.37\n",
      " 2.38 2.39 2.4  2.41 2.42 2.43 2.44 2.45 2.46 2.47 2.48 2.49 2.5  2.51\n",
      " 2.52 2.53 2.54 2.55 2.56 2.57 2.58 2.59 2.6  2.61 2.62 2.63 2.64 2.65\n",
      " 2.66 2.67 2.68 2.69 2.7  2.71 2.72 2.73 2.74 2.75 2.76 2.77 2.78 2.79\n",
      " 2.8  2.81 2.82 2.83 2.84 2.85 2.86 2.87 2.88 2.89 2.9  2.91 2.92 2.93\n",
      " 2.94 2.95 2.96 2.97 2.98 2.99 3.   3.01 3.02 3.03 3.04 3.05 3.06 3.07\n",
      " 3.08 3.09 3.1  3.11 3.12 3.13 3.14 3.15 3.16 3.17 3.18 3.19 3.2  3.21\n",
      " 3.22 3.23 3.24 3.25 3.26 3.27 3.28 3.29 3.3  3.31 3.32 3.33 3.34 3.35\n",
      " 3.36 3.37 3.38 3.39 3.4  3.41 3.42 3.43 3.44 3.45 3.46 3.47 3.48 3.49\n",
      " 3.5  3.51 3.52 3.53 3.54 3.55 3.56 3.57 3.58 3.59 3.6  3.61 3.62 3.63\n",
      " 3.64 3.65 3.66 3.67 3.68 3.69 3.7  3.71 3.72 3.73 3.74 3.75 3.76 3.77\n",
      " 3.78 3.79 3.8  3.81 3.82 3.83 3.84 3.85 3.86 3.87 3.88 3.89 3.9  3.91\n",
      " 3.92 3.93 3.94 3.95 3.96 3.97 3.98 3.99 4.   4.01 4.02 4.03 4.04 4.05\n",
      " 4.06 4.07 4.08 4.09 4.1  4.11 4.12 4.13 4.14 4.15 4.16 4.17 4.18 4.19\n",
      " 4.2  4.21 4.22 4.23 4.24 4.25 4.26 4.27 4.28 4.29 4.3  4.31 4.32 4.33\n",
      " 4.34 4.35 4.36 4.37 4.38 4.39 4.4  4.41 4.42 4.43 4.44 4.45 4.46 4.47\n",
      " 4.48 4.49 4.5 ]\n",
      "[1.864983e+00 1.657204e+00 1.445770e+00 1.234176e+00 1.022522e+00\n",
      " 8.108240e-01 6.013790e-01 3.960460e-01 1.944920e-01 9.163000e-03\n",
      " 3.960000e-04 3.750000e-04 3.580000e-04 3.430000e-04 3.290000e-04\n",
      " 3.170000e-04 3.050000e-04 2.940000e-04 2.840000e-04 2.750000e-04\n",
      " 2.660000e-04 2.580000e-04 2.510000e-04 2.430000e-04 2.360000e-04\n",
      " 2.300000e-04 2.230000e-04 2.170000e-04 2.120000e-04 2.060000e-04\n",
      " 2.010000e-04 1.960000e-04 1.910000e-04 1.860000e-04 1.820000e-04\n",
      " 1.780000e-04 1.730000e-04 1.690000e-04 1.650000e-04 1.620000e-04\n",
      " 1.580000e-04 1.550000e-04 1.510000e-04 1.480000e-04 1.450000e-04\n",
      " 1.420000e-04 1.390000e-04 1.360000e-04 1.330000e-04 1.300000e-04\n",
      " 1.270000e-04 1.250000e-04 1.220000e-04 1.200000e-04 1.170000e-04\n",
      " 1.150000e-04 1.130000e-04 1.110000e-04 1.090000e-04 1.070000e-04\n",
      " 1.050000e-04 1.030000e-04 1.010000e-04 9.878345e-05 9.696521e-05\n",
      " 9.519290e-05 9.346505e-05 9.178023e-05 9.013708e-05 8.853430e-05\n",
      " 8.697064e-05 8.544488e-05 8.395589e-05 8.250254e-05 8.108378e-05\n",
      " 7.969857e-05 7.834594e-05 7.702492e-05 7.573461e-05 7.447412e-05\n",
      " 7.324260e-05 7.203924e-05 7.086324e-05 6.971384e-05 6.859031e-05\n",
      " 6.749192e-05 6.641800e-05 6.536789e-05 6.434094e-05 6.333652e-05\n",
      " 6.235405e-05 6.139294e-05 6.045262e-05 5.953257e-05 5.863224e-05\n",
      " 5.775113e-05 5.688876e-05 5.604463e-05 5.521828e-05 5.440928e-05\n",
      " 5.361717e-05 5.284155e-05 5.208200e-05 5.133812e-05 5.060953e-05\n",
      " 4.989586e-05 4.919674e-05 4.851181e-05 4.784075e-05 4.718321e-05\n",
      " 4.653888e-05 4.590744e-05 4.528858e-05 4.468201e-05 4.408745e-05\n",
      " 4.350461e-05 4.293321e-05 4.237301e-05 4.182374e-05 4.128514e-05\n",
      " 4.075699e-05 4.023903e-05 3.973104e-05 3.923281e-05 3.874410e-05\n",
      " 3.826470e-05 3.779442e-05 3.733304e-05 3.688038e-05 3.643624e-05\n",
      " 3.600043e-05 3.557278e-05 3.515310e-05 3.474124e-05 3.433701e-05\n",
      " 3.394026e-05 3.355083e-05 3.316856e-05 3.279329e-05 3.242490e-05\n",
      " 3.206322e-05 3.170812e-05 3.135947e-05 3.101712e-05 3.068095e-05\n",
      " 3.035084e-05 3.002665e-05 2.970827e-05 2.939559e-05 2.908847e-05\n",
      " 2.878682e-05 2.849053e-05 2.819948e-05 2.791357e-05 2.763270e-05\n",
      " 2.735677e-05 2.708568e-05 2.681934e-05 2.655765e-05 2.630053e-05\n",
      " 2.604789e-05 2.579963e-05 2.555568e-05 2.531595e-05 2.508036e-05\n",
      " 2.484883e-05 2.462129e-05 2.439766e-05 2.417787e-05 2.396184e-05\n",
      " 2.374950e-05 2.354079e-05 2.333564e-05 2.313398e-05 2.293575e-05\n",
      " 2.274088e-05 2.254931e-05 2.236099e-05 2.217586e-05 2.199385e-05\n",
      " 2.181491e-05 2.163898e-05 2.146602e-05 2.129596e-05 2.112877e-05\n",
      " 2.096438e-05 2.080274e-05 2.064382e-05 2.048755e-05 2.033390e-05\n",
      " 2.018282e-05 2.003427e-05 1.988820e-05 1.974456e-05 1.960333e-05\n",
      " 1.946444e-05 1.932788e-05 1.919359e-05 1.906155e-05 1.893170e-05\n",
      " 1.880402e-05 1.867847e-05 1.855501e-05 1.843361e-05 1.831423e-05\n",
      " 1.819685e-05 1.808142e-05 1.796793e-05 1.785633e-05 1.774659e-05\n",
      " 1.763869e-05 1.753260e-05 1.742829e-05 1.732572e-05 1.722487e-05\n",
      " 1.712573e-05 1.702825e-05 1.693241e-05 1.683819e-05 1.674556e-05\n",
      " 1.665450e-05 1.656498e-05 1.647698e-05 1.639048e-05 1.630545e-05\n",
      " 1.622187e-05 1.613973e-05 1.605899e-05 1.597964e-05 1.590166e-05\n",
      " 1.582502e-05 1.574972e-05 1.567572e-05 1.560301e-05 1.553157e-05\n",
      " 1.546139e-05 1.539244e-05 1.532470e-05 1.525817e-05 1.519282e-05\n",
      " 1.512863e-05 1.506560e-05 1.500370e-05 1.494292e-05 1.488324e-05\n",
      " 1.482465e-05 1.476713e-05 1.471068e-05 1.465527e-05 1.460089e-05\n",
      " 1.454752e-05 1.449516e-05 1.444379e-05 1.439341e-05 1.434398e-05\n",
      " 1.429551e-05 1.424798e-05 1.420138e-05 1.415569e-05 1.411092e-05\n",
      " 1.406703e-05 1.402403e-05 1.398190e-05 1.394063e-05 1.390022e-05\n",
      " 1.386065e-05 1.382190e-05 1.378398e-05 1.374688e-05 1.371057e-05\n",
      " 1.367505e-05 1.364033e-05 1.360637e-05 1.357318e-05 1.354075e-05\n",
      " 1.350907e-05 1.347813e-05 1.344792e-05 1.341844e-05 1.338967e-05\n",
      " 1.336162e-05 1.333426e-05 1.330760e-05 1.328163e-05 1.325634e-05\n",
      " 1.323172e-05 1.320777e-05 1.318448e-05 1.316184e-05 1.313985e-05\n",
      " 1.311850e-05 1.309779e-05 1.307770e-05 1.305824e-05 1.303939e-05\n",
      " 1.302116e-05 1.300353e-05 1.298651e-05 1.296706e-05 1.293794e-05\n",
      " 1.290842e-05 1.287896e-05 1.284958e-05 1.282030e-05 1.279112e-05\n",
      " 1.276207e-05 1.273317e-05 1.270443e-05 1.267589e-05 1.264754e-05\n",
      " 1.261942e-05 1.259154e-05 1.256391e-05 1.253654e-05 1.250946e-05\n",
      " 1.248266e-05 1.245617e-05 1.242998e-05 1.240412e-05 1.237859e-05\n",
      " 1.235340e-05 1.232856e-05 1.230407e-05 1.227994e-05 1.225617e-05\n",
      " 1.223278e-05 1.220976e-05 1.218712e-05 1.216486e-05 1.214300e-05\n",
      " 1.212152e-05 1.210043e-05 1.207975e-05 1.205946e-05 1.203957e-05\n",
      " 1.202008e-05 1.200100e-05 1.198232e-05 1.196404e-05 1.194618e-05\n",
      " 1.192872e-05 1.191166e-05 1.189502e-05 1.187878e-05 1.186295e-05\n",
      " 1.184753e-05 1.183252e-05 1.181791e-05 1.180371e-05 1.178991e-05\n",
      " 1.177652e-05 1.176354e-05 1.175096e-05 1.173878e-05 1.172701e-05\n",
      " 1.171563e-05 1.170466e-05 1.169408e-05 1.168391e-05 1.167413e-05\n",
      " 1.166474e-05 1.165576e-05 1.164716e-05 1.163895e-05 1.163114e-05\n",
      " 1.162372e-05 1.161668e-05 1.161003e-05 1.160377e-05 1.159789e-05\n",
      " 1.159239e-05 1.158728e-05 1.158255e-05 1.157820e-05 1.157422e-05\n",
      " 1.157062e-05 1.156740e-05 1.156455e-05 1.156208e-05 1.155998e-05\n",
      " 1.155825e-05 1.155689e-05 1.155589e-05 1.155527e-05 1.155501e-05\n",
      " 1.155512e-05 1.155559e-05 1.155643e-05 1.155763e-05 1.155919e-05\n",
      " 1.156111e-05 1.156340e-05 1.156604e-05 1.156904e-05 1.157240e-05\n",
      " 1.157612e-05 1.158019e-05 1.158462e-05 1.158940e-05 1.159454e-05\n",
      " 1.160003e-05 1.160587e-05 1.161208e-05 1.161854e-05 1.162549e-05\n",
      " 1.163275e-05 1.164037e-05 1.164833e-05 1.165665e-05 1.166531e-05\n",
      " 1.167432e-05 1.168369e-05 1.169339e-05 1.170345e-05 1.171387e-05\n",
      " 1.172463e-05 1.173574e-05 1.174720e-05 1.175901e-05 1.177117e-05\n",
      " 1.178369e-05 1.179655e-05 1.180977e-05 1.182334e-05 1.183726e-05\n",
      " 1.185154e-05 1.186616e-05 1.188115e-05 1.189649e-05 1.191217e-05\n",
      " 1.192822e-05 1.194462e-05 1.196138e-05 1.197850e-05 1.199599e-05\n",
      " 1.201382e-05 1.203201e-05 1.205057e-05 1.206950e-05 1.208878e-05\n",
      " 1.210843e-05 1.212846e-05 1.214883e-05 1.216956e-05 1.219063e-05\n",
      " 1.221207e-05 1.223388e-05 1.225607e-05 1.227832e-05 1.230121e-05\n",
      " 1.232449e-05]\n"
     ]
    }
   ],
   "source": [
    "# Run this cell, but don't edit it\n",
    "#we'll talk more about what this cell means on Wednesday\n",
    "import pandas as pd\n",
    "\n",
    "data = pd.read_csv(\"data/PlanetEvolution.csv\")\n",
    "\n",
    "# Time of evolution, units are Gigayears (Billions of years)\n",
    "Time = data['Time'].values\n",
    "print(Time)\n",
    "\n",
    "# Amount of water in atmosphere, units are terrestrial oceans (1 TO = 1 ocean's worth of water)\n",
    "AtmosphericWater = data['SurfWaterMass'].values\n",
    "print(AtmosphericWater)\n",
    "\n",
    "# Temperature of mantle, units are Kelvin\n",
    "MantleTemp = data['TMan'].values\n",
    "\n",
    "# Rate at which magma is erupted, units are kilograms per second\n",
    "EruptionRate = data['EruptionRate'].values"
   ]
  },
  {
   "cell_type": "markdown",
   "metadata": {},
   "source": [
    "To start, let's plot the amount of water in the atmosphere of the modeled planet as a function of time."
   ]
  },
  {
   "cell_type": "code",
   "execution_count": 26,
   "metadata": {},
   "outputs": [
    {
     "data": {
      "text/plain": [
       "[<matplotlib.lines.Line2D at 0x7f6fc195c160>]"
      ]
     },
     "execution_count": 26,
     "metadata": {},
     "output_type": "execute_result"
    },
    {
     "data": {
      "image/png": "[encoded data removed]",
      "text/plain": [
       "<Figure size 432x288 with 1 Axes>"
      ]
     },
     "metadata": {
      "needs_background": "light"
     },
     "output_type": "display_data"
    }
   ],
   "source": [
    "plt.plot(Time, AtmosphericWater)"
   ]
  },
  {
   "cell_type": "markdown",
   "metadata": {},
   "source": [
    "### Example 3: Labeling Axes\n",
    "\n",
    "Let's label our axes. Look up/google how to label axes in matplotlib to figure out how. Then, edit the code in the cell above to add labels to the x, and y axes that describe what those axes mean and what units each axis is in.\n",
    "\n",
    "Your stretch goal here should be to change the fontsize of the labels to make, in your opinion, the text a good size."
   ]
  },
  {
   "cell_type": "code",
   "execution_count": 27,
   "metadata": {},
   "outputs": [
    {
     "data": {
      "text/plain": [
       "Text(0, 0.5, 'Water in Atmosphere (TO)')"
      ]
     },
     "execution_count": 27,
     "metadata": {},
     "output_type": "execute_result"
    },
    {
     "data": {
      "image/png": "[encoded data removed]",
      "text/plain": [
       "<Figure size 432x288 with 1 Axes>"
      ]
     },
     "metadata": {
      "needs_background": "light"
     },
     "output_type": "display_data"
    }
   ],
   "source": [
    "plt.plot(Time, AtmosphericWater)\n",
    "plt.xlabel(\"Time of Evolution (Gigayears)\")\n",
    "plt.ylabel(\"Water in Atmosphere (TO)\")"
   ]
  },
  {
   "cell_type": "markdown",
   "metadata": {},
   "source": [
    "### Example 4: Log scaling data\n",
    "\n",
    "Looking at the plot that you've made, what does it look like the amount of water in the atmosphere is at 4.5 billion years? Type it in the text cell below"
   ]
  },
  {
   "cell_type": "markdown",
   "metadata": {},
   "source": [
    "It looks like the amount of water in the atmosphere is 0."
   ]
  },
  {
   "cell_type": "markdown",
   "metadata": {},
   "source": [
    "The amount of water in the atmosphere at 4.5 billion years is the same thing as the amount of water in the atmosphere at the end of the simulation, because the simulation models 4.5 billion years of evolution.\n",
    "\n",
    "In the cell below, print the value of the last element of the `AtmosphericWater` array? Is it close to the estimate you made by looking at the plot?"
   ]
  },
  {
   "cell_type": "code",
   "execution_count": 28,
   "metadata": {},
   "outputs": [
    {
     "data": {
      "text/plain": [
       "1.232449e-05"
      ]
     },
     "execution_count": 28,
     "metadata": {},
     "output_type": "execute_result"
    }
   ],
   "source": [
    "AtmosphericWater[-1]"
   ]
  },
  {
   "cell_type": "markdown",
   "metadata": {},
   "source": [
    "The issue here is that the y axis is in <b>linear spacing</b>, this means that the spaces between ticks are linear (e.g., 1.5 -> 1.25 -> 1.0). This is great for viewing data that might be linearly spaced apart, but we can see that if the data goes from large to small numbers, it can be hard to estimate what the data is doing when it reaches those small valuables. \n",
    "\n",
    "Using linear spacing on the y axis in our plot makes it look like the final amount of water in the atmosphere is 0 terrestrial oceans, when it's actually 1.23e-05 TO's (which is close to the amount of water in Lake Superior, that's not a lot for a whole atmosphere but it is different than 0).\n",
    "\n",
    "When you want to have small numbers and large numbers visible on the same axis, you should use <b>logarithmic spacing</b> not <b>linear spacing</b>. Logarithmic spacing means that the spaces between ticks are in powers of 10 (e.g., 1 -> 10 -> 100).\n",
    "\n",
    "In the cell below, copy and paste your code plotting AtmosphericWater over Time with the axes labeled. Then, edit your code to change the y axis to a log scale (you'll have to google how to do this). What does the final value of AtmosphericWater look like when the figure is plotted in a log scale?"
   ]
  },
  {
   "cell_type": "code",
   "execution_count": 29,
   "metadata": {},
   "outputs": [
    {
     "data": {
      "image/png": "[encoded data removed]",
      "text/plain": [
       "<Figure size 432x288 with 1 Axes>"
      ]
     },
     "metadata": {
      "needs_background": "light"
     },
     "output_type": "display_data"
    }
   ],
   "source": [
    "plt.plot(Time, AtmosphericWater)\n",
    "plt.xlabel(\"Time of Evolution (Gigayears)\")\n",
    "plt.ylabel(\"Water in Atmosphere (TO)\")\n",
    "plt.yscale('log')"
   ]
  },
  {
   "cell_type": "code",
   "execution_count": 30,
   "metadata": {},
   "outputs": [
    {
     "data": {
      "text/plain": [
       "\u001b[0;31mSignature:\u001b[0m \u001b[0mplt\u001b[0m\u001b[0;34m.\u001b[0m\u001b[0mxscale\u001b[0m\u001b[0;34m(\u001b[0m\u001b[0mvalue\u001b[0m\u001b[0;34m,\u001b[0m \u001b[0;34m**\u001b[0m\u001b[0mkwargs\u001b[0m\u001b[0;34m)\u001b[0m\u001b[0;34m\u001b[0m\u001b[0;34m\u001b[0m\u001b[0m\n",
       "\u001b[0;31mDocstring:\u001b[0m\n",
       "Set the x-axis scale.\n",
       "\n",
       "Parameters\n",
       "----------\n",
       "value : {\"linear\", \"log\", \"symlog\", \"logit\", ...} or `.ScaleBase`\n",
       "    The axis scale type to apply.\n",
       "\n",
       "**kwargs\n",
       "    Different keyword arguments are accepted, depending on the scale.\n",
       "    See the respective class keyword arguments:\n",
       "\n",
       "    - `matplotlib.scale.LinearScale`\n",
       "    - `matplotlib.scale.LogScale`\n",
       "    - `matplotlib.scale.SymmetricalLogScale`\n",
       "    - `matplotlib.scale.LogitScale`\n",
       "    - `matplotlib.scale.FuncScale`\n",
       "\n",
       "Notes\n",
       "-----\n",
       "By default, Matplotlib supports the above mentioned scales.\n",
       "Additionally, custom scales may be registered using\n",
       "`matplotlib.scale.register_scale`. These scales can then also\n",
       "be used here.\n",
       "\u001b[0;31mFile:\u001b[0m      /opt/conda/lib/python3.9/site-packages/matplotlib/pyplot.py\n",
       "\u001b[0;31mType:\u001b[0m      function\n"
      ]
     },
     "metadata": {},
     "output_type": "display_data"
    }
   ],
   "source": [
    "?plt.xscale"
   ]
  },
  {
   "cell_type": "markdown",
   "metadata": {},
   "source": [
    "### Example 5: Subplots\n",
    "\n",
    "<b>Subplots</b> are a way put multiple plots in what amounts to the same figure; think of subplots like an array of plots! You can read more about the `plt.subplots` syntax [here](https://matplotlib.org/stable/api/_as_gen/matplotlib.pyplot.subplots.html). The syntax for setting labels and titles can be slightly different when using subplots than when making just one plot. I tend to use `plt.subplots` for all my plotting, even with just one plot. If you don't specify `nrows` and `ncols`, you will just produce one plot.\n",
    "\n",
    "Subplots are great for displaying multiple data that share an x or y axis. For this example, let's make two subplots in one column. On the top we will plot AtmosphericWater by Time, and on the bottom plot we will plot the MantleTemp by Time, that way we can see how the AtmosphericWater as the planet's mantle is cooling. You can find how to plot something using subplots by looking at the <a href=\"https://matplotlib.org/stable/gallery/subplots_axes_and_figures/subplot_demo.html#sphx-glr-gallery-subplots-axes-and-figures-subplot-demo-py\">subplot demo</a> in the matplotlib gallery"
   ]
  },
  {
   "cell_type": "code",
   "execution_count": 38,
   "metadata": {},
   "outputs": [
    {
     "data": {
      "text/plain": [
       "[<matplotlib.lines.Line2D at 0x7f6fc13a3d00>]"
      ]
     },
     "execution_count": 38,
     "metadata": {},
     "output_type": "execute_result"
    },
    {
     "data": {
      "image/png": "[encoded data removed]",
      "text/plain": [
       "<Figure size 504x360 with 2 Axes>"
      ]
     },
     "metadata": {
      "needs_background": "light"
     },
     "output_type": "display_data"
    }
   ],
   "source": [
    "#set up a variable for the total figure, and for each subplot axis\n",
    "fig = \"Characteristics of Planet Evolution\"\n",
    "x1 = Time\n",
    "y1 = AtmosphericWater\n",
    "x2 = Time\n",
    "y2 = MantleTemp\n",
    "#figsize sets up the size of the total figure. You can play around with these \n",
    "\n",
    "# values to see what they do\n",
    "\n",
    "# nrows and ncols define the number of rows and columns, respectively\n",
    "fig, (ax1, ax2) = plt.subplots(nrows=2,ncols=1,figsize=(7,5))\n",
    "\n",
    "#Plot Time and AtmosphericWater on the first axis, ax[0]\n",
    "ax1.plot(x1,y1)\n",
    "ax1.set_xlabel(\"Time of Evolution in Gigayears\")\n",
    "ax1.set_ylabel(\"Atmospheric Water in TO\")\n",
    "ax2.plot(x2,y2)\n",
    "ax2.set_xlabel(\"\n",
    "ax2.\n",
    "#Set the y axis for ax[0] to be logarithmically scaled\n",
    "#The syntax for setting x and y labels is slightly different \n",
    "#when you're calling it on an individual axis\n",
    "\n",
    "#Plot Time and MantleTemp on the second axis, ax[1]"
   ]
  },
  {
   "cell_type": "markdown",
   "metadata": {},
   "source": [
    "You can do fancier things with subplots like have different plots share the same axis, put smaller plots as insets to larger plots, etc. Again, take a look at things like the matplotlib library for examples of different plots. "
   ]
  }
 ],
 "metadata": {
  "anaconda-cloud": {},
  "kernelspec": {
   "display_name": "Python 3 (ipykernel)",
   "language": "python",
   "name": "python3"
  },
  "language_info": {
   "codemirror_mode": {
    "name": "ipython",
    "version": 3
   },
   "file_extension": ".py",
   "mimetype": "text/x-python",
   "name": "python",
   "nbconvert_exporter": "python",
   "pygments_lexer": "ipython3",
   "version": "3.9.7"
  }
 },
 "nbformat": 4,
 "nbformat_minor": 4
}
