{
 "cells": [
  {
   "cell_type": "markdown",
   "metadata": {},
   "source": [
    "[Pre-MAP Course Website](http://depts.washington.edu/premap/seminar/cohort-17-2021-seminar/) | [Pre-MAP GitHub](https://github.com/UWPreMAP/PreMAP2021) | [Google](https://www.google.com)\n",
    "\n",
    "### Each time you access the PreMAP2021 directory make sure your files are up to date\n",
    "1. Open up a terminal tab (New -> Terminal). Change directories into the PreMAP2021 directory, then do:\n",
    "```bash\n",
    "cd PreMAP2021\n",
    "```\n",
    "2. Update the directory to get any newly added files by running in the terminal:\n",
    "```bash\n",
    "git pull\n",
    "```\n",
    "3. Type in your terminal:\n",
    "```bash\n",
    "cd lessons\n",
    "```\n",
    "4. If you're on the AstroLab computer, type in your terminal:\n",
    "```bash\n",
    "jupyter notebook\n",
    "```\n",
    "This will open a webpage that has the lessons on them. You can select this lesson and then edit and run the cells to follow along with the lesson. Remember to change \"Lastname\" to your last name."
   ]
  },
  {
   "cell_type": "markdown",
   "metadata": {},
   "source": [
    "### Vocab for today\n",
    "<ul><b>\n",
    "    <li>package</li> - need to do math with lists\n",
    "    <li>numpy</li>\n",
    "    <li>function</li>\n",
    "    <li>numpy array</li>\n",
    "    <li>argument</li>\n",
    "    </b>\n",
    "</ul>"
   ]
  },
  {
   "cell_type": "markdown",
   "metadata": {
    "tags": []
   },
   "source": [
    "[Pre-MAP Course Website](http://depts.washington.edu/premap/seminar/cohort-17-2021-seminar/) | [Pre-MAP GitHub](https://github.com/UWPreMAP/PreMAP2021) | [Google](https://www.google.com)\n",
    "\n",
    "# Python packages\n",
    "\n",
    "\n",
    "We do specialized tasks in Python with <b>package</b>. A package is a collection of Python functions that someone wrote and bundled together for you to use. Some of the Python packages that we'll learn to use include: \n",
    "\n",
    "| Package | Uses                     |\n",
    "|---------|--------------------------|\n",
    "| `numpy` | Math with arrays (more on this below) | \n",
    "| `scipy` | A math toolkit built for use by scientists | \n",
    "| `matplotlib` | Visualization (plotting!) | \n",
    "| `astropy` | Astronomy-specific functions of all kinds | \n",
    "\n",
    "## Numpy - \"num - pie\"\n",
    "\n",
    "Numpy is the most important package that we're going to teach you about, because it allows you to do calculations very quickly with Python. Below, we'll discover why it's useful.\n",
    "\n",
    "*** \n",
    "\n",
    "Let's say you want to take the _sine_ or _cosine_ of an angle. There are numpy function that do this for you. \n",
    "\n",
    "To gain access to numpy's functions, you always need to do this command first: \n",
    "```python\n",
    "import numpy as np\n",
    "```\n",
    "Run the line above in the cell below: "
   ]
  },
  {
   "cell_type": "code",
   "execution_count": 1,
   "metadata": {},
   "outputs": [],
   "source": [
    "import numpy as np #will see this a lot, np is a nickname for numpy"
   ]
  },
  {
   "cell_type": "markdown",
   "metadata": {},
   "source": [
    "Now there's a _package_ stored in the variable called `np` that we can access anywhere in this notebook. There are <b>functions</b> for $\\sin$ and $\\cos$ that live within numpy. The way to access a function within a package is by calling the package name with a period after it, then the name of the function you want. So for $\\sin$, you can do: \n",
    "```python\n",
    "np.sin(0)\n",
    "```\n",
    "The `np.` part says \"give me this function from numpy\". The `sin()` part says \"the function that I want to use is $\\sin$\", and the `0` is the angle that we want to take the $\\sin$ of, in units of radians. Run that line in the cell below, and experiment with different angles. Try `np.cos` too."
   ]
  },
  {
   "cell_type": "code",
   "execution_count": 2,
   "metadata": {},
   "outputs": [
    {
     "data": {
      "text/plain": [
       "1.0"
      ]
     },
     "execution_count": 2,
     "metadata": {},
     "output_type": "execute_result"
    }
   ],
   "source": [
    "np.cos(0)"
   ]
  },
  {
   "cell_type": "code",
   "execution_count": 3,
   "metadata": {},
   "outputs": [
    {
     "data": {
      "text/plain": [
       "0.28366218546322625"
      ]
     },
     "execution_count": 3,
     "metadata": {},
     "output_type": "execute_result"
    }
   ],
   "source": [
    "np.cos(5)"
   ]
  },
  {
   "cell_type": "markdown",
   "metadata": {},
   "source": [
    "Numpy also has some built-in numbers that you might use. For example, $\\pi$ is stored (to high precision!), in `np.pi`. Print out numpy's $\\pi$ in the cell below: "
   ]
  },
  {
   "cell_type": "code",
   "execution_count": 4,
   "metadata": {},
   "outputs": [
    {
     "data": {
      "text/plain": [
       "3.141592653589793"
      ]
     },
     "execution_count": 4,
     "metadata": {},
     "output_type": "execute_result"
    }
   ],
   "source": [
    "np.pi"
   ]
  },
  {
   "cell_type": "code",
   "execution_count": 5,
   "metadata": {},
   "outputs": [
    {
     "name": "stdout",
     "output_type": "stream",
     "text": [
      "[0, 1.5707963267948966, 3.141592653589793, 4.71238898038469, 6.283185307179586]\n"
     ]
    }
   ],
   "source": [
    "angles = [0, np.pi / 2, np.pi, 3 * np.pi / 2, 2 * np.pi] #Quicker than individually typing out each function/operation b/c you are doing math on a whole list all at once.\n",
    "print(angles) "
   ]
  },
  {
   "cell_type": "markdown",
   "metadata": {},
   "source": [
    "Now let's say you had a list of angles, like `angles`$= [0, \\pi/2, \\pi, 3\\pi/2, 2\\pi]$. You could call `np.sin(angles[0])` to get the $\\sin$ of the first angle, then `np.sin(angles[1])` on the second angle, etc. But that would be a really slow way to do it! \n",
    "\n",
    "### Arrays\n",
    "\n",
    "The quick way is to create a <b>numpy array</b>. A numpy array is a vector or matrix of numbers, similar to the built in Python lists we saw in the last lesson. ```numpy``` can act on arrays more efficiently than Python can with ordinary lists.\n",
    "\n",
    "Let's make a numpy array filled with the angles above:\n",
    "```python\n",
    "# First, here's the list that we want to have an array of: \n",
    "angle_list = [0, 1/2 * np.pi, np.pi, 3/2 * np.pi, 2 * np.pi]\n",
    "\n",
    "# Here's how we make a numpy array out of the list\n",
    "angle_array = np.array(angle_list)\n",
    "```\n",
    "Write out those lines in the cell below. "
   ]
  },
  {
   "cell_type": "code",
   "execution_count": 6,
   "metadata": {},
   "outputs": [
    {
     "name": "stdout",
     "output_type": "stream",
     "text": [
      "[0.         1.57079633 3.14159265 4.71238898 6.28318531]\n"
     ]
    }
   ],
   "source": [
    "# First, here's the list that we want to have an array of: \n",
    "angle_list = [0, 1/2 * np.pi, np.pi, 3/2 * np.pi, 2 * np.pi]\n",
    "\n",
    "# Here's how we make a numpy array out of the list\n",
    "angle_array = np.array(angle_list)\n",
    "print(angle_array)"
   ]
  },
  {
   "cell_type": "markdown",
   "metadata": {},
   "source": [
    "Let's break down the command `np.array(angle_list)`. The `np.` says we're going to use a function from numpy, the `array()` says we're going to make an array out of the thing in the parentheses, and the `angle_list` is the _input_ or the <b>argument</b> of the function. "
   ]
  },
  {
   "cell_type": "code",
   "execution_count": 7,
   "metadata": {},
   "outputs": [
    {
     "name": "stdout",
     "output_type": "stream",
     "text": [
      "[0, 1.5707963267948966, 3.141592653589793, 4.71238898038469, 6.283185307179586]\n",
      "<class 'list'>\n"
     ]
    },
    {
     "ename": "TypeError",
     "evalue": "unsupported operand type(s) for /: 'list' and 'int'",
     "output_type": "error",
     "traceback": [
      "\u001b[0;31m---------------------------------------------------------------------------\u001b[0m",
      "\u001b[0;31mTypeError\u001b[0m                                 Traceback (most recent call last)",
      "\u001b[0;32m/tmp/ipykernel_164/2279812405.py\u001b[0m in \u001b[0;36m<module>\u001b[0;34m\u001b[0m\n\u001b[1;32m      2\u001b[0m \u001b[0mprint\u001b[0m\u001b[0;34m(\u001b[0m\u001b[0mangle_list\u001b[0m\u001b[0;34m)\u001b[0m\u001b[0;34m\u001b[0m\u001b[0;34m\u001b[0m\u001b[0m\n\u001b[1;32m      3\u001b[0m \u001b[0mprint\u001b[0m\u001b[0;34m(\u001b[0m\u001b[0mtype\u001b[0m\u001b[0;34m(\u001b[0m\u001b[0mangle_list\u001b[0m\u001b[0;34m)\u001b[0m\u001b[0;34m)\u001b[0m\u001b[0;34m\u001b[0m\u001b[0;34m\u001b[0m\u001b[0m\n\u001b[0;32m----> 4\u001b[0;31m \u001b[0mprint\u001b[0m\u001b[0;34m(\u001b[0m\u001b[0mangle_list\u001b[0m \u001b[0;34m/\u001b[0m \u001b[0;36m2\u001b[0m\u001b[0;34m)\u001b[0m \u001b[0;31m#It doesn't know how to apply the operation to the entire list.\u001b[0m\u001b[0;34m\u001b[0m\u001b[0;34m\u001b[0m\u001b[0m\n\u001b[0m",
      "\u001b[0;31mTypeError\u001b[0m: unsupported operand type(s) for /: 'list' and 'int'"
     ]
    }
   ],
   "source": [
    "angle_list\n",
    "print(angle_list)\n",
    "print(type(angle_list))\n",
    "print(angle_list / 2) #It doesn't know how to apply the operation to the entire list."
   ]
  },
  {
   "cell_type": "code",
   "execution_count": null,
   "metadata": {},
   "outputs": [],
   "source": [
    "angle_list\n",
    "print(angle_list)\n",
    "print(type(angle_list))\n",
    "print(angle_array / 2) #It doesn't know how to apply the operation to the entire list. #can just start with angle_array = np.array([0, np.pi, 2*nppi]) also you have to define angle_array & better to create variables."
   ]
  },
  {
   "cell_type": "code",
   "execution_count": null,
   "metadata": {},
   "outputs": [],
   "source": [
    "# You can treat an array as a list, but commands may change slightly. This gives you a new angle_array.\n",
    "np.append(angle_array, 4 * np.pi)\n",
    "print(angle_array)\n",
    "\n",
    "#This gives you a modification of angle_array in place thus changing the ACTUAL variable.\n",
    "angle_array = np.append(angle_array, 4 * np.pi)\n",
    "print(angle_array)"
   ]
  },
  {
   "cell_type": "markdown",
   "metadata": {},
   "source": [
    "### Example 1: Calculations with arrays\n",
    "\n",
    "What is the $\\sin$ and $\\cos$ of each angle? Use the numpy array `angle_array` as the argument to the `np.sin` and `np.cos` functions in the cell below:"
   ]
  },
  {
   "cell_type": "code",
   "execution_count": null,
   "metadata": {},
   "outputs": [],
   "source": [
    "np.sin(angle_array) #Ask researchers whether we really ARE working with tiny numbers."
   ]
  },
  {
   "cell_type": "markdown",
   "metadata": {},
   "source": [
    "Now you might be saying - wait a minute, $\\sin(3\\pi/2) = 0$, not $\\approx$`1e-16`, what's that about? The short answer is - computers often get very very close to approximating the numbers that we actually want, but not all of the way there. You can get better precision if you tell the computer to use more memory. "
   ]
  },
  {
   "cell_type": "markdown",
   "metadata": {},
   "source": [
    "## More numpy commands\n",
    "\n",
    "Now you can do things with the numpy array that you couldn't do with a Python list. Here are some of them, which you should experiment with in the cell below: \n",
    "```python\n",
    "# Sum of all elements in the array:\n",
    "angle_array.sum()\n",
    "\n",
    "# Mean of all elements in the array:\n",
    "angle_array.mean()\n",
    "\n",
    "# Maximum of the elements in the array:\n",
    "angle_array.max()\n",
    "\n",
    "# Minimum of the elements in the array: \n",
    "angle_array.min()\n",
    "\n",
    "# Standard deviation of the elements in the array: \n",
    "angle_array.std()\n",
    "```\n",
    "Try running each of the above commands one-by-one in the cell below to see what they output."
   ]
  },
  {
   "cell_type": "code",
   "execution_count": null,
   "metadata": {},
   "outputs": [],
   "source": [
    "print(angle_array)\n",
    "print(\"/n\")\n",
    "print(angle_array.sum())"
   ]
  },
  {
   "cell_type": "markdown",
   "metadata": {},
   "source": [
    "### Syntax Tips and Help ###\n",
    "So what happens when you forget the name of a `numpy` function, or the how to use a particular function? `Jupyter` has some cool built-in features that you should take advantage of!\n",
    "\n",
    "For example, say you forgot the name of the `sum` function -- you can type `np.` and then press `tab`, and you'll see that the notebook lists what functions are available in `numpy`! Spoiler alert, it's a loooong list since `numpy` has many functionalities. \n",
    "\n",
    "The point is you can use the `tab` tool (recall tab completion trick) to help you remember or recognize the function you're looking for. \n",
    "\n",
    "Just like how in `bash` environments you can read details on how to use a function with `man FUNCTIONNAME`, you can do that in `Python` as well. For example, say you forgot how to use the `np.sin` function -- you can type `np.sin?` + `Ctrl`+`return` and the notebook will return an inline window that tells you almost everything you need to know about the function. \n",
    "\n",
    "Try playing around with `np.` + `tab` and `np.cos?`, or any function with a `?` at the end, below. Tells you what the function from numpy does and you can also google it in better formatting (this is the manual)."
   ]
  },
  {
   "cell_type": "code",
   "execution_count": null,
   "metadata": {},
   "outputs": [],
   "source": [
    "np.cos?"
   ]
  },
  {
   "cell_type": "markdown",
   "metadata": {},
   "source": [
    "\n",
    "\n",
    "***\n",
    "\n",
    "## Array arithmetic\n",
    "\n",
    "There are lots of situations where you'll want to create a certain kind of array, and numpy has functions to help. \n",
    "\n",
    "You can make an array of consecutive integers from zero to nine with the function `np.arange`(arange is only in numpy):\n",
    "```python\n",
    "consecutive_integers = np.arange(10)\n",
    "```\n",
    "Just like with indexing to some endpoint, you tell python what number you want it to stop before."
   ]
  },
  {
   "cell_type": "code",
   "execution_count": 8,
   "metadata": {},
   "outputs": [
    {
     "name": "stdout",
     "output_type": "stream",
     "text": [
      "[  0   1   2   3   4   5   6   7   8   9  10  11  12  13  14  15  16  17\n",
      "  18  19  20  21  22  23  24  25  26  27  28  29  30  31  32  33  34  35\n",
      "  36  37  38  39  40  41  42  43  44  45  46  47  48  49  50  51  52  53\n",
      "  54  55  56  57  58  59  60  61  62  63  64  65  66  67  68  69  70  71\n",
      "  72  73  74  75  76  77  78  79  80  81  82  83  84  85  86  87  88  89\n",
      "  90  91  92  93  94  95  96  97  98  99 100 101 102 103 104 105 106 107\n",
      " 108 109 110 111 112 113 114 115 116 117 118 119]\n"
     ]
    }
   ],
   "source": [
    "consecutive_integers = np.arange(120)\n",
    "print(consecutive_integers)"
   ]
  },
  {
   "cell_type": "markdown",
   "metadata": {},
   "source": [
    "Check it out, numpy did all the work for me, I didn't have to write down all the integers.\n",
    "\n",
    "Now, this function is very flexible. You can give it 3 <b>arguments</b> instead of 1 and those 3 numbers will signify `np.arange(start, stop, step)`. For example, `np.arange(1, 9, 2)` would start at 1, stop before 9, with a step size of 2 (giving you every second number), so it would return `[1, 3, 5, 7]"
   ]
  },
  {
   "cell_type": "code",
   "execution_count": 10,
   "metadata": {},
   "outputs": [
    {
     "data": {
      "text/plain": [
       "array([1, 3, 5, 7])"
      ]
     },
     "execution_count": 10,
     "metadata": {},
     "output_type": "execute_result"
    }
   ],
   "source": [
    "np.arange(1,9,2)"
   ]
  },
  {
   "cell_type": "code",
   "execution_count": 11,
   "metadata": {},
   "outputs": [
    {
     "data": {
      "text/plain": [
       "array([1, 4, 7])"
      ]
     },
     "execution_count": 11,
     "metadata": {},
     "output_type": "execute_result"
    }
   ],
   "source": [
    "np.arange(1,9,3)"
   ]
  },
  {
   "cell_type": "code",
   "execution_count": 13,
   "metadata": {},
   "outputs": [
    {
     "name": "stdout",
     "output_type": "stream",
     "text": [
      "[0 1 2 3 4 5 6 7 8 9]\n"
     ]
    }
   ],
   "source": [
    "consecutive_integers = np.arange(10)\n",
    "print(consecutive_integers)"
   ]
  },
  {
   "cell_type": "code",
   "execution_count": 17,
   "metadata": {},
   "outputs": [
    {
     "data": {
      "text/plain": [
       "array([1, 3, 5])"
      ]
     },
     "execution_count": 17,
     "metadata": {},
     "output_type": "execute_result"
    }
   ],
   "source": [
    "consecutive_integers[1:6:2] #same thing as np.arange(1,9,2)"
   ]
  },
  {
   "cell_type": "code",
   "execution_count": 18,
   "metadata": {},
   "outputs": [
    {
     "data": {
      "text/plain": [
       "array([1, 3, 5, 7, 9])"
      ]
     },
     "execution_count": 18,
     "metadata": {},
     "output_type": "execute_result"
    }
   ],
   "source": [
    "consecutive_integers[1::2] #give me everything starting at the second element and going forward and then there is not a zero in between the colons you just take everything that is the second element going forward."
   ]
  },
  {
   "cell_type": "markdown",
   "metadata": {},
   "source": [
    "In the cell below, make an array with 10,000 sequential integers, starting with the zero. Save the array into a variable called `consecutive_integers`, and print it out:"
   ]
  },
  {
   "cell_type": "code",
   "execution_count": 26,
   "metadata": {},
   "outputs": [
    {
     "name": "stdout",
     "output_type": "stream",
     "text": [
      "[   0    1    2 ... 9997 9998 9999]\n",
      "10000\n"
     ]
    }
   ],
   "source": [
    "consecutive_integers = np.arange(0,10000)\n",
    "print(consecutive_integers)\n",
    "print(len(consecutive_integers))"
   ]
  },
  {
   "cell_type": "markdown",
   "metadata": {},
   "source": [
    "You'll see that numpy is polite. It knows you probably don't want to see all ten thousand integers, so it prints just the beginning and end of the array. \n",
    "\n",
    "### Exercise 2: Indexing/slicing numpy arrays\n",
    "The same indexing and slicing rules that we learned for lists work on arrays. Keep in mind that arrays are indexed starting with 0, just like ```Python``` lists and when you give a range of indexes, it won't include the last one listed. In the cell below, print the 42nd element of the `consecutive_integers` array, and print the 101-103rd (inclusive) elements of the array. Remember that python starts counting at 0, so to get the first element of the array the index number should be 0:"
   ]
  },
  {
   "cell_type": "code",
   "execution_count": 27,
   "metadata": {
    "scrolled": true
   },
   "outputs": [
    {
     "name": "stdout",
     "output_type": "stream",
     "text": [
      "41\n",
      "[100 101 102]\n"
     ]
    }
   ],
   "source": [
    "print(consecutive_integers[41])\n",
    "# Access the nth element with the (n-1)th index\n",
    "# because python starts counting at 0\n",
    "\n",
    "print(consecutive_integers[100:103])\n",
    "# When indexing a range in python, you get up to the last element you asked for\n",
    "# so, by putting 103 as our index, we're asking for everything\n",
    "# up to the 104th element, which means our range ends with the 103rd element"
   ]
  },
  {
   "cell_type": "markdown",
   "metadata": {},
   "source": [
    "Unlike lists, you can do arithmetic with numpy arrays. For example, if you had the following list: "
   ]
  },
  {
   "cell_type": "code",
   "execution_count": 28,
   "metadata": {},
   "outputs": [
    {
     "name": "stdout",
     "output_type": "stream",
     "text": [
      "[162, 185, 174, 191]\n"
     ]
    }
   ],
   "source": [
    "heights = [162, 185, 174, 191]\n",
    "print(heights)"
   ]
  },
  {
   "cell_type": "markdown",
   "metadata": {},
   "source": [
    "And let's say you wanted to divide every element of the list by 2. "
   ]
  },
  {
   "cell_type": "code",
   "execution_count": 29,
   "metadata": {},
   "outputs": [
    {
     "ename": "TypeError",
     "evalue": "unsupported operand type(s) for /: 'list' and 'int'",
     "output_type": "error",
     "traceback": [
      "\u001b[0;31m---------------------------------------------------------------------------\u001b[0m",
      "\u001b[0;31mTypeError\u001b[0m                                 Traceback (most recent call last)",
      "\u001b[0;32m/tmp/ipykernel_164/1605863064.py\u001b[0m in \u001b[0;36m<module>\u001b[0;34m\u001b[0m\n\u001b[0;32m----> 1\u001b[0;31m \u001b[0mheights\u001b[0m \u001b[0;34m/\u001b[0m \u001b[0;36m2\u001b[0m\u001b[0;34m\u001b[0m\u001b[0;34m\u001b[0m\u001b[0m\n\u001b[0m",
      "\u001b[0;31mTypeError\u001b[0m: unsupported operand type(s) for /: 'list' and 'int'"
     ]
    }
   ],
   "source": [
    "heights / 2"
   ]
  },
  {
   "cell_type": "markdown",
   "metadata": {},
   "source": [
    "Hey, that doesn't do what we wanted it to do!\n",
    "\n",
    "You don't want to do math with python lists because they don't behave the way you would want a mathematical object to behave. This is what numpy arrays are for!"
   ]
  },
  {
   "cell_type": "code",
   "execution_count": 34,
   "metadata": {},
   "outputs": [
    {
     "name": "stdout",
     "output_type": "stream",
     "text": [
      "[162, 185, 174, 191]\n",
      "[162 185 174 191]\n"
     ]
    },
    {
     "data": {
      "text/plain": [
       "array([81. , 92.5, 87. , 95.5])"
      ]
     },
     "execution_count": 34,
     "metadata": {},
     "output_type": "execute_result"
    }
   ],
   "source": [
    "heights = [162, 185, 174, 191]\n",
    "print(heights)\n",
    "heights_array = np.array(heights)\n",
    "print(heights_array)\n",
    "heights_array / 2"
   ]
  },
  {
   "cell_type": "markdown",
   "metadata": {},
   "source": [
    "### Exercise 3: Array arithmetic\n",
    "\n",
    "In the cell below: \n",
    "1. Create a variable called `heights_array`, which contains a numpy array of `heights` (using the `np.array` function we learned above)\n",
    "2. Try adding, multiplying, subtracting, dividing, and exponentiating the array by 2\n",
    "3. What happens if you try to add, multiply, subtract, divide, and exponentiate the python list, `heights`, by 2?"
   ]
  },
  {
   "cell_type": "code",
   "execution_count": 35,
   "metadata": {},
   "outputs": [],
   "source": [
    "#DO THIS!"
   ]
  },
  {
   "cell_type": "markdown",
   "metadata": {},
   "source": [
    "### Exercise 4: Inequalities\n",
    "You can also evaluate inequalities with whole arrays at once. Find which values of the array above are greater than 180, store that result as an array and print it: "
   ]
  },
  {
   "cell_type": "code",
   "execution_count": 37,
   "metadata": {},
   "outputs": [
    {
     "name": "stdout",
     "output_type": "stream",
     "text": [
      "True\n",
      "[162 185 174 191]\n"
     ]
    }
   ],
   "source": [
    "print(3<5)\n",
    "print(heights_array)"
   ]
  },
  {
   "cell_type": "code",
   "execution_count": 39,
   "metadata": {},
   "outputs": [
    {
     "data": {
      "text/plain": [
       "array([False,  True, False,  True])"
      ]
     },
     "execution_count": 39,
     "metadata": {},
     "output_type": "execute_result"
    }
   ],
   "source": [
    "heights_array>180 #Numpy answers this question for every element"
   ]
  },
  {
   "cell_type": "code",
   "execution_count": 41,
   "metadata": {},
   "outputs": [
    {
     "name": "stdout",
     "output_type": "stream",
     "text": [
      "[False  True False  True]\n"
     ]
    }
   ],
   "source": [
    "heights_gt_180 = heights_array > 180 #Read box as heights greater than 180!\n",
    "print(heights_gt_180)"
   ]
  },
  {
   "cell_type": "markdown",
   "metadata": {},
   "source": [
    "Notice - numpy arrays don't have to contain numbers (floats and integers). They can be _booleans_, and other things too!\n",
    "\n",
    "Remember: a boolean is a special type with the value `True` or `False`."
   ]
  },
  {
   "cell_type": "markdown",
   "metadata": {},
   "source": [
    "In Exercise 4, you found that you can figure out which numbers in the array were greater than 180 all at once. It turns out, if you save that array of booleans: \n",
    "\n",
    "```python\n",
    "heights_gt_180 = heights_array > 180\n",
    "```\n",
    "\n",
    "You can use `heights_gt_180` like a group of indices on `heights_array` to get just the heights where `heights_gt_180 == True`. \n",
    "\n",
    "In the cell below, try:\n",
    "```python\n",
    "heights_gt_180 = heights_array > 180\n",
    "print(heights_array[heights_gt_180])\n",
    "```\n",
    "Did it print out the right indices? What if you flip the greater than to a less than? What if you try `==` instead?"
   ]
  },
  {
   "cell_type": "code",
   "execution_count": 46,
   "metadata": {},
   "outputs": [],
   "source": [
    "#Finish"
   ]
  },
  {
   "cell_type": "code",
   "execution_count": 45,
   "metadata": {},
   "outputs": [
    {
     "name": "stdout",
     "output_type": "stream",
     "text": [
      "[162 185 174 191]\n",
      "[ True False  True False]\n"
     ]
    }
   ],
   "source": [
    "# Let's ask for heights less than 180\n",
    "print(heights_array)\n",
    "heights_lt_180 = heights_array<180\n",
    "print(heights_lt_180)"
   ]
  },
  {
   "cell_type": "code",
   "execution_count": 48,
   "metadata": {},
   "outputs": [
    {
     "name": "stdout",
     "output_type": "stream",
     "text": [
      "[162 185 174 191]\n",
      "[False  True False  True]\n",
      "185 191\n",
      "[185 191]\n",
      "<class 'numpy.ndarray'>\n"
     ]
    }
   ],
   "source": [
    "print(heights_array)\n",
    "print(heights_gt_180)\n",
    "print(heights_array[1], heights_array[3])\n",
    "\n",
    "print(heights_array[heights_gt_180])\n",
    "print(type(heights_array[heights_gt_180])) #So this is its own array!"
   ]
  },
  {
   "cell_type": "markdown",
   "metadata": {},
   "source": [
    "## Putting it all together\n",
    "\n",
    "Using all of these skills together, let's do something that we couldn't do easily with a scientific calculator. Let's find sum of all of the positive, even integers less than 10,000.\n",
    "\n",
    "We'll do that in a few steps below: "
   ]
  },
  {
   "cell_type": "code",
   "execution_count": 49,
   "metadata": {},
   "outputs": [
    {
     "name": "stdout",
     "output_type": "stream",
     "text": [
      "[   0    2    4 ... 9994 9996 9998]\n"
     ]
    }
   ],
   "source": [
    "even_int = np.arange(0,10000,2)\n",
    "print(even_int)"
   ]
  },
  {
   "cell_type": "code",
   "execution_count": 50,
   "metadata": {},
   "outputs": [
    {
     "data": {
      "text/plain": [
       "24995000"
      ]
     },
     "execution_count": 50,
     "metadata": {},
     "output_type": "execute_result"
    }
   ],
   "source": [
    "even_int.sum()"
   ]
  },
  {
   "cell_type": "code",
   "execution_count": 51,
   "metadata": {},
   "outputs": [
    {
     "name": "stdout",
     "output_type": "stream",
     "text": [
      "24995000\n"
     ]
    }
   ],
   "source": [
    "total = np.sum(even_int)\n",
    "print(total)"
   ]
  },
  {
   "cell_type": "markdown",
   "metadata": {},
   "source": [
    "***\n",
    "\n",
    "### Exercise 6\n",
    "\n",
    "Using the above steps as a template, figure out the sum of the **odd** numbers less than **100,000**:"
   ]
  },
  {
   "cell_type": "code",
   "execution_count": 59,
   "metadata": {},
   "outputs": [
    {
     "name": "stdout",
     "output_type": "stream",
     "text": [
      "[    1     3     5 ... 99995 99997 99999]\n",
      "2500000000\n"
     ]
    }
   ],
   "source": [
    "# Get all the numbers up to 100,000 in a numpy array (below is the easy way)\n",
    "odd_int = np.arange(1,100000,2)\n",
    "print(odd_int)\n",
    "print(np.sum(odd_int))"
   ]
  },
  {
   "cell_type": "code",
   "execution_count": 58,
   "metadata": {},
   "outputs": [
    {
     "name": "stdout",
     "output_type": "stream",
     "text": [
      "[    0     1     2 ... 99997 99998 99999]\n"
     ]
    }
   ],
   "source": [
    "numbers_100 = np.arange(0,100000)\n",
    "print(numbers_100)\n",
    "numbers_100 = np.array\n",
    "print"
   ]
  },
  {
   "cell_type": "code",
   "execution_count": null,
   "metadata": {},
   "outputs": [],
   "source": [
    "# Now, we can get our boolean array\n",
    "# Odd numbers have a remainder when divided by 2,\n",
    "# The way to say this in python is: x % 2 != 0\n",
    "# This says, x, when divided by 2 has a remainder that is not equal to 0\n",
    "\n",
    "# Now we use bool_array_odds to index into numbers\n",
    "\n",
    "# Then take the sum\n",
    "\n",
    "numbers_100 "
   ]
  },
  {
   "cell_type": "code",
   "execution_count": 62,
   "metadata": {},
   "outputs": [
    {
     "name": "stdout",
     "output_type": "stream",
     "text": [
      "[   0    1    2 ... 9997 9998 9999]\n",
      "25000000\n"
     ]
    }
   ],
   "source": [
    "#Solution:\n",
    "all_int = np.arange(10000)\n",
    "print(all_int)\n",
    "bool_odd_ints = all_int % 2 != 0 #!= means does not equal; and == says give me everything where the remainder IS equal to zero which gives you the even numbers\n",
    "odd_int = all_int[bool_odd_ints]\n",
    "print(np.sum(odd_int))\n",
    "\n",
    "\n"
   ]
  },
  {
   "cell_type": "code",
   "execution_count": null,
   "metadata": {},
   "outputs": [],
   "source": []
  }
 ],
 "metadata": {
  "kernelspec": {
   "display_name": "Python 3 (ipykernel)",
   "language": "python",
   "name": "python3"
  },
  "language_info": {
   "codemirror_mode": {
    "name": "ipython",
    "version": 3
   },
   "file_extension": ".py",
   "mimetype": "text/x-python",
   "name": "python",
   "nbconvert_exporter": "python",
   "pygments_lexer": "ipython3",
   "version": "3.9.7"
  }
 },
 "nbformat": 4,
 "nbformat_minor": 4
}
