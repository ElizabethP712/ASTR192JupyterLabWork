{
 "cells": [
  {
   "cell_type": "markdown",
   "metadata": {},
   "source": [
    "[Pre-MAP Course Website](http://depts.washington.edu/premap/seminar/cohort-17-2021-seminar/) | [Pre-MAP GitHub](https://github.com/UWPreMAP/PreMAP2021) | [Google](https://www.google.com)\n",
    "\n",
    "### Each time you access the PreMAP2021 directory make sure your files are up to date\n",
    "1. Open up a terminal tab (New -> Terminal). Change directories into the PreMAP2021 directory, then do:\n",
    "```bash\n",
    "cd PreMAP2021\n",
    "```\n",
    "2. Update the directory to get any newly added files by running in the terminal:\n",
    "```bash\n",
    "git pull\n",
    "```\n",
    "3. Type in your terminal:\n",
    "```bash\n",
    "cd lessons\n",
    "```\n",
    "4. If you're on the AstroLab computer, type in your terminal:\n",
    "```bash\n",
    "jupyter notebook\n",
    "```\n",
    "This will open a webpage that has the lessons on them. You can select this lesson and then edit and run the cells to follow along with the lesson. Remember to change \"Lastname\" to your last name."
   ]
  },
  {
   "cell_type": "markdown",
   "metadata": {},
   "source": [
    "# Control flow/logic\n",
    "### Control flow statements literally control the flow of your code!\n",
    "There are a few basic types of control flow statements that we will learn. These are as follows: \n",
    "- **if:** do something _if_ some condition is `True`\n",
    "- **for:** do something repeatedly _for_ some number of times, or on some number of items\n",
    "- **while:** do something _while_ some condition is `True`\n",
    "\n",
    "Let's look at some examples. **Notice that indentation (whitespace preceding code) matters in Python**! Blocks of text following a `for`, `while` or `if` statement must be indented to run properly. You can think of the indent as saying \"do\"."
   ]
  },
  {
   "cell_type": "markdown",
   "metadata": {},
   "source": [
    "## Boolean review\n",
    "\n",
    "Remember that a boolean is a special data type in python that has two possible values, `True` or `False`.\n",
    "\n",
    "When we type a statement in python that results in a Boolean, we are essentially asking if that statement is `True` or `False`. For example"
   ]
  },
  {
   "cell_type": "code",
   "execution_count": 1,
   "metadata": {},
   "outputs": [
    {
     "name": "stdout",
     "output_type": "stream",
     "text": [
      "True\n",
      "False\n"
     ]
    }
   ],
   "source": [
    "number = 5\n",
    "\n",
    "print(number > 2)\n",
    "print(number < 2)"
   ]
  },
  {
   "cell_type": "markdown",
   "metadata": {},
   "source": [
    "This doesn't just hold for numbers, we can check if a variable is equal to a string as well. Remember that when we want to check if two things are equal, we use `==`."
   ]
  },
  {
   "cell_type": "code",
   "execution_count": 4,
   "metadata": {},
   "outputs": [
    {
     "name": "stdout",
     "output_type": "stream",
     "text": [
      "False\n",
      "True\n"
     ]
    }
   ],
   "source": [
    "chalkboard_text = \"The Simpsons\"\n",
    "\n",
    "print(chalkboard_text == \"Futurama\") #B.c they are not the same\n",
    "\n",
    "print(chalkboard_text != \"Futurama\") #B/c they are not the same"
   ]
  },
  {
   "cell_type": "markdown",
   "metadata": {},
   "source": [
    "This will come in handy today as we learn how to write code that only runs sometimes to handle multiple cases."
   ]
  },
  {
   "cell_type": "markdown",
   "metadata": {},
   "source": [
    "### `and` and `or`\n",
    "\n",
    "You can make complex statements that result in Booleans by using `and` and `or`. These work as follows:"
   ]
  },
  {
   "cell_type": "code",
   "execution_count": 5,
   "metadata": {},
   "outputs": [],
   "source": [
    "number = 5"
   ]
  },
  {
   "cell_type": "code",
   "execution_count": 7,
   "metadata": {},
   "outputs": [
    {
     "name": "stdout",
     "output_type": "stream",
     "text": [
      "True\n"
     ]
    }
   ],
   "source": [
    "print(number > 0 and number == 5) #Both of these have to be true for python to tell us it is true"
   ]
  },
  {
   "cell_type": "code",
   "execution_count": 8,
   "metadata": {},
   "outputs": [
    {
     "name": "stdout",
     "output_type": "stream",
     "text": [
      "False\n"
     ]
    }
   ],
   "source": [
    "print(number > 0 and number > 10) #Both of these are not true!"
   ]
  },
  {
   "cell_type": "code",
   "execution_count": 9,
   "metadata": {},
   "outputs": [
    {
     "name": "stdout",
     "output_type": "stream",
     "text": [
      "False\n"
     ]
    }
   ],
   "source": [
    "print(number < 0 and number > 10)"
   ]
  },
  {
   "cell_type": "code",
   "execution_count": 11,
   "metadata": {},
   "outputs": [
    {
     "name": "stdout",
     "output_type": "stream",
     "text": [
      "True\n"
     ]
    }
   ],
   "source": [
    "print(number > 0 or number == 5) #Now just one of these has to be true for the statement to be true!"
   ]
  },
  {
   "cell_type": "code",
   "execution_count": 12,
   "metadata": {},
   "outputs": [
    {
     "name": "stdout",
     "output_type": "stream",
     "text": [
      "True\n"
     ]
    }
   ],
   "source": [
    "print(number > 0 or number > 10) #B/c 5 is greater than 0!"
   ]
  },
  {
   "cell_type": "code",
   "execution_count": 13,
   "metadata": {},
   "outputs": [
    {
     "name": "stdout",
     "output_type": "stream",
     "text": [
      "False\n"
     ]
    }
   ],
   "source": [
    "print(number < 0 or number > 10)"
   ]
  },
  {
   "cell_type": "markdown",
   "metadata": {},
   "source": [
    "## The `if` statement\n",
    "\n",
    "When you need a program to do something more complicated than arithmetic, you'll sometimes need the code to do something _if_ some condition is met, otherwise it should do something else.\n",
    "\n",
    "The syntax is as follows\n",
    "\n",
    "```python\n",
    "if STATEMENT:\n",
    "    THING\n",
    "```\n",
    "\n",
    "so, python does the THING if the STATEMENT is true. We can also tell python what to do if STATEMENT is not true, with (this is where the indenting matters):\n",
    "\n",
    "```python\n",
    "if STATEMENT:\n",
    "    THING\n",
    "else:\n",
    "    OTHERTHING\n",
    "```\n",
    "\n",
    "One basic example is checking a password. _If_ someone submits the right password, then tell them they're welcome, _else_ (otherwise) give them a warning to get away. Here's how we can do that in Python:\n"
   ]
  },
  {
   "cell_type": "code",
   "execution_count": 16,
   "metadata": {},
   "outputs": [
    {
     "name": "stdout",
     "output_type": "stream",
     "text": [
      "You shall not pass!\n"
     ]
    }
   ],
   "source": [
    "input_password = '1234'\n",
    "truePassword = 'friend'\n",
    "\n",
    "if input_password == truePassword:\n",
    "    # This indented code will only run if the above condition is True\n",
    "    print('Enter.')\n",
    "else:\n",
    "    # This indented code will only run if the above condition is False\n",
    "    print('You shall not pass!')"
   ]
  },
  {
   "cell_type": "code",
   "execution_count": 17,
   "metadata": {},
   "outputs": [
    {
     "name": "stdout",
     "output_type": "stream",
     "text": [
      "Enter.\n"
     ]
    }
   ],
   "source": [
    "input_password = 'friend'\n",
    "truePassword = 'friend'\n",
    "\n",
    "if input_password == truePassword:\n",
    "    # This indented code will only run if the above condition is True\n",
    "    print('Enter.')\n",
    "else:\n",
    "    # This indented code will only run if the above condition is False\n",
    "    print('You shall not pass!')"
   ]
  },
  {
   "cell_type": "markdown",
   "metadata": {},
   "source": [
    "The above example has only two possible outcomes - either the password is correct or incorrect. Sometimes, you'll want more possible outcomes, and for those occasions you can use the `elif` statement, meaning \"else-if\". For example, let's create a program that tells you how someone might react to a gift of skittles:\n",
    "\n",
    "Run the code in the cell below and see what happens when you change the value of the `skittles_gifted` variable."
   ]
  },
  {
   "cell_type": "code",
   "execution_count": 23,
   "metadata": {},
   "outputs": [
    {
     "name": "stdout",
     "output_type": "stream",
     "text": [
      "I would love some more skittles if you'll share.\n"
     ]
    }
   ],
   "source": [
    "skittles_gifted = 3\n",
    "\n",
    "if skittles_gifted < 5:\n",
    "    print(\"I would love some more skittles if you'll share.\")\n",
    "elif skittles_gifted < 10: #Applies to the one directly above it, so the computer does this in order. elif is also important because it does not print anything below if the statement above is true. If you just have ifs then it prints everything that is true.\n",
    "    print(\"Maybe one more skittle please.\")\n",
    "elif skittles_gifted < 50: \n",
    "    print(\"Thank you, but this is too many skittles.\")\n",
    "else: #cannot have elif without a statement\n",
    "    print(\"Oh no! I'm buried in skittles now.\")"
   ]
  },
  {
   "cell_type": "code",
   "execution_count": 25,
   "metadata": {},
   "outputs": [
    {
     "name": "stdout",
     "output_type": "stream",
     "text": [
      "I would love some more skittles if you'll share.\n",
      "Maybe one more skittle please.\n",
      "Thank you, but this is too many skittles.\n",
      "Oh no! I'm buried in skittles now.\n"
     ]
    }
   ],
   "source": [
    "skittles_gifted = 3\n",
    "\n",
    "if skittles_gifted < 5:\n",
    "    print(\"I would love some more skittles if you'll share.\")\n",
    "if skittles_gifted < 10: #Applies to the one directly above it, so the computer does this in order.\n",
    "    print(\"Maybe one more skittle please.\")\n",
    "if skittles_gifted < 50: \n",
    "    print(\"Thank you, but this is too many skittles.\")\n",
    "if skittles_gifted <100: #cannot have elif without a statement\n",
    "    print(\"Oh no! I'm buried in skittles now.\")"
   ]
  },
  {
   "cell_type": "markdown",
   "metadata": {},
   "source": [
    "### Example 1\n",
    "\n",
    "In the cell below, explain the sequence of events in the code starting from the first line, when `course_number = 601`, in comments: "
   ]
  },
  {
   "cell_type": "code",
   "execution_count": 26,
   "metadata": {},
   "outputs": [
    {
     "name": "stdout",
     "output_type": "stream",
     "text": [
      "Runaway!\n"
     ]
    }
   ],
   "source": [
    "course_number = 601\n",
    "\n",
    "if course_number < 200: #This is stating that if the variable's value is less than 200, than the code should print \"This course is going to be fun.\"\n",
    "    print(\"This course is going to be fun.\")\n",
    "elif course_number < 300: #This is stating that if the variable's value is not less than 200, but less than 300, python should print \"This course is going to be hard.\"\n",
    "    print(\"This course is going to be hard.\")\n",
    "elif course_number < 400: #This is stating that if the variable's value or the course is less than 400 but greater than 200 and 300 or not satisfying the previous two statements, python should pring \"You might want to wait for this course.\"\n",
    "    print(\"You might want to wait for this course.\")\n",
    "else: #This is stating that if the course does not satisfy any of the booleans above, python should print \"Runaway!\"\n",
    "    print(\"Runaway!\")"
   ]
  },
  {
   "cell_type": "markdown",
   "metadata": {},
   "source": [
    "### Example 2\n",
    "\n",
    "In the cell below, create a program that checks that the user paid the correct amount for a product. You should make two variables, `customer_paid` for how much the customer gave you, and `price` for how much the product costs. Then your program will do one of three things: \n",
    "1. If the customer pays exactly the price, print \"thanks!\"\n",
    "2. If the customer pays more than the price, print \"thanks!!!\"\n",
    "3. If the customer pays less than the price, print \"try again\""
   ]
  },
  {
   "cell_type": "code",
   "execution_count": 35,
   "metadata": {},
   "outputs": [
    {
     "name": "stdout",
     "output_type": "stream",
     "text": [
      "try again\n"
     ]
    }
   ],
   "source": [
    "customer_paid = 1 #USD\n",
    "price_dozendonuts = 20 #USD\n",
    "\n",
    "if customer_paid == price_dozendonuts: #Better to use a variable b/c if the price changes, you have to change each individual line.\n",
    "    print(\"thanks!\")\n",
    "elif customer_paid > price_dozendonuts:\n",
    "    print(\"thanks!!!\")\n",
    "elif customer_paid < price_dozendonuts:\n",
    "    print(\"try again\")\n",
    "else: #Should signify an error?\n",
    "    print(\"What?\")"
   ]
  },
  {
   "cell_type": "code",
   "execution_count": 5,
   "metadata": {},
   "outputs": [
    {
     "name": "stdout",
     "output_type": "stream",
     "text": [
      "True\n",
      "False\n",
      "Don't wear a rain jacket\n"
     ]
    }
   ],
   "source": [
    "number = 5\n",
    "print(number<10)\n",
    "print(number==10)\n",
    "weather = \"Rain\"\n",
    "temp = \"Hot\"\n",
    "if weather == \"Rain\" and temp == \"Cold\": #Won't print anything because this statement is not true. Don't forget the colon!\n",
    "    print(\"Wear a rain jacket\")\n",
    "else:\n",
    "    print(\"Don't wear a rain jacket\")"
   ]
  },
  {
   "cell_type": "markdown",
   "metadata": {
    "tags": []
   },
   "source": [
    "## The `while` loop\n",
    "\n",
    "The `while` command is the first type of _loop_ we'll use. A loop is a snippet of code that gets run repeatedly. \n",
    "\n",
    "The syntax is as follows\n",
    "```python\n",
    "while STATEMENT:\n",
    "    THING\n",
    "```\n",
    "This tells python to do the THING while STATEMENT is true.\n",
    "\n",
    "Let's see an example below, where we use a `while` loop to add 1 to `number` for as many times as necessary until `number` is greater than or equal to 10:\n",
    "\n",
    "Run the code in the cell below. What gets printed and why?"
   ]
  },
  {
   "cell_type": "code",
   "execution_count": 6,
   "metadata": {},
   "outputs": [
    {
     "name": "stdout",
     "output_type": "stream",
     "text": [
      "0\n",
      "1\n",
      "2\n",
      "3\n",
      "4\n",
      "5\n",
      "6\n",
      "7\n",
      "8\n",
      "9\n",
      "Final value of number 10\n"
     ]
    }
   ],
   "source": [
    "number = 0\n",
    "\n",
    "while number < 10: #Will start out true, and then it will become false.\n",
    "    print(number)\n",
    "    number += 1 #Same as number = number + 1\n",
    "    \n",
    "print(\"Final value of number\", number, \"Another thing\") #The final value is 10, but it is not printed because it does not satisfy the while statement; a comma lets you print multiple things where the plus works for two strings."
   ]
  },
  {
   "cell_type": "code",
   "execution_count": 9,
   "metadata": {},
   "outputs": [
    {
     "ename": "KeyboardInterrupt",
     "evalue": "",
     "output_type": "error",
     "traceback": [
      "\u001b[0;31m---------------------------------------------------------------------------\u001b[0m",
      "\u001b[0;31mKeyboardInterrupt\u001b[0m                         Traceback (most recent call last)",
      "\u001b[0;32m/tmp/ipykernel_53/1414085178.py\u001b[0m in \u001b[0;36m<module>\u001b[0;34m\u001b[0m\n\u001b[1;32m      1\u001b[0m \u001b[0mnumber\u001b[0m \u001b[0;34m=\u001b[0m \u001b[0;36m5\u001b[0m\u001b[0;34m\u001b[0m\u001b[0;34m\u001b[0m\u001b[0m\n\u001b[1;32m      2\u001b[0m \u001b[0;34m\u001b[0m\u001b[0m\n\u001b[0;32m----> 3\u001b[0;31m \u001b[0;32mwhile\u001b[0m \u001b[0mnumber\u001b[0m\u001b[0;34m>\u001b[0m\u001b[0;36m0\u001b[0m\u001b[0;34m:\u001b[0m\u001b[0;34m\u001b[0m\u001b[0;34m\u001b[0m\u001b[0m\n\u001b[0m\u001b[1;32m      4\u001b[0m     \u001b[0mnumber\u001b[0m \u001b[0;34m+=\u001b[0m \u001b[0;36m1\u001b[0m\u001b[0;34m\u001b[0m\u001b[0;34m\u001b[0m\u001b[0m\n\u001b[1;32m      5\u001b[0m \u001b[0;34m\u001b[0m\u001b[0m\n",
      "\u001b[0;31mKeyboardInterrupt\u001b[0m: "
     ]
    }
   ],
   "source": [
    "number = 5\n",
    "\n",
    "while number>0:\n",
    "    number += 1\n",
    "    \n",
    "print(number)\n",
    "\n",
    "#The asterisk in the brackets mean this is an infinite loop. To stop it press the square above."
   ]
  },
  {
   "cell_type": "markdown",
   "metadata": {},
   "source": [
    "### Example 4\n",
    "\n",
    "Using the example above as a template, create a variable `counter = 5000`, and use a `while` loop to subtract 10 from `counter` until `counter` is less than -5000. \n",
    "\n",
    "Print `counter` after the loop is complete, so you can see the result."
   ]
  },
  {
   "cell_type": "code",
   "execution_count": 32,
   "metadata": {
    "scrolled": true
   },
   "outputs": [
    {
     "name": "stdout",
     "output_type": "stream",
     "text": [
      "5000\n",
      "4990\n",
      "4980\n",
      "4970\n",
      "4960\n",
      "4950\n",
      "4940\n",
      "4930\n",
      "4920\n",
      "4910\n",
      "4900\n",
      "4890\n",
      "4880\n",
      "4870\n",
      "4860\n",
      "4850\n",
      "4840\n",
      "4830\n",
      "4820\n",
      "4810\n",
      "4800\n",
      "4790\n",
      "4780\n",
      "4770\n",
      "4760\n",
      "4750\n",
      "4740\n",
      "4730\n",
      "4720\n",
      "4710\n",
      "4700\n",
      "4690\n",
      "4680\n",
      "4670\n",
      "4660\n",
      "4650\n",
      "4640\n",
      "4630\n",
      "4620\n",
      "4610\n",
      "4600\n",
      "4590\n",
      "4580\n",
      "4570\n",
      "4560\n",
      "4550\n",
      "4540\n",
      "4530\n",
      "4520\n",
      "4510\n",
      "4500\n",
      "4490\n",
      "4480\n",
      "4470\n",
      "4460\n",
      "4450\n",
      "4440\n",
      "4430\n",
      "4420\n",
      "4410\n",
      "4400\n",
      "4390\n",
      "4380\n",
      "4370\n",
      "4360\n",
      "4350\n",
      "4340\n",
      "4330\n",
      "4320\n",
      "4310\n",
      "4300\n",
      "4290\n",
      "4280\n",
      "4270\n",
      "4260\n",
      "4250\n",
      "4240\n",
      "4230\n",
      "4220\n",
      "4210\n",
      "4200\n",
      "4190\n",
      "4180\n",
      "4170\n",
      "4160\n",
      "4150\n",
      "4140\n",
      "4130\n",
      "4120\n",
      "4110\n",
      "4100\n",
      "4090\n",
      "4080\n",
      "4070\n",
      "4060\n",
      "4050\n",
      "4040\n",
      "4030\n",
      "4020\n",
      "4010\n",
      "4000\n",
      "3990\n",
      "3980\n",
      "3970\n",
      "3960\n",
      "3950\n",
      "3940\n",
      "3930\n",
      "3920\n",
      "3910\n",
      "3900\n",
      "3890\n",
      "3880\n",
      "3870\n",
      "3860\n",
      "3850\n",
      "3840\n",
      "3830\n",
      "3820\n",
      "3810\n",
      "3800\n",
      "3790\n",
      "3780\n",
      "3770\n",
      "3760\n",
      "3750\n",
      "3740\n",
      "3730\n",
      "3720\n",
      "3710\n",
      "3700\n",
      "3690\n",
      "3680\n",
      "3670\n",
      "3660\n",
      "3650\n",
      "3640\n",
      "3630\n",
      "3620\n",
      "3610\n",
      "3600\n",
      "3590\n",
      "3580\n",
      "3570\n",
      "3560\n",
      "3550\n",
      "3540\n",
      "3530\n",
      "3520\n",
      "3510\n",
      "3500\n",
      "3490\n",
      "3480\n",
      "3470\n",
      "3460\n",
      "3450\n",
      "3440\n",
      "3430\n",
      "3420\n",
      "3410\n",
      "3400\n",
      "3390\n",
      "3380\n",
      "3370\n",
      "3360\n",
      "3350\n",
      "3340\n",
      "3330\n",
      "3320\n",
      "3310\n",
      "3300\n",
      "3290\n",
      "3280\n",
      "3270\n",
      "3260\n",
      "3250\n",
      "3240\n",
      "3230\n",
      "3220\n",
      "3210\n",
      "3200\n",
      "3190\n",
      "3180\n",
      "3170\n",
      "3160\n",
      "3150\n",
      "3140\n",
      "3130\n",
      "3120\n",
      "3110\n",
      "3100\n",
      "3090\n",
      "3080\n",
      "3070\n",
      "3060\n",
      "3050\n",
      "3040\n",
      "3030\n",
      "3020\n",
      "3010\n",
      "3000\n",
      "2990\n",
      "2980\n",
      "2970\n",
      "2960\n",
      "2950\n",
      "2940\n",
      "2930\n",
      "2920\n",
      "2910\n",
      "2900\n",
      "2890\n",
      "2880\n",
      "2870\n",
      "2860\n",
      "2850\n",
      "2840\n",
      "2830\n",
      "2820\n",
      "2810\n",
      "2800\n",
      "2790\n",
      "2780\n",
      "2770\n",
      "2760\n",
      "2750\n",
      "2740\n",
      "2730\n",
      "2720\n",
      "2710\n",
      "2700\n",
      "2690\n",
      "2680\n",
      "2670\n",
      "2660\n",
      "2650\n",
      "2640\n",
      "2630\n",
      "2620\n",
      "2610\n",
      "2600\n",
      "2590\n",
      "2580\n",
      "2570\n",
      "2560\n",
      "2550\n",
      "2540\n",
      "2530\n",
      "2520\n",
      "2510\n",
      "2500\n",
      "2490\n",
      "2480\n",
      "2470\n",
      "2460\n",
      "2450\n",
      "2440\n",
      "2430\n",
      "2420\n",
      "2410\n",
      "2400\n",
      "2390\n",
      "2380\n",
      "2370\n",
      "2360\n",
      "2350\n",
      "2340\n",
      "2330\n",
      "2320\n",
      "2310\n",
      "2300\n",
      "2290\n",
      "2280\n",
      "2270\n",
      "2260\n",
      "2250\n",
      "2240\n",
      "2230\n",
      "2220\n",
      "2210\n",
      "2200\n",
      "2190\n",
      "2180\n",
      "2170\n",
      "2160\n",
      "2150\n",
      "2140\n",
      "2130\n",
      "2120\n",
      "2110\n",
      "2100\n",
      "2090\n",
      "2080\n",
      "2070\n",
      "2060\n",
      "2050\n",
      "2040\n",
      "2030\n",
      "2020\n",
      "2010\n",
      "2000\n",
      "1990\n",
      "1980\n",
      "1970\n",
      "1960\n",
      "1950\n",
      "1940\n",
      "1930\n",
      "1920\n",
      "1910\n",
      "1900\n",
      "1890\n",
      "1880\n",
      "1870\n",
      "1860\n",
      "1850\n",
      "1840\n",
      "1830\n",
      "1820\n",
      "1810\n",
      "1800\n",
      "1790\n",
      "1780\n",
      "1770\n",
      "1760\n",
      "1750\n",
      "1740\n",
      "1730\n",
      "1720\n",
      "1710\n",
      "1700\n",
      "1690\n",
      "1680\n",
      "1670\n",
      "1660\n",
      "1650\n",
      "1640\n",
      "1630\n",
      "1620\n",
      "1610\n",
      "1600\n",
      "1590\n",
      "1580\n",
      "1570\n",
      "1560\n",
      "1550\n",
      "1540\n",
      "1530\n",
      "1520\n",
      "1510\n",
      "1500\n",
      "1490\n",
      "1480\n",
      "1470\n",
      "1460\n",
      "1450\n",
      "1440\n",
      "1430\n",
      "1420\n",
      "1410\n",
      "1400\n",
      "1390\n",
      "1380\n",
      "1370\n",
      "1360\n",
      "1350\n",
      "1340\n",
      "1330\n",
      "1320\n",
      "1310\n",
      "1300\n",
      "1290\n",
      "1280\n",
      "1270\n",
      "1260\n",
      "1250\n",
      "1240\n",
      "1230\n",
      "1220\n",
      "1210\n",
      "1200\n",
      "1190\n",
      "1180\n",
      "1170\n",
      "1160\n",
      "1150\n",
      "1140\n",
      "1130\n",
      "1120\n",
      "1110\n",
      "1100\n",
      "1090\n",
      "1080\n",
      "1070\n",
      "1060\n",
      "1050\n",
      "1040\n",
      "1030\n",
      "1020\n",
      "1010\n",
      "1000\n",
      "990\n",
      "980\n",
      "970\n",
      "960\n",
      "950\n",
      "940\n",
      "930\n",
      "920\n",
      "910\n",
      "900\n",
      "890\n",
      "880\n",
      "870\n",
      "860\n",
      "850\n",
      "840\n",
      "830\n",
      "820\n",
      "810\n",
      "800\n",
      "790\n",
      "780\n",
      "770\n",
      "760\n",
      "750\n",
      "740\n",
      "730\n",
      "720\n",
      "710\n",
      "700\n",
      "690\n",
      "680\n",
      "670\n",
      "660\n",
      "650\n",
      "640\n",
      "630\n",
      "620\n",
      "610\n",
      "600\n",
      "590\n",
      "580\n",
      "570\n",
      "560\n",
      "550\n",
      "540\n",
      "530\n",
      "520\n",
      "510\n",
      "500\n",
      "490\n",
      "480\n",
      "470\n",
      "460\n",
      "450\n",
      "440\n",
      "430\n",
      "420\n",
      "410\n",
      "400\n",
      "390\n",
      "380\n",
      "370\n",
      "360\n",
      "350\n",
      "340\n",
      "330\n",
      "320\n",
      "310\n",
      "300\n",
      "290\n",
      "280\n",
      "270\n",
      "260\n",
      "250\n",
      "240\n",
      "230\n",
      "220\n",
      "210\n",
      "200\n",
      "190\n",
      "180\n",
      "170\n",
      "160\n",
      "150\n",
      "140\n",
      "130\n",
      "120\n",
      "110\n",
      "100\n",
      "90\n",
      "80\n",
      "70\n",
      "60\n",
      "50\n",
      "40\n",
      "30\n",
      "20\n",
      "10\n",
      "0\n",
      "-10\n",
      "-20\n",
      "-30\n",
      "-40\n",
      "-50\n",
      "-60\n",
      "-70\n",
      "-80\n",
      "-90\n",
      "-100\n",
      "-110\n",
      "-120\n",
      "-130\n",
      "-140\n",
      "-150\n",
      "-160\n",
      "-170\n",
      "-180\n",
      "-190\n",
      "-200\n",
      "-210\n",
      "-220\n",
      "-230\n",
      "-240\n",
      "-250\n",
      "-260\n",
      "-270\n",
      "-280\n",
      "-290\n",
      "-300\n",
      "-310\n",
      "-320\n",
      "-330\n",
      "-340\n",
      "-350\n",
      "-360\n",
      "-370\n",
      "-380\n",
      "-390\n",
      "-400\n",
      "-410\n",
      "-420\n",
      "-430\n",
      "-440\n",
      "-450\n",
      "-460\n",
      "-470\n",
      "-480\n",
      "-490\n",
      "-500\n",
      "-510\n",
      "-520\n",
      "-530\n",
      "-540\n",
      "-550\n",
      "-560\n",
      "-570\n",
      "-580\n",
      "-590\n",
      "-600\n",
      "-610\n",
      "-620\n",
      "-630\n",
      "-640\n",
      "-650\n",
      "-660\n",
      "-670\n",
      "-680\n",
      "-690\n",
      "-700\n",
      "-710\n",
      "-720\n",
      "-730\n",
      "-740\n",
      "-750\n",
      "-760\n",
      "-770\n",
      "-780\n",
      "-790\n",
      "-800\n",
      "-810\n",
      "-820\n",
      "-830\n",
      "-840\n",
      "-850\n",
      "-860\n",
      "-870\n",
      "-880\n",
      "-890\n",
      "-900\n",
      "-910\n",
      "-920\n",
      "-930\n",
      "-940\n",
      "-950\n",
      "-960\n",
      "-970\n",
      "-980\n",
      "-990\n",
      "-1000\n",
      "-1010\n",
      "-1020\n",
      "-1030\n",
      "-1040\n",
      "-1050\n",
      "-1060\n",
      "-1070\n",
      "-1080\n",
      "-1090\n",
      "-1100\n",
      "-1110\n",
      "-1120\n",
      "-1130\n",
      "-1140\n",
      "-1150\n",
      "-1160\n",
      "-1170\n",
      "-1180\n",
      "-1190\n",
      "-1200\n",
      "-1210\n",
      "-1220\n",
      "-1230\n",
      "-1240\n",
      "-1250\n",
      "-1260\n",
      "-1270\n",
      "-1280\n",
      "-1290\n",
      "-1300\n",
      "-1310\n",
      "-1320\n",
      "-1330\n",
      "-1340\n",
      "-1350\n",
      "-1360\n",
      "-1370\n",
      "-1380\n",
      "-1390\n",
      "-1400\n",
      "-1410\n",
      "-1420\n",
      "-1430\n",
      "-1440\n",
      "-1450\n",
      "-1460\n",
      "-1470\n",
      "-1480\n",
      "-1490\n",
      "-1500\n",
      "-1510\n",
      "-1520\n",
      "-1530\n",
      "-1540\n",
      "-1550\n",
      "-1560\n",
      "-1570\n",
      "-1580\n",
      "-1590\n",
      "-1600\n",
      "-1610\n",
      "-1620\n",
      "-1630\n",
      "-1640\n",
      "-1650\n",
      "-1660\n",
      "-1670\n",
      "-1680\n",
      "-1690\n",
      "-1700\n",
      "-1710\n",
      "-1720\n",
      "-1730\n",
      "-1740\n",
      "-1750\n",
      "-1760\n",
      "-1770\n",
      "-1780\n",
      "-1790\n",
      "-1800\n",
      "-1810\n",
      "-1820\n",
      "-1830\n",
      "-1840\n",
      "-1850\n",
      "-1860\n",
      "-1870\n",
      "-1880\n",
      "-1890\n",
      "-1900\n",
      "-1910\n",
      "-1920\n",
      "-1930\n",
      "-1940\n",
      "-1950\n",
      "-1960\n",
      "-1970\n",
      "-1980\n",
      "-1990\n",
      "-2000\n",
      "-2010\n",
      "-2020\n",
      "-2030\n",
      "-2040\n",
      "-2050\n",
      "-2060\n",
      "-2070\n",
      "-2080\n",
      "-2090\n",
      "-2100\n",
      "-2110\n",
      "-2120\n",
      "-2130\n",
      "-2140\n",
      "-2150\n",
      "-2160\n",
      "-2170\n",
      "-2180\n",
      "-2190\n",
      "-2200\n",
      "-2210\n",
      "-2220\n",
      "-2230\n",
      "-2240\n",
      "-2250\n",
      "-2260\n",
      "-2270\n",
      "-2280\n",
      "-2290\n",
      "-2300\n",
      "-2310\n",
      "-2320\n",
      "-2330\n",
      "-2340\n",
      "-2350\n",
      "-2360\n",
      "-2370\n",
      "-2380\n",
      "-2390\n",
      "-2400\n",
      "-2410\n",
      "-2420\n",
      "-2430\n",
      "-2440\n",
      "-2450\n",
      "-2460\n",
      "-2470\n",
      "-2480\n",
      "-2490\n",
      "-2500\n",
      "-2510\n",
      "-2520\n",
      "-2530\n",
      "-2540\n",
      "-2550\n",
      "-2560\n",
      "-2570\n",
      "-2580\n",
      "-2590\n",
      "-2600\n",
      "-2610\n",
      "-2620\n",
      "-2630\n",
      "-2640\n",
      "-2650\n",
      "-2660\n",
      "-2670\n",
      "-2680\n",
      "-2690\n",
      "-2700\n",
      "-2710\n",
      "-2720\n",
      "-2730\n",
      "-2740\n",
      "-2750\n",
      "-2760\n",
      "-2770\n",
      "-2780\n",
      "-2790\n",
      "-2800\n",
      "-2810\n",
      "-2820\n",
      "-2830\n",
      "-2840\n",
      "-2850\n",
      "-2860\n",
      "-2870\n",
      "-2880\n",
      "-2890\n",
      "-2900\n",
      "-2910\n",
      "-2920\n",
      "-2930\n",
      "-2940\n",
      "-2950\n",
      "-2960\n",
      "-2970\n",
      "-2980\n",
      "-2990\n",
      "-3000\n",
      "-3010\n",
      "-3020\n",
      "-3030\n",
      "-3040\n",
      "-3050\n",
      "-3060\n",
      "-3070\n",
      "-3080\n",
      "-3090\n",
      "-3100\n",
      "-3110\n",
      "-3120\n",
      "-3130\n",
      "-3140\n",
      "-3150\n",
      "-3160\n",
      "-3170\n",
      "-3180\n",
      "-3190\n",
      "-3200\n",
      "-3210\n",
      "-3220\n",
      "-3230\n",
      "-3240\n",
      "-3250\n",
      "-3260\n",
      "-3270\n",
      "-3280\n",
      "-3290\n",
      "-3300\n",
      "-3310\n",
      "-3320\n",
      "-3330\n",
      "-3340\n",
      "-3350\n",
      "-3360\n",
      "-3370\n",
      "-3380\n",
      "-3390\n",
      "-3400\n",
      "-3410\n",
      "-3420\n",
      "-3430\n",
      "-3440\n",
      "-3450\n",
      "-3460\n",
      "-3470\n",
      "-3480\n",
      "-3490\n",
      "-3500\n",
      "-3510\n",
      "-3520\n",
      "-3530\n",
      "-3540\n",
      "-3550\n",
      "-3560\n",
      "-3570\n",
      "-3580\n",
      "-3590\n",
      "-3600\n",
      "-3610\n",
      "-3620\n",
      "-3630\n",
      "-3640\n",
      "-3650\n",
      "-3660\n",
      "-3670\n",
      "-3680\n",
      "-3690\n",
      "-3700\n",
      "-3710\n",
      "-3720\n",
      "-3730\n",
      "-3740\n",
      "-3750\n",
      "-3760\n",
      "-3770\n",
      "-3780\n",
      "-3790\n",
      "-3800\n",
      "-3810\n",
      "-3820\n",
      "-3830\n",
      "-3840\n",
      "-3850\n",
      "-3860\n",
      "-3870\n",
      "-3880\n",
      "-3890\n",
      "-3900\n",
      "-3910\n",
      "-3920\n",
      "-3930\n",
      "-3940\n",
      "-3950\n",
      "-3960\n",
      "-3970\n",
      "-3980\n",
      "-3990\n",
      "-4000\n",
      "-4010\n",
      "-4020\n",
      "-4030\n",
      "-4040\n",
      "-4050\n",
      "-4060\n",
      "-4070\n",
      "-4080\n",
      "-4090\n",
      "-4100\n",
      "-4110\n",
      "-4120\n",
      "-4130\n",
      "-4140\n",
      "-4150\n",
      "-4160\n",
      "-4170\n",
      "-4180\n",
      "-4190\n",
      "-4200\n",
      "-4210\n",
      "-4220\n",
      "-4230\n",
      "-4240\n",
      "-4250\n",
      "-4260\n",
      "-4270\n",
      "-4280\n",
      "-4290\n",
      "-4300\n",
      "-4310\n",
      "-4320\n",
      "-4330\n",
      "-4340\n",
      "-4350\n",
      "-4360\n",
      "-4370\n",
      "-4380\n",
      "-4390\n",
      "-4400\n",
      "-4410\n",
      "-4420\n",
      "-4430\n",
      "-4440\n",
      "-4450\n",
      "-4460\n",
      "-4470\n",
      "-4480\n",
      "-4490\n",
      "-4500\n",
      "-4510\n",
      "-4520\n",
      "-4530\n",
      "-4540\n",
      "-4550\n",
      "-4560\n",
      "-4570\n",
      "-4580\n",
      "-4590\n",
      "-4600\n",
      "-4610\n",
      "-4620\n",
      "-4630\n",
      "-4640\n",
      "-4650\n",
      "-4660\n",
      "-4670\n",
      "-4680\n",
      "-4690\n",
      "-4700\n",
      "-4710\n",
      "-4720\n",
      "-4730\n",
      "-4740\n",
      "-4750\n",
      "-4760\n",
      "-4770\n",
      "-4780\n",
      "-4790\n",
      "-4800\n",
      "-4810\n",
      "-4820\n",
      "-4830\n",
      "-4840\n",
      "-4850\n",
      "-4860\n",
      "-4870\n",
      "-4880\n",
      "-4890\n",
      "-4900\n",
      "-4910\n",
      "-4920\n",
      "-4930\n",
      "-4940\n",
      "-4950\n",
      "-4960\n",
      "-4970\n",
      "-4980\n",
      "-4990\n",
      "Print final value -5000\n"
     ]
    }
   ],
   "source": [
    "counter = 5000\n",
    "while counter > -5000:\n",
    "    print(counter) #Needs a print here to run each increment!\n",
    "    counter -= 10 #Or counter = counter - 10\n",
    "    \n",
    "print(\"Print final value\",counter)\n"
   ]
  },
  {
   "cell_type": "markdown",
   "metadata": {},
   "source": [
    "***\n",
    "\n",
    "It's possible to accidentally create a loop that has no end. For example, if you wrote the above loop like this,\n",
    "```python\n",
    "counter = 5000\n",
    "\n",
    "while counter < 6000:\n",
    "    counter -= 10\n",
    "```\n",
    "the `counter` will always be less than 6000, so the condition `counter < 6000` will always be `True`, and the loop will never end. That's called an _infinite loop_. If you create an infinite loop, the program will keep running forever, unless you _kill_ it. You can kill a Python cell in an iPython Notebook by pressing the Stop button in the toolbar at the top of the page. \n",
    "\n",
    "### Example 5\n",
    "\n",
    "In this example, we'll create an infinite loop that doesn't go on forever, because it terminates with a `break` statement. `break` forces python to end a loop.\n",
    "\n",
    "Let's start a `counter` at 10, and iteratively subtract one from `counter`. We could make the `while` loop terminate when `counter == 1` by writing the loop like this\n",
    "```python\n",
    "counter = 10\n",
    "\n",
    "while counter > 1:\n",
    "    counter -=1\n",
    "    \n",
    "print(counter)\n",
    "```\n",
    "Or, we could `break` out of an infinite loop:\n",
    "```python\n",
    "counter = 10\n",
    "\n",
    "# This loop is infinite on purpose:\n",
    "while True:\n",
    "    counter -= 1\n",
    "    \n",
    "    # When counter is equal to one, break out of the loop:\n",
    "    if counter == 1:\n",
    "        break\n",
    "\n",
    "print(counter)\n",
    "```\n",
    "\n",
    "### Example 6\n",
    "\n",
    "1. Copy and paste the loop with the `break` from above into the cell below, and check that it works.\n",
    "\n",
    "2. Modify the loop so that it terminates when the `counter` is at negative one million (reminder: you can use `e` for scientific notation)\n",
    "\n",
    "3. Now modify the loop so that it counts down from 10 to negative one million by twos."
   ]
  },
  {
   "cell_type": "code",
   "execution_count": 33,
   "metadata": {},
   "outputs": [
    {
     "name": "stdout",
     "output_type": "stream",
     "text": [
      "Final Value -1000000\n"
     ]
    }
   ],
   "source": [
    "counter = 10\n",
    "\n",
    "# This loop is infinite on purpose:\n",
    "while True:\n",
    "    counter -= 2 #Or counter = counter - 2\n",
    "    #Could put print(counter) here but it has to be indented to continue the loop. Don't do, there is a lot of numbers.\n",
    "    # When counter is equal to one, break out of the loop:\n",
    "    if counter == -1e6:\n",
    "        break #If you put break anywhere, it will always break you out of the loop! Break is also a way to get out of a loop.\n",
    "        \n",
    "print(\"Final Value\",counter)\n"
   ]
  },
  {
   "cell_type": "markdown",
   "metadata": {},
   "source": [
    "### The `for` loop\n",
    "\n",
    "The `for` loop is trickier to learn than the other statements we've learned so far, but it's worth the trouble! \n",
    "\n",
    "A `for` loop is used to do something with every element of a list or array. The syntax is as follows\n",
    "\n",
    "```python\n",
    "for VARNAME in ITERABLE:\n",
    "    DO THING WITH VARNAME\n",
    "```\n",
    "You can give VARNAME whatever name you want. When you do something with that variable name in the for loop, python will do that to every element of ITERABLE (meaning you can do something over it).\n",
    "\n",
    "Let's say you have a grocery list of items you want to buy from the store. And let's say that the store publishes a list of prices for each item."
   ]
  },
  {
   "cell_type": "code",
   "execution_count": 30,
   "metadata": {},
   "outputs": [
    {
     "name": "stdout",
     "output_type": "stream",
     "text": [
      "['eggs', 'tofu', 'milk', 'chorizo', 'potatoes', 'tortillas', 'candy'] [1.99, 2.99, 0.99, 3.99, 1.99, 0.99, 5.99]\n"
     ]
    }
   ],
   "source": [
    "grocery_list = ['eggs', 'tofu', 'milk', 'chorizo', 'potatoes', 'tortillas', 'candy']\n",
    "\n",
    "# List is in dollars for (in order): eggs, tofu, milk, bread, candy\n",
    "prices_list = [1.99, 2.99, 0.99, 3.99, 1.99, 0.99, 5.99] \n",
    "\n",
    "print(grocery_list, prices_list)"
   ]
  },
  {
   "cell_type": "markdown",
   "metadata": {},
   "source": [
    "Note that the lists are printed sequentially. It would be a lot easier to read this like a table, with a column of items, and a column of their corresponding prices. We can do that with the code below. "
   ]
  },
  {
   "cell_type": "code",
   "execution_count": 34,
   "metadata": {},
   "outputs": [
    {
     "name": "stdout",
     "output_type": "stream",
     "text": [
      "eggs 1.99\n",
      "tofu 2.99\n",
      "milk 0.99\n",
      "chorizo 3.99\n",
      "potatoes 1.99\n",
      "tortillas 0.99\n",
      "candy 5.99\n"
     ]
    }
   ],
   "source": [
    "print(grocery_list[0], prices_list[0]) #Recall the \"0\" is the first element of the list.\n",
    "print(grocery_list[1], prices_list[1])\n",
    "print(grocery_list[2], prices_list[2])\n",
    "print(grocery_list[3], prices_list[3])\n",
    "print(grocery_list[4], prices_list[4])\n",
    "print(grocery_list[5], prices_list[5])\n",
    "print(grocery_list[6], prices_list[6])"
   ]
  },
  {
   "cell_type": "markdown",
   "metadata": {},
   "source": [
    "But that took a lot of typing! And would take even more typing if we had a longer grocery list. We can do this really efficiently with a `for` loop. But we have to build up to it first!\n",
    "\n",
    "Let's start by printing each name in the `grocery_list` list with a `for` loop: "
   ]
  },
  {
   "cell_type": "code",
   "execution_count": 35,
   "metadata": {},
   "outputs": [
    {
     "ename": "NameError",
     "evalue": "name 'grocery' is not defined",
     "output_type": "error",
     "traceback": [
      "\u001b[0;31m---------------------------------------------------------------------------\u001b[0m",
      "\u001b[0;31mNameError\u001b[0m                                 Traceback (most recent call last)",
      "\u001b[0;32m/tmp/ipykernel_53/2768419071.py\u001b[0m in \u001b[0;36m<module>\u001b[0;34m\u001b[0m\n\u001b[0;32m----> 1\u001b[0;31m \u001b[0mprint\u001b[0m\u001b[0;34m(\u001b[0m\u001b[0mgrocery\u001b[0m\u001b[0;34m)\u001b[0m \u001b[0;31m#So in a for loop you are using a new variable name because python will define it.\u001b[0m\u001b[0;34m\u001b[0m\u001b[0;34m\u001b[0m\u001b[0m\n\u001b[0m",
      "\u001b[0;31mNameError\u001b[0m: name 'grocery' is not defined"
     ]
    }
   ],
   "source": [
    "print(grocery) #So in a for loop you are using a new variable name because python will define it."
   ]
  },
  {
   "cell_type": "code",
   "execution_count": 36,
   "metadata": {},
   "outputs": [
    {
     "name": "stdout",
     "output_type": "stream",
     "text": [
      "eggs\n",
      "tofu\n",
      "milk\n",
      "chorizo\n",
      "potatoes\n",
      "tortillas\n",
      "candy\n"
     ]
    }
   ],
   "source": [
    "for grocery in grocery_list: # Think about this as saying \"for each name in grocery_list: do\"\n",
    "    print(grocery)"
   ]
  },
  {
   "cell_type": "markdown",
   "metadata": {},
   "source": [
    "Let's break it down. `grocery_list` is the list that we're going to _iterate_ over, or _loop_ over. When you say `for grocery in grocery_list`, here's what happens: \n",
    "* the `for` says you're going to start a `for` loop\n",
    "* `grocery` is a new variable that you're specifying, which the `grocery` loop is going to give values to. You can name this variable whatever you want\n",
    "* `in` says that each `grocery` is going to come from an element of the `grocery_list` list\n",
    "* `grocery_list` is the list that you're going to pull elements from\n",
    "\n",
    "Here's what is going to happen when the `for` loop is run:\n",
    "1. The `for` loop sets the variable `grocery` equal to the first item in `grocery_list` (which is `\"eggs\"`)\n",
    "2. The indented code is executed\n",
    "3. The `for` loop sets `grocery` equal to the second item in `grocery_list` (which is `\"tofu\"`)\n",
    "4. The indented code is executed\n",
    "5. The `for` loop sets `grocery` equal to the third item in `grocery_list` (which is `\"milk\"`)\n",
    "6. Repeat until you've iterated over every element in `grocery_list`\n",
    "\n",
    "### Example 7\n",
    "\n",
    "In the cell below, use the `for` loop above as a template to create a `for` loop that prints the price of each grocery from the `prices_list`."
   ]
  },
  {
   "cell_type": "code",
   "execution_count": 58,
   "metadata": {},
   "outputs": [
    {
     "name": "stdout",
     "output_type": "stream",
     "text": [
      "1.99\n",
      "2.99\n",
      "0.99\n",
      "3.99\n",
      "1.99\n",
      "0.99\n",
      "5.99\n"
     ]
    }
   ],
   "source": [
    "for price in prices_list: #The word price can be anything because the name of your variable doesn't matter and don't use a variable name you have used before.\n",
    "    print(price)"
   ]
  },
  {
   "cell_type": "markdown",
   "metadata": {},
   "source": [
    "## Making a table of groceries and their prices"
   ]
  },
  {
   "cell_type": "markdown",
   "metadata": {},
   "source": [
    "So, we want to make a table that has two columns, the first column has the groceries and the second has their prices. You might think, \"if a for loop iterates over one list, then how can we do something with two lists?\"\n",
    "\n",
    "This is where a new function called `range` comes in handy. Let's see what it does in the context of `for` loops."
   ]
  },
  {
   "cell_type": "code",
   "execution_count": 38,
   "metadata": {},
   "outputs": [
    {
     "name": "stdout",
     "output_type": "stream",
     "text": [
      "0\n",
      "1\n",
      "2\n",
      "3\n",
      "4\n"
     ]
    }
   ],
   "source": [
    "for i in range(5):\n",
    "    print(i)"
   ]
  },
  {
   "cell_type": "markdown",
   "metadata": {},
   "source": [
    "The `for` loop is first setting `i=0` and printing `i`, then it sets `i=1` and prints `i`, and keeps going until the last element, 4.\n",
    "\n",
    "The range function is producing a series of consecutive integers just like `np.arange` did. The argument `5` tells `range` to produce the numbers from zero to four.\n",
    "\n",
    "Now, let's recall how indexing of lists works. If we want to see the first element of the `grocery_list` list we would write `grocery_list[0]`, or `grocery_list[1]` for the second element of the list. \n",
    "\n",
    "So, let's print every grocery in the `grocery_list` with a `for` loop and indexing."
   ]
  },
  {
   "cell_type": "code",
   "execution_count": 39,
   "metadata": {},
   "outputs": [
    {
     "name": "stdout",
     "output_type": "stream",
     "text": [
      "7\n"
     ]
    }
   ],
   "source": [
    "number_of_groceries = len(grocery_list)\n",
    "print(number_of_groceries)"
   ]
  },
  {
   "cell_type": "code",
   "execution_count": 40,
   "metadata": {},
   "outputs": [
    {
     "name": "stdout",
     "output_type": "stream",
     "text": [
      "eggs\n",
      "tofu\n",
      "milk\n",
      "chorizo\n",
      "potatoes\n",
      "tortillas\n",
      "candy\n"
     ]
    }
   ],
   "source": [
    "for number in range(number_of_groceries):\n",
    "    print(grocery_list[number])"
   ]
  },
  {
   "cell_type": "markdown",
   "metadata": {},
   "source": [
    "So, you might think \"Hey! This is just the same as the code we wrote above where we said\n",
    "```python\n",
    "for grocery in grocery_list:\n",
    "    print(grocery)\n",
    "```\n",
    "what's the point of doing it a different way?\"\n",
    "\n",
    "Well, in this case, you're not iterating over ``grocery_list``, you're iterating over the indices of ``grocery_list``, and these indices can be used to index into other lists.\n",
    "\n",
    "Let's get back to our goal, printing each grocery and their corresponding price in two columns."
   ]
  },
  {
   "cell_type": "markdown",
   "metadata": {},
   "source": [
    "### Example 8\n",
    "\n",
    "Use a single for loop, the ```range``` function, and indexing to print each grocery and their corresponding price in a two-column format.\n",
    "\n",
    "**Heads up:** this is the toughest coding we've done so far, and it's going to be confusing. Nobody understands `for` loops the first time that they see them, so don't hesitate to ask for help. Remember to talk with your neighbors, and to raise your hand if you get stuck!"
   ]
  },
  {
   "cell_type": "code",
   "execution_count": 54,
   "metadata": {},
   "outputs": [
    {
     "name": "stdout",
     "output_type": "stream",
     "text": [
      "eggs 1.99\n",
      "tofu 2.99\n",
      "milk 0.99\n",
      "chorizo 3.99\n",
      "potatoes 1.99\n",
      "tortillas 0.99\n",
      "candy 5.99\n"
     ]
    }
   ],
   "source": [
    "number_of_groceries = len(grocery_list)\n",
    "prices_of_groceries_list = len(prices_list) #The prices_of_groceries represents 7 or the elements in the list\n",
    "for number in range(number_of_groceries): #Saying to print all seven elements into a list\n",
    "    print(grocery_list[number], prices_list[number]) "
   ]
  },
  {
   "cell_type": "markdown",
   "metadata": {},
   "source": [
    "### Example 9\n",
    "\n",
    "`for` loops are mostly useful for doing repeated calculations on items of a list. \n",
    "\n",
    "Let's assume that the store is having a sale, and all prices are cut in half!\n",
    "\n",
    "In the cell below, make a `for` loop that prints how much you'll actually pay for each price in ``prices_list``."
   ]
  },
  {
   "cell_type": "code",
   "execution_count": 56,
   "metadata": {},
   "outputs": [
    {
     "name": "stderr",
     "output_type": "stream",
     "text": [
      "<>:4: SyntaxWarning: 'int' object is not subscriptable; perhaps you missed a comma?\n",
      "<>:4: SyntaxWarning: 'int' object is not subscriptable; perhaps you missed a comma?\n",
      "/tmp/ipykernel_53/2023050585.py:4: SyntaxWarning: 'int' object is not subscriptable; perhaps you missed a comma?\n",
      "  print(grocery_list[number], prices_list / 2[number])\n"
     ]
    },
    {
     "ename": "TypeError",
     "evalue": "'int' object is not subscriptable",
     "output_type": "error",
     "traceback": [
      "\u001b[0;31m---------------------------------------------------------------------------\u001b[0m",
      "\u001b[0;31mTypeError\u001b[0m                                 Traceback (most recent call last)",
      "\u001b[0;32m/tmp/ipykernel_53/2023050585.py\u001b[0m in \u001b[0;36m<module>\u001b[0;34m\u001b[0m\n\u001b[1;32m      2\u001b[0m \u001b[0mprices_of_groceries_list\u001b[0m \u001b[0;34m=\u001b[0m \u001b[0mlen\u001b[0m\u001b[0;34m(\u001b[0m\u001b[0mprices_list\u001b[0m\u001b[0;34m)\u001b[0m \u001b[0;31m#The prices_of_groceries represents 7 or the elements in the list\u001b[0m\u001b[0;34m\u001b[0m\u001b[0;34m\u001b[0m\u001b[0m\n\u001b[1;32m      3\u001b[0m \u001b[0;32mfor\u001b[0m \u001b[0mnumber\u001b[0m \u001b[0;32min\u001b[0m \u001b[0mrange\u001b[0m\u001b[0;34m(\u001b[0m\u001b[0mnumber_of_groceries\u001b[0m\u001b[0;34m)\u001b[0m\u001b[0;34m:\u001b[0m \u001b[0;31m#Saying to print all seven elements into a list\u001b[0m\u001b[0;34m\u001b[0m\u001b[0;34m\u001b[0m\u001b[0m\n\u001b[0;32m----> 4\u001b[0;31m     \u001b[0mprint\u001b[0m\u001b[0;34m(\u001b[0m\u001b[0mgrocery_list\u001b[0m\u001b[0;34m[\u001b[0m\u001b[0mnumber\u001b[0m\u001b[0;34m]\u001b[0m\u001b[0;34m,\u001b[0m \u001b[0mprices_list\u001b[0m \u001b[0;34m/\u001b[0m \u001b[0;36m2\u001b[0m\u001b[0;34m[\u001b[0m\u001b[0mnumber\u001b[0m\u001b[0;34m]\u001b[0m\u001b[0;34m)\u001b[0m\u001b[0;34m\u001b[0m\u001b[0;34m\u001b[0m\u001b[0m\n\u001b[0m",
      "\u001b[0;31mTypeError\u001b[0m: 'int' object is not subscriptable"
     ]
    }
   ],
   "source": [
    "number_of_groceries = len(grocery_list)\n",
    "prices_of_groceries_list = len(prices_list) #The prices_of_groceries represents 7 or the elements in the list\n",
    "for number in range(number_of_groceries): #Saying to print all seven elements into a list\n",
    "    print(grocery_list[number], prices_list[number]) \n",
    "    \n"
   ]
  },
  {
   "cell_type": "code",
   "execution_count": 60,
   "metadata": {},
   "outputs": [
    {
     "name": "stdout",
     "output_type": "stream",
     "text": [
      "eggs 1.99\n",
      "tofu 2.99\n",
      "milk 0.99\n",
      "chorizo 3.99\n",
      "potatoes 1.99\n",
      "tortillas 0.99\n",
      "candy 5.99\n"
     ]
    }
   ],
   "source": [
    "#Answer Key:\n",
    "number_of_groceries = len(grocery_list) #Don't need an additional len b/c both prices and grocery lists had the same amount of elements.\n",
    "for index in range(number_of_groceries):\n",
    "    print(grocery_list[index], prices_list[index])"
   ]
  },
  {
   "cell_type": "code",
   "execution_count": 62,
   "metadata": {},
   "outputs": [
    {
     "name": "stdout",
     "output_type": "stream",
     "text": [
      "0.995\n",
      "1.495\n",
      "0.495\n",
      "1.995\n",
      "0.995\n",
      "0.495\n",
      "2.995\n"
     ]
    }
   ],
   "source": [
    "for index in range(len(prices_list)):\n",
    "    print(prices_list[index] / 2)"
   ]
  },
  {
   "cell_type": "markdown",
   "metadata": {},
   "source": [
    "### Making a list with for loops"
   ]
  },
  {
   "cell_type": "markdown",
   "metadata": {},
   "source": [
    "So far, we've seen examples where we wanted to get elements out of a list, but we also use `for` loops to add elements to lists. \n",
    "\n",
    "Let's make a new list of prices that represents how much you'll actually pay for each grocery.\n",
    "\n",
    "Without a `for` loop you would do that like this."
   ]
  },
  {
   "cell_type": "code",
   "execution_count": null,
   "metadata": {},
   "outputs": [],
   "source": [
    "actual_prices = [] # Make an empty list that we will add our discount prices to\n",
    "\n",
    "actual_prices.append(prices_list[0] / 2)\n",
    "actual_prices.append(prices_list[1] / 2)\n",
    "actual_prices.append(prices_list[2] / 2)\n",
    "actual_prices.append(prices_list[3] / 2)\n",
    "actual_prices.append(prices_list[4] / 2)\n",
    "actual_prices.append(prices_list[5] / 2)\n",
    "actual_prices.append(prices_list[6] / 2)\n",
    "\n",
    "print(actual_prices)"
   ]
  },
  {
   "cell_type": "markdown",
   "metadata": {},
   "source": [
    "\n",
    "Whenever you start doing something like the code above, you should think about using a for loop instead. It'll save you a lot of time and space. You can think of a for loop kind of like doing a copy and paste, but being able to slightly change whatever you're pasting each time you paste it."
   ]
  },
  {
   "cell_type": "markdown",
   "metadata": {},
   "source": [
    "### Example 10\n",
    "\n",
    "In the cell below, create an empty list called `actual_prices`, then using a `for` loop, append to it the actual price that you'll pay for each grocery. I.e., turn the too-long code in the cell above into some nice efficient code using a `for` loop."
   ]
  },
  {
   "cell_type": "code",
   "execution_count": 64,
   "metadata": {},
   "outputs": [
    {
     "name": "stdout",
     "output_type": "stream",
     "text": [
      "[0.995, 1.495, 0.495, 1.995, 0.995, 0.495, 2.995]\n"
     ]
    }
   ],
   "source": [
    "actual_prices = [] #An empty list to be filled by python.\n",
    "\n",
    "for index in range(len(prices_list)):\n",
    "    actual_prices.append(prices_list[index] / 2)\n",
    "\n",
    "print(actual_prices)"
   ]
  },
  {
   "cell_type": "markdown",
   "metadata": {},
   "source": [
    "## Combining control flow statements\n",
    "\n",
    "Now let's put everything together!\n",
    "\n",
    "### Example 11\n",
    "\n",
    "Do what you did in example 8, but only print the grocery and its corresponding price from the `actual_prices` list if the grocery's actual price is less than $1.50"
   ]
  },
  {
   "cell_type": "code",
   "execution_count": null,
   "metadata": {},
   "outputs": [],
   "source": []
  },
  {
   "cell_type": "code",
   "execution_count": 68,
   "metadata": {},
   "outputs": [
    {
     "name": "stdout",
     "output_type": "stream",
     "text": [
      "eggs 0.995\n",
      "tofu 1.495\n",
      "milk 0.495\n",
      "potatoes 0.995\n",
      "tortillas 0.495\n"
     ]
    }
   ],
   "source": [
    "# Answer Key (dense lines of code where you put all concepts together to do something useful):\n",
    "for index in range(number_of_groceries):\n",
    "    if actual_prices[index] < 1.5:\n",
    "        print(grocery_list[index], actual_prices[index])"
   ]
  },
  {
   "cell_type": "markdown",
   "metadata": {},
   "source": [
    "### Example 12\n",
    "\n",
    "Now, do you what you did in example 8, but only print the grocery and its corresponding price from the `actual_prices` list if the grocery's actual price is less than $1.50 `or` if that grocery's name is \"candy\""
   ]
  },
  {
   "cell_type": "code",
   "execution_count": null,
   "metadata": {},
   "outputs": [],
   "source": []
  },
  {
   "cell_type": "code",
   "execution_count": null,
   "metadata": {},
   "outputs": [],
   "source": []
  }
 ],
 "metadata": {
  "kernelspec": {
   "display_name": "Python 3 (ipykernel)",
   "language": "python",
   "name": "python3"
  },
  "language_info": {
   "codemirror_mode": {
    "name": "ipython",
    "version": 3
   },
   "file_extension": ".py",
   "mimetype": "text/x-python",
   "name": "python",
   "nbconvert_exporter": "python",
   "pygments_lexer": "ipython3",
   "version": "3.9.7"
  }
 },
 "nbformat": 4,
 "nbformat_minor": 4
}
