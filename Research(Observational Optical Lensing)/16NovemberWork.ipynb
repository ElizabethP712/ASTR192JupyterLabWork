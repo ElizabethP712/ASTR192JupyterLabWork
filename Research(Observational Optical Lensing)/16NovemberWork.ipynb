{
 "cells": [
  {
   "cell_type": "markdown",
   "id": "57f8a283-0f0e-4107-8bad-5583e50d8976",
   "metadata": {},
   "source": [
    "## November 16th Work - 4500 Light Curves from TESS"
   ]
  },
  {
   "cell_type": "code",
   "execution_count": 1,
   "id": "24eca510-ad9d-4cd4-9766-4b5f56699e7a",
   "metadata": {
    "collapsed": true,
    "jupyter": {
     "outputs_hidden": true
    },
    "tags": []
   },
   "outputs": [
    {
     "name": "stdout",
     "output_type": "stream",
     "text": [
      "Requirement already satisfied: lightkurve in /opt/conda/lib/python3.9/site-packages (2.3.0)\n",
      "Requirement already satisfied: memoization>=0.3.1 in /opt/conda/lib/python3.9/site-packages (from lightkurve) (0.4.0)\n",
      "Requirement already satisfied: uncertainties>=3.1.4 in /opt/conda/lib/python3.9/site-packages (from lightkurve) (3.1.6)\n",
      "Requirement already satisfied: astropy>=5.0 in /opt/conda/lib/python3.9/site-packages (from lightkurve) (5.1.1)\n",
      "Requirement already satisfied: beautifulsoup4>=4.6.0 in /opt/conda/lib/python3.9/site-packages (from lightkurve) (4.10.0)\n",
      "Requirement already satisfied: tqdm>=4.25.0 in /opt/conda/lib/python3.9/site-packages (from lightkurve) (4.62.3)\n",
      "Requirement already satisfied: oktopus>=0.1.2 in /opt/conda/lib/python3.9/site-packages (from lightkurve) (0.1.2)\n",
      "Requirement already satisfied: requests>=2.22.0 in /opt/conda/lib/python3.9/site-packages (from lightkurve) (2.26.0)\n",
      "Requirement already satisfied: patsy>=0.5.0 in /opt/conda/lib/python3.9/site-packages (from lightkurve) (0.5.2)\n",
      "Requirement already satisfied: urllib3>=1.23 in /opt/conda/lib/python3.9/site-packages (from lightkurve) (1.26.7)\n",
      "Requirement already satisfied: fbpca>=1.0 in /opt/conda/lib/python3.9/site-packages (from lightkurve) (1.0)\n",
      "Requirement already satisfied: astroquery>=0.3.10 in /opt/conda/lib/python3.9/site-packages (from lightkurve) (0.4.3)\n",
      "Requirement already satisfied: matplotlib>=3.1 in /opt/conda/lib/python3.9/site-packages (from lightkurve) (3.4.3)\n",
      "Requirement already satisfied: numpy>=1.18 in /opt/conda/lib/python3.9/site-packages (from lightkurve) (1.20.3)\n",
      "Requirement already satisfied: pandas>=1.1.4 in /opt/conda/lib/python3.9/site-packages (from lightkurve) (1.3.4)\n",
      "Requirement already satisfied: scikit-learn>=0.24.0 in /opt/conda/lib/python3.9/site-packages (from lightkurve) (1.0.1)\n",
      "Requirement already satisfied: scipy>=1.7 in /opt/conda/lib/python3.9/site-packages (from lightkurve) (1.7.1)\n",
      "Requirement already satisfied: bokeh>=1.1 in /opt/conda/lib/python3.9/site-packages (from lightkurve) (2.4.1)\n",
      "Requirement already satisfied: PyYAML>=3.13 in /opt/conda/lib/python3.9/site-packages (from astropy>=5.0->lightkurve) (6.0)\n",
      "Requirement already satisfied: packaging>=19.0 in /opt/conda/lib/python3.9/site-packages (from astropy>=5.0->lightkurve) (21.2)\n",
      "Requirement already satisfied: pyerfa>=2.0 in /opt/conda/lib/python3.9/site-packages (from astropy>=5.0->lightkurve) (2.0.0.1)\n",
      "Requirement already satisfied: html5lib>=0.999 in /opt/conda/lib/python3.9/site-packages (from astroquery>=0.3.10->lightkurve) (1.1)\n",
      "Requirement already satisfied: keyring>=4.0 in /opt/conda/lib/python3.9/site-packages (from astroquery>=0.3.10->lightkurve) (23.2.1)\n",
      "Requirement already satisfied: pyvo>=1.1 in /opt/conda/lib/python3.9/site-packages (from astroquery>=0.3.10->lightkurve) (1.1)\n",
      "Requirement already satisfied: six in /opt/conda/lib/python3.9/site-packages (from astroquery>=0.3.10->lightkurve) (1.16.0)\n",
      "Requirement already satisfied: soupsieve>1.2 in /opt/conda/lib/python3.9/site-packages (from beautifulsoup4>=4.6.0->lightkurve) (2.3)\n",
      "Requirement already satisfied: typing-extensions>=3.10.0 in /opt/conda/lib/python3.9/site-packages (from bokeh>=1.1->lightkurve) (3.10.0.2)\n",
      "Requirement already satisfied: tornado>=5.1 in /opt/conda/lib/python3.9/site-packages (from bokeh>=1.1->lightkurve) (6.1)\n",
      "Requirement already satisfied: Jinja2>=2.9 in /opt/conda/lib/python3.9/site-packages (from bokeh>=1.1->lightkurve) (3.0.2)\n",
      "Requirement already satisfied: pillow>=7.1.0 in /opt/conda/lib/python3.9/site-packages (from bokeh>=1.1->lightkurve) (8.3.2)\n",
      "Requirement already satisfied: python-dateutil>=2.7 in /opt/conda/lib/python3.9/site-packages (from matplotlib>=3.1->lightkurve) (2.8.2)\n",
      "Requirement already satisfied: kiwisolver>=1.0.1 in /opt/conda/lib/python3.9/site-packages (from matplotlib>=3.1->lightkurve) (1.3.2)\n",
      "Requirement already satisfied: pyparsing>=2.2.1 in /opt/conda/lib/python3.9/site-packages (from matplotlib>=3.1->lightkurve) (2.4.7)\n",
      "Requirement already satisfied: cycler>=0.10 in /opt/conda/lib/python3.9/site-packages (from matplotlib>=3.1->lightkurve) (0.11.0)\n",
      "Requirement already satisfied: autograd in /opt/conda/lib/python3.9/site-packages (from oktopus>=0.1.2->lightkurve) (1.5)\n",
      "Requirement already satisfied: pytz>=2017.3 in /opt/conda/lib/python3.9/site-packages (from pandas>=1.1.4->lightkurve) (2021.3)\n",
      "Requirement already satisfied: certifi>=2017.4.17 in /opt/conda/lib/python3.9/site-packages (from requests>=2.22.0->lightkurve) (2021.10.8)\n",
      "Requirement already satisfied: idna<4,>=2.5 in /opt/conda/lib/python3.9/site-packages (from requests>=2.22.0->lightkurve) (3.1)\n",
      "Requirement already satisfied: charset-normalizer~=2.0.0 in /opt/conda/lib/python3.9/site-packages (from requests>=2.22.0->lightkurve) (2.0.0)\n",
      "Requirement already satisfied: threadpoolctl>=2.0.0 in /opt/conda/lib/python3.9/site-packages (from scikit-learn>=0.24.0->lightkurve) (3.0.0)\n",
      "Requirement already satisfied: joblib>=0.11 in /opt/conda/lib/python3.9/site-packages (from scikit-learn>=0.24.0->lightkurve) (1.1.0)\n",
      "Requirement already satisfied: future in /opt/conda/lib/python3.9/site-packages (from uncertainties>=3.1.4->lightkurve) (0.18.2)\n",
      "Requirement already satisfied: webencodings in /opt/conda/lib/python3.9/site-packages (from html5lib>=0.999->astroquery>=0.3.10->lightkurve) (0.5.1)\n",
      "Requirement already satisfied: MarkupSafe>=2.0 in /opt/conda/lib/python3.9/site-packages (from Jinja2>=2.9->bokeh>=1.1->lightkurve) (2.0.1)\n",
      "Requirement already satisfied: SecretStorage>=3.2 in /opt/conda/lib/python3.9/site-packages (from keyring>=4.0->astroquery>=0.3.10->lightkurve) (3.3.1)\n",
      "Requirement already satisfied: importlib-metadata>=3.6 in /opt/conda/lib/python3.9/site-packages (from keyring>=4.0->astroquery>=0.3.10->lightkurve) (4.8.2)\n",
      "Requirement already satisfied: jeepney>=0.4.2 in /opt/conda/lib/python3.9/site-packages (from keyring>=4.0->astroquery>=0.3.10->lightkurve) (0.7.1)\n",
      "Requirement already satisfied: python-mimeparse in /opt/conda/lib/python3.9/site-packages (from pyvo>=1.1->astroquery>=0.3.10->lightkurve) (1.6.0)\n",
      "Requirement already satisfied: zipp>=0.5 in /opt/conda/lib/python3.9/site-packages (from importlib-metadata>=3.6->keyring>=4.0->astroquery>=0.3.10->lightkurve) (3.6.0)\n",
      "Requirement already satisfied: cryptography>=2.0 in /opt/conda/lib/python3.9/site-packages (from SecretStorage>=3.2->keyring>=4.0->astroquery>=0.3.10->lightkurve) (35.0.0)\n",
      "Requirement already satisfied: cffi>=1.12 in /opt/conda/lib/python3.9/site-packages (from cryptography>=2.0->SecretStorage>=3.2->keyring>=4.0->astroquery>=0.3.10->lightkurve) (1.15.0)\n",
      "Requirement already satisfied: pycparser in /opt/conda/lib/python3.9/site-packages (from cffi>=1.12->cryptography>=2.0->SecretStorage>=3.2->keyring>=4.0->astroquery>=0.3.10->lightkurve) (2.21)\n"
     ]
    }
   ],
   "source": [
    "!pip install lightkurve "
   ]
  },
  {
   "cell_type": "code",
   "execution_count": 2,
   "id": "3dcfcf46-f0e9-4644-85a3-f0ccf7b9a6be",
   "metadata": {},
   "outputs": [],
   "source": [
    "import lightkurve as lk\n",
    "import matplotlib.pyplot as plt\n",
    "%matplotlib inline\n",
    "import numpy as np\n",
    "from astropy.io import ascii\n",
    "\n",
    "# If you want your figures to look nicer and larger\n",
    "%config InlineBackend.figure_format = \"retina\"\n",
    "from matplotlib import rcParams\n",
    "rcParams[\"savefig.dpi\"] = 100\n",
    "rcParams[\"font.size\"] = 20"
   ]
  },
  {
   "cell_type": "code",
   "execution_count": 3,
   "id": "969c9821-afe6-4786-971e-f8b7e34d440b",
   "metadata": {},
   "outputs": [],
   "source": [
    "data = ascii.read(\"EB_TESScat.ascii\")"
   ]
  },
  {
   "cell_type": "code",
   "execution_count": 4,
   "id": "a6e03dc8-9d19-4aa9-b5bc-e27cee910150",
   "metadata": {
    "tags": []
   },
   "outputs": [
    {
     "name": "stdout",
     "output_type": "stream",
     "text": [
      "   TIC       period  \n",
      "---------- ----------\n",
      "     91961  5.2826248\n",
      "    101462  4.1739815\n",
      "    120016  0.3263708\n",
      "    627436  0.5789058\n",
      "    737546  3.0677452\n",
      "    927579  6.0705574\n",
      "   1003831   1.651149\n",
      "   1045298  1.4634139\n",
      "   1103432  3.7260484\n",
      "   1129033  1.3600996\n",
      "       ...        ...\n",
      "1102093577  0.2678155\n",
      "1400770435 13.7432308\n",
      "1551345500 47.3858687\n",
      "1713419350  0.1296923\n",
      "1883519478  7.6407461\n",
      "1957912171  0.1185566\n",
      "1981434198  0.3062443\n",
      "1981621672  0.2783084\n",
      "1992266045  6.6177363\n",
      "2003333263   0.220418\n",
      "2046417955  0.2358838\n",
      "Length = 4583 rows\n"
     ]
    }
   ],
   "source": [
    "print(data)"
   ]
  },
  {
   "cell_type": "code",
   "execution_count": 5,
   "id": "bf8ed34c-d769-4957-afc7-401d8cb41f18",
   "metadata": {},
   "outputs": [],
   "source": [
    "TESS_ID = data['TIC']\n",
    "Periods = data['period']\n",
    "Search_Indexes = np.where((Periods>8) & (Periods<12))\n"
   ]
  },
  {
   "cell_type": "code",
   "execution_count": 6,
   "id": "bba6ef4c-341d-439f-b6db-a8f640f6bf7b",
   "metadata": {
    "tags": []
   },
   "outputs": [
    {
     "name": "stdout",
     "output_type": "stream",
     "text": [
      "303\n"
     ]
    }
   ],
   "source": [
    "print(len(Search_Indexes[0]))"
   ]
  },
  {
   "cell_type": "code",
   "execution_count": null,
   "id": "d7598c26-be3a-4f39-a256-31ba451b8708",
   "metadata": {},
   "outputs": [
    {
     "name": "stderr",
     "output_type": "stream",
     "text": [
      "Warning: 30% (5871/19412) of the cadences will be ignored due to the quality mask (quality_bitmask=175).\n",
      "WARNING: File may have been truncated: actual file length (983040) is smaller than the expected size (1782720) [astropy.io.fits.file]\n",
      "WARNING: File may have been truncated: actual file length (983040) is smaller than the expected size (1782720) [astropy.io.fits.file]\n",
      "/tmp/ipykernel_304/3769448854.py:30: RuntimeWarning: More than 20 figures have been opened. Figures created through the pyplot interface (`matplotlib.pyplot.figure`) are retained until explicitly closed and may consume too much memory. (To control this warning, see the rcParam `figure.max_open_warning`).\n",
      "  plt.figure(figsize = (15,5))\n",
      "Warning: 30% (5871/19412) of the cadences will be ignored due to the quality mask (quality_bitmask=175).\n",
      "Warning: 30% (5871/19412) of the cadences will be ignored due to the quality mask (quality_bitmask=175).\n",
      "WARNING: File may have been truncated: actual file length (1048576) is smaller than the expected size (1846080) [astropy.io.fits.file]\n",
      "WARNING: File may have been truncated: actual file length (1048576) is smaller than the expected size (1846080) [astropy.io.fits.file]\n",
      "WARNING: File may have been truncated: actual file length (65536) is smaller than the expected size (1955520) [astropy.io.fits.file]\n",
      "WARNING: File may have been truncated: actual file length (65536) is smaller than the expected size (1955520) [astropy.io.fits.file]\n",
      "WARNING: File may have been truncated: actual file length (196608) is smaller than the expected size (1589760) [astropy.io.fits.file]\n",
      "WARNING: File may have been truncated: actual file length (196608) is smaller than the expected size (1589760) [astropy.io.fits.file]\n",
      "WARNING: File may have been truncated: actual file length (1638400) is smaller than the expected size (1955520) [astropy.io.fits.file]\n",
      "WARNING: File may have been truncated: actual file length (1638400) is smaller than the expected size (1955520) [astropy.io.fits.file]\n",
      "Warning: 30% (5871/19412) of the cadences will be ignored due to the quality mask (quality_bitmask=175).\n",
      "Warning: 30% (5871/19412) of the cadences will be ignored due to the quality mask (quality_bitmask=175).\n",
      "Warning: 30% (5871/19412) of the cadences will be ignored due to the quality mask (quality_bitmask=175).\n",
      "Warning: 30% (5871/19412) of the cadences will be ignored due to the quality mask (quality_bitmask=175).\n",
      "Warning: 30% (5871/19412) of the cadences will be ignored due to the quality mask (quality_bitmask=175).\n",
      "Warning: 30% (5871/19412) of the cadences will be ignored due to the quality mask (quality_bitmask=175).\n",
      "Warning: 30% (5871/19412) of the cadences will be ignored due to the quality mask (quality_bitmask=175).\n",
      "Warning: 30% (5871/19412) of the cadences will be ignored due to the quality mask (quality_bitmask=175).\n"
     ]
    }
   ],
   "source": [
    "for p, _id in zip(Periods[Search_Indexes], TESS_ID[Search_Indexes]):\n",
    "    #print(p, _id), and now we have a new table with the period and ID's\n",
    "    try:\n",
    "        \n",
    "        search_result = lk.search_lightcurve(f'TIC {_id}',author=\"SPOC\",exptime=120) #We are querying the TESS catalog so what the telescope observed; we wanted sectors with ID TIC, the author is the process in how the photometry is being measured & SPOC - an automatic way, exptime = exposure time in seconds.\n",
    "        #print(search_result.mission, type(search_result))\n",
    "\n",
    "        #mission = search_result['mission']\n",
    "        #exposure = search_result['exptime']\n",
    "        #Above is the typical way for calling columns in a data table, but this is a special case where the search result is an object, while the data is a table.\n",
    "\n",
    "        mission = search_result.mission #Mission was the sector, and a sector is when TESS returns to the same part of the sky and repeats measurements. \n",
    "        exposure = search_result.exptime #Exptime was exposure time again in seconds\n",
    "        #print(mission, exposure)\n",
    "\n",
    "\n",
    "        list_lc = search_result.download_all() #Downloaded all the available light curves from the available sectors in a list\n",
    "        \n",
    "        flux, time = [], [] #Empty lists with flux (or brightness) & time\n",
    "        for lc in list_lc: #We are going through each light curve and calling it list_lc\n",
    "            lc = lc.remove_nans() #Removed \"empty\" or \"unavailable\" results\n",
    "            lc = lc.normalize() # normalize light curve - we are saying take all the sectors and make sure they are on the same scale of brightness (electronics can change background noise but for light)\n",
    "            t, f = lc['time'], lc['flux'] #We are going through each light curve and extracting the time and flux\n",
    "            flux.append(f.unmasked.value) #Give me all the fluxes that have values (so nans didn't remove all empty data)\n",
    "            time.append(t.value) #We are appending the time to the empty time list\n",
    "\n",
    "        master_time = np.concatenate(time) #Stitches them all together\n",
    "        master_flux = np.concatenate(flux) #Stitches them all together \n",
    "\n",
    "        plt.figure(figsize = (15,5))\n",
    "        plt.scatter(master_time%p, master_flux) #For just light curves do plt.scatter(master_time, master_flux)\n",
    "        plt.xlabel(\"Phase[days]\")\n",
    "        plt.ylabel(\"Flux\")\n",
    "        plt.title(f\"Phase Folded Light Curve of TIC {_id}, #Sector(s):{len(mission)}\")\n",
    "        fig_list = plt.savefig(f\"TESSPeriodCurves/fig_{_id}.png\", bbox_inches='tight', format='png') #I want to make this process automated, meaning it will move files into a labeled folder, but through code b/c manually takes forever). \n",
    "        #shutil.move(fig_list, TESSPeriodCurves)\n",
    "        \n",
    "    except:\n",
    "        continue\n",
    "    "
   ]
  },
  {
   "cell_type": "code",
   "execution_count": null,
   "id": "e43a41f6-0ae9-4dd4-8e6a-0acb162e45d5",
   "metadata": {},
   "outputs": [],
   "source": [
    "#Friday: TESS article reading! How many sectores, time for light exposure, investigate light curves. Also modify code to have the observed light curve with the period that spliced together different sectors.\n",
    "#plt.savefig(f\"fig_{_id}.pdf\", bbox_inches='tight', format='pdf')"
   ]
  },
  {
   "cell_type": "code",
   "execution_count": 8,
   "id": "c8bb6b2a-49df-4ead-bb75-14053df5ecce",
   "metadata": {},
   "outputs": [],
   "source": [
    "#Goals:\n",
    "#Part 1 - Organize Files (how do I move them into their own directory?)\n",
    "#Part 2 - Interpret Files\n",
    "#Part 3 - Getting them to display on the screen in a nice fashion (should probably take this piece by piece)\n",
    "#I was able to download over 200 different eliptic binary systems."
   ]
  },
  {
   "cell_type": "code",
   "execution_count": null,
   "id": "96eee322-e6ae-4e9a-b803-5189e97e1e3c",
   "metadata": {},
   "outputs": [],
   "source": []
  }
 ],
 "metadata": {
  "kernelspec": {
   "display_name": "Python 3 (ipykernel)",
   "language": "python",
   "name": "python3"
  },
  "language_info": {
   "codemirror_mode": {
    "name": "ipython",
    "version": 3
   },
   "file_extension": ".py",
   "mimetype": "text/x-python",
   "name": "python",
   "nbconvert_exporter": "python",
   "pygments_lexer": "ipython3",
   "version": "3.9.7"
  }
 },
 "nbformat": 4,
 "nbformat_minor": 5
}
