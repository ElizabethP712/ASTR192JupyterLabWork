{
 "cells": [
  {
   "cell_type": "markdown",
   "id": "5406c7a5-0537-432f-878d-baf90029250e",
   "metadata": {},
   "source": [
    "# November 11th/16th Notebook - Cross Matching TESS & OGLE Ellipsoidal Varying Binaries"
   ]
  },
  {
   "cell_type": "code",
   "execution_count": 1,
   "id": "8e44e1a1-e2b8-4d4a-8691-89bed6bf8172",
   "metadata": {
    "collapsed": true,
    "jupyter": {
     "outputs_hidden": true
    },
    "tags": []
   },
   "outputs": [
    {
     "name": "stdout",
     "output_type": "stream",
     "text": [
      "Requirement already satisfied: lightkurve in /opt/conda/lib/python3.9/site-packages (2.3.0)\n",
      "Requirement already satisfied: fbpca>=1.0 in /opt/conda/lib/python3.9/site-packages (from lightkurve) (1.0)\n",
      "Requirement already satisfied: requests>=2.22.0 in /opt/conda/lib/python3.9/site-packages (from lightkurve) (2.26.0)\n",
      "Requirement already satisfied: tqdm>=4.25.0 in /opt/conda/lib/python3.9/site-packages (from lightkurve) (4.62.3)\n",
      "Requirement already satisfied: memoization>=0.3.1 in /opt/conda/lib/python3.9/site-packages (from lightkurve) (0.4.0)\n",
      "Requirement already satisfied: numpy>=1.18 in /opt/conda/lib/python3.9/site-packages (from lightkurve) (1.20.3)\n",
      "Requirement already satisfied: astropy>=5.0 in /opt/conda/lib/python3.9/site-packages (from lightkurve) (5.1.1)\n",
      "Requirement already satisfied: matplotlib>=3.1 in /opt/conda/lib/python3.9/site-packages (from lightkurve) (3.4.3)\n",
      "Requirement already satisfied: uncertainties>=3.1.4 in /opt/conda/lib/python3.9/site-packages (from lightkurve) (3.1.6)\n",
      "Requirement already satisfied: patsy>=0.5.0 in /opt/conda/lib/python3.9/site-packages (from lightkurve) (0.5.2)\n",
      "Requirement already satisfied: astroquery>=0.3.10 in /opt/conda/lib/python3.9/site-packages (from lightkurve) (0.4.3)\n",
      "Requirement already satisfied: beautifulsoup4>=4.6.0 in /opt/conda/lib/python3.9/site-packages (from lightkurve) (4.10.0)\n",
      "Requirement already satisfied: scipy>=1.7 in /opt/conda/lib/python3.9/site-packages (from lightkurve) (1.7.1)\n",
      "Requirement already satisfied: bokeh>=1.1 in /opt/conda/lib/python3.9/site-packages (from lightkurve) (2.4.1)\n",
      "Requirement already satisfied: pandas>=1.1.4 in /opt/conda/lib/python3.9/site-packages (from lightkurve) (1.3.4)\n",
      "Requirement already satisfied: scikit-learn>=0.24.0 in /opt/conda/lib/python3.9/site-packages (from lightkurve) (1.0.1)\n",
      "Requirement already satisfied: oktopus>=0.1.2 in /opt/conda/lib/python3.9/site-packages (from lightkurve) (0.1.2)\n",
      "Requirement already satisfied: urllib3>=1.23 in /opt/conda/lib/python3.9/site-packages (from lightkurve) (1.26.7)\n",
      "Requirement already satisfied: PyYAML>=3.13 in /opt/conda/lib/python3.9/site-packages (from astropy>=5.0->lightkurve) (6.0)\n",
      "Requirement already satisfied: packaging>=19.0 in /opt/conda/lib/python3.9/site-packages (from astropy>=5.0->lightkurve) (21.2)\n",
      "Requirement already satisfied: pyerfa>=2.0 in /opt/conda/lib/python3.9/site-packages (from astropy>=5.0->lightkurve) (2.0.0.1)\n",
      "Requirement already satisfied: html5lib>=0.999 in /opt/conda/lib/python3.9/site-packages (from astroquery>=0.3.10->lightkurve) (1.1)\n",
      "Requirement already satisfied: keyring>=4.0 in /opt/conda/lib/python3.9/site-packages (from astroquery>=0.3.10->lightkurve) (23.2.1)\n",
      "Requirement already satisfied: pyvo>=1.1 in /opt/conda/lib/python3.9/site-packages (from astroquery>=0.3.10->lightkurve) (1.1)\n",
      "Requirement already satisfied: six in /opt/conda/lib/python3.9/site-packages (from astroquery>=0.3.10->lightkurve) (1.16.0)\n",
      "Requirement already satisfied: soupsieve>1.2 in /opt/conda/lib/python3.9/site-packages (from beautifulsoup4>=4.6.0->lightkurve) (2.3)\n",
      "Requirement already satisfied: typing-extensions>=3.10.0 in /opt/conda/lib/python3.9/site-packages (from bokeh>=1.1->lightkurve) (3.10.0.2)\n",
      "Requirement already satisfied: tornado>=5.1 in /opt/conda/lib/python3.9/site-packages (from bokeh>=1.1->lightkurve) (6.1)\n",
      "Requirement already satisfied: pillow>=7.1.0 in /opt/conda/lib/python3.9/site-packages (from bokeh>=1.1->lightkurve) (8.3.2)\n",
      "Requirement already satisfied: Jinja2>=2.9 in /opt/conda/lib/python3.9/site-packages (from bokeh>=1.1->lightkurve) (3.0.2)\n",
      "Requirement already satisfied: python-dateutil>=2.7 in /opt/conda/lib/python3.9/site-packages (from matplotlib>=3.1->lightkurve) (2.8.2)\n",
      "Requirement already satisfied: kiwisolver>=1.0.1 in /opt/conda/lib/python3.9/site-packages (from matplotlib>=3.1->lightkurve) (1.3.2)\n",
      "Requirement already satisfied: cycler>=0.10 in /opt/conda/lib/python3.9/site-packages (from matplotlib>=3.1->lightkurve) (0.11.0)\n",
      "Requirement already satisfied: pyparsing>=2.2.1 in /opt/conda/lib/python3.9/site-packages (from matplotlib>=3.1->lightkurve) (2.4.7)\n",
      "Requirement already satisfied: autograd in /opt/conda/lib/python3.9/site-packages (from oktopus>=0.1.2->lightkurve) (1.5)\n",
      "Requirement already satisfied: pytz>=2017.3 in /opt/conda/lib/python3.9/site-packages (from pandas>=1.1.4->lightkurve) (2021.3)\n",
      "Requirement already satisfied: idna<4,>=2.5 in /opt/conda/lib/python3.9/site-packages (from requests>=2.22.0->lightkurve) (3.1)\n",
      "Requirement already satisfied: charset-normalizer~=2.0.0 in /opt/conda/lib/python3.9/site-packages (from requests>=2.22.0->lightkurve) (2.0.0)\n",
      "Requirement already satisfied: certifi>=2017.4.17 in /opt/conda/lib/python3.9/site-packages (from requests>=2.22.0->lightkurve) (2021.10.8)\n",
      "Requirement already satisfied: threadpoolctl>=2.0.0 in /opt/conda/lib/python3.9/site-packages (from scikit-learn>=0.24.0->lightkurve) (3.0.0)\n",
      "Requirement already satisfied: joblib>=0.11 in /opt/conda/lib/python3.9/site-packages (from scikit-learn>=0.24.0->lightkurve) (1.1.0)\n",
      "Requirement already satisfied: future in /opt/conda/lib/python3.9/site-packages (from uncertainties>=3.1.4->lightkurve) (0.18.2)\n",
      "Requirement already satisfied: webencodings in /opt/conda/lib/python3.9/site-packages (from html5lib>=0.999->astroquery>=0.3.10->lightkurve) (0.5.1)\n",
      "Requirement already satisfied: MarkupSafe>=2.0 in /opt/conda/lib/python3.9/site-packages (from Jinja2>=2.9->bokeh>=1.1->lightkurve) (2.0.1)\n",
      "Requirement already satisfied: jeepney>=0.4.2 in /opt/conda/lib/python3.9/site-packages (from keyring>=4.0->astroquery>=0.3.10->lightkurve) (0.7.1)\n",
      "Requirement already satisfied: SecretStorage>=3.2 in /opt/conda/lib/python3.9/site-packages (from keyring>=4.0->astroquery>=0.3.10->lightkurve) (3.3.1)\n",
      "Requirement already satisfied: importlib-metadata>=3.6 in /opt/conda/lib/python3.9/site-packages (from keyring>=4.0->astroquery>=0.3.10->lightkurve) (4.8.2)\n",
      "Requirement already satisfied: python-mimeparse in /opt/conda/lib/python3.9/site-packages (from pyvo>=1.1->astroquery>=0.3.10->lightkurve) (1.6.0)\n",
      "Requirement already satisfied: zipp>=0.5 in /opt/conda/lib/python3.9/site-packages (from importlib-metadata>=3.6->keyring>=4.0->astroquery>=0.3.10->lightkurve) (3.6.0)\n",
      "Requirement already satisfied: cryptography>=2.0 in /opt/conda/lib/python3.9/site-packages (from SecretStorage>=3.2->keyring>=4.0->astroquery>=0.3.10->lightkurve) (35.0.0)\n",
      "Requirement already satisfied: cffi>=1.12 in /opt/conda/lib/python3.9/site-packages (from cryptography>=2.0->SecretStorage>=3.2->keyring>=4.0->astroquery>=0.3.10->lightkurve) (1.15.0)\n",
      "Requirement already satisfied: pycparser in /opt/conda/lib/python3.9/site-packages (from cffi>=1.12->cryptography>=2.0->SecretStorage>=3.2->keyring>=4.0->astroquery>=0.3.10->lightkurve) (2.21)\n"
     ]
    }
   ],
   "source": [
    "!pip install lightkurve "
   ]
  },
  {
   "cell_type": "code",
   "execution_count": 3,
   "id": "0e7dbea5-7901-4653-9744-eb1f8ac6ba8f",
   "metadata": {},
   "outputs": [],
   "source": [
    "import lightkurve as lk\n",
    "import matplotlib.pyplot as plt\n",
    "%matplotlib inline\n",
    "import numpy as np\n",
    "from astropy.io import ascii\n",
    "\n",
    "# If you want your figures to look nicer and larger\n",
    "%config InlineBackend.figure_format = \"retina\"\n",
    "from matplotlib import rcParams\n",
    "rcParams[\"savefig.dpi\"] = 100\n",
    "rcParams[\"font.size\"] = 20"
   ]
  },
  {
   "cell_type": "code",
   "execution_count": 4,
   "id": "a69b8c1d-3eca-4b27-99d4-a10c82676bba",
   "metadata": {},
   "outputs": [
    {
     "name": "stderr",
     "output_type": "stream",
     "text": [
      "WARNING: AstropyDeprecationWarning: \"pedantic\" was deprecated in version 5.0 and will be removed in a future version. Use argument \"verify\" instead. [astroquery.vizier.core]\n"
     ]
    }
   ],
   "source": [
    "# Catalog containing all the OGLE information\n",
    "\n",
    "# We will be using the OGLE light curves \n",
    "cat = \"J/AcA/66/405\" # OGLE table name on Vizier\n",
    "from astroquery.vizier import Vizier #Think of Vizier as a database of published catalogs of tables\n",
    "Vizier.ROW_LIMIT = -1 #Give me all the data which is -1, but there are some with a million which you might want to capsize. \n",
    "catalogs = Vizier.get_catalogs(cat) # catalogs, searches for the catalog"
   ]
  },
  {
   "cell_type": "code",
   "execution_count": 5,
   "id": "a2f2850e-e53d-4fd9-911b-2afec828d331",
   "metadata": {},
   "outputs": [
    {
     "name": "stdout",
     "output_type": "stream",
     "text": [
      "TableList with 4 tables:\n",
      "\t'0:J/AcA/66/405/ident' with 10 column(s) and 450598 row(s) \n",
      "\t'1:J/AcA/66/405/ecl' with 8 column(s) and 425193 row(s) \n",
      "\t'2:J/AcA/66/405/ell' with 8 column(s) and 25405 row(s) \n",
      "\t'3:J/AcA/66/405/remarks' with 2 column(s) and 681 row(s) \n"
     ]
    }
   ],
   "source": [
    "print(catalogs)"
   ]
  },
  {
   "cell_type": "code",
   "execution_count": 6,
   "id": "ef8e1f54-a0df-4748-a014-37f7018db55a",
   "metadata": {},
   "outputs": [],
   "source": [
    "#On the website you would open up the website; 0 is the identification of stars so the coordinates, 2 was the parameters of ellipsoidal binary systems "
   ]
  },
  {
   "cell_type": "code",
   "execution_count": null,
   "id": "c182eb88-a98d-4689-8311-f729d451cc88",
   "metadata": {},
   "outputs": [],
   "source": [
    "#What to do on Wednesday:\n",
    "#Step 1 - define the tables we want, then index into them\n",
    "#Step 2 - Then we want to cross match all the names and coordinates from table 0 to table 2 through the ID, and then we match the coordinates to TESS\n",
    "#Step 3 - Look at what periods we want and a magnitude range of what we want (brightness)\n",
    "#Hints: \n",
    "    #We will be using the OGLE light curves\n",
    "    #cat = \"J/\n",
    "    \n",
    "# Catalog containing all the OGLE information\n",
    "\n",
    "# We will be using the OGLE light curves \n",
    "#cat = \"J/AcA/66/405\" # OGLE\n",
    "#from astroquery.vizier import Vizier\n",
    "#Vizier.ROW_LIMIT = -1\n",
    "#catalogs = Vizier.get_catalogs(cat) # catalogs\n",
    "\n"
   ]
  }
 ],
 "metadata": {
  "kernelspec": {
   "display_name": "Python 3 (ipykernel)",
   "language": "python",
   "name": "python3"
  },
  "language_info": {
   "codemirror_mode": {
    "name": "ipython",
    "version": 3
   },
   "file_extension": ".py",
   "mimetype": "text/x-python",
   "name": "python",
   "nbconvert_exporter": "python",
   "pygments_lexer": "ipython3",
   "version": "3.9.7"
  }
 },
 "nbformat": 4,
 "nbformat_minor": 5
}
